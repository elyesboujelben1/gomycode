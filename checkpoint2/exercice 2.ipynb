{
 "cells": [
  {
   "cell_type": "code",
   "execution_count": 1,
   "metadata": {},
   "outputs": [
    {
     "name": "stdout",
     "output_type": "stream",
     "text": [
      "on s'intéresse à calculer le factoriel d'un entier n\n",
      "plus précisément le produit des nombres concécutifs allant de 1 à n inclu\n",
      "entrez un entier pour calculer son factoriel 8\n",
      "40320\n",
      "voulez-vous continuer? repondez par oui ou non oui\n",
      "on s'intéresse à calculer le factoriel d'un entier n\n",
      "plus précisément le produit des nombres concécutifs allant de 1 à n inclu\n",
      "entrez un entier pour calculer son factoriel 5\n",
      "120\n",
      "voulez-vous continuer? repondez par oui ou non 7\n",
      "on s'intéresse à calculer le factoriel d'un entier n\n",
      "plus précisément le produit des nombres concécutifs allant de 1 à n inclu\n",
      "entrez un entier pour calculer son factoriel \n"
     ]
    },
    {
     "ename": "ValueError",
     "evalue": "invalid literal for int() with base 10: ''",
     "output_type": "error",
     "traceback": [
      "\u001b[1;31m---------------------------------------------------------------------------\u001b[0m",
      "\u001b[1;31mValueError\u001b[0m                                Traceback (most recent call last)",
      "\u001b[1;32m<ipython-input-1-d7f5036ed53e>\u001b[0m in \u001b[0;36m<module>\u001b[1;34m\u001b[0m\n\u001b[0;32m      4\u001b[0m     \u001b[0mprint\u001b[0m\u001b[1;33m(\u001b[0m\u001b[1;34m\"on s'intéresse à calculer le factoriel d'un entier n\"\u001b[0m\u001b[1;33m)\u001b[0m\u001b[1;33m\u001b[0m\u001b[1;33m\u001b[0m\u001b[0m\n\u001b[0;32m      5\u001b[0m     \u001b[0mprint\u001b[0m\u001b[1;33m(\u001b[0m\u001b[1;34m\"plus précisément le produit des nombres concécutifs allant de 1 à n inclu\"\u001b[0m\u001b[1;33m)\u001b[0m\u001b[1;33m\u001b[0m\u001b[1;33m\u001b[0m\u001b[0m\n\u001b[1;32m----> 6\u001b[1;33m     \u001b[0mn\u001b[0m \u001b[1;33m=\u001b[0m \u001b[0mint\u001b[0m\u001b[1;33m(\u001b[0m\u001b[0minput\u001b[0m\u001b[1;33m(\u001b[0m\u001b[1;34m\"entrez un entier pour calculer son factoriel \"\u001b[0m\u001b[1;33m)\u001b[0m\u001b[1;33m)\u001b[0m\u001b[1;33m\u001b[0m\u001b[1;33m\u001b[0m\u001b[0m\n\u001b[0m\u001b[0;32m      7\u001b[0m     \u001b[1;32mfor\u001b[0m \u001b[0mi\u001b[0m \u001b[1;32min\u001b[0m \u001b[0mrange\u001b[0m \u001b[1;33m(\u001b[0m\u001b[0mn\u001b[0m\u001b[1;33m)\u001b[0m\u001b[1;33m:\u001b[0m\u001b[1;33m\u001b[0m\u001b[1;33m\u001b[0m\u001b[0m\n\u001b[0;32m      8\u001b[0m         \u001b[0msomme\u001b[0m \u001b[1;33m=\u001b[0m \u001b[0msomme\u001b[0m\u001b[1;33m*\u001b[0m\u001b[1;33m(\u001b[0m\u001b[0mi\u001b[0m\u001b[1;33m+\u001b[0m\u001b[1;36m1\u001b[0m\u001b[1;33m)\u001b[0m\u001b[1;33m\u001b[0m\u001b[1;33m\u001b[0m\u001b[0m\n",
      "\u001b[1;31mValueError\u001b[0m: invalid literal for int() with base 10: ''"
     ]
    }
   ],
   "source": [
    "continuer = True\n",
    "while continuer:\n",
    "    somme = 1\n",
    "    print(\"on s'intéresse à calculer le factoriel d'un entier n\")\n",
    "    print(\"plus précisément le produit des nombres concécutifs allant de 1 à n inclu\")\n",
    "    n = int(input(\"entrez un entier pour calculer son factoriel \"))\n",
    "    for i in range (n):\n",
    "        somme = somme*(i+1)\n",
    "    print (somme)\n",
    "    x=input(\"voulez-vous continuer? repondez par oui ou non \")\n",
    "    if x.lower()==\"non\":\n",
    "        continuer= False"
   ]
  },
  {
   "cell_type": "code",
   "execution_count": null,
   "metadata": {},
   "outputs": [],
   "source": []
  }
 ],
 "metadata": {
  "kernelspec": {
   "display_name": "Python 3",
   "language": "python",
   "name": "python3"
  },
  "language_info": {
   "codemirror_mode": {
    "name": "ipython",
    "version": 3
   },
   "file_extension": ".py",
   "mimetype": "text/x-python",
   "name": "python",
   "nbconvert_exporter": "python",
   "pygments_lexer": "ipython3",
   "version": "3.8.3"
  }
 },
 "nbformat": 4,
 "nbformat_minor": 4
}
