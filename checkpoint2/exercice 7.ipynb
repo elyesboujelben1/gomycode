{
 "cells": [
  {
   "cell_type": "code",
   "execution_count": 1,
   "metadata": {},
   "outputs": [
    {
     "name": "stdout",
     "output_type": "stream",
     "text": [
      "entrez les valeurs avec lesquelles on va travailler566,652,6416\n",
      "[43, 47, 146] est la liste des résultats\n",
      "voulez-vous continuer?non\n"
     ]
    }
   ],
   "source": [
    "import math\n",
    "c=50\n",
    "h=30\n",
    "continuer=True\n",
    "while continuer:\n",
    "    \n",
    "    listresultat=[]\n",
    "    valeurs = input(\"entrez les valeurs avec lesquelles on va travailler\")\n",
    "    listf=valeurs.split(\",\")\n",
    "    for i in listf:\n",
    "        resultat=math.sqrt((2*c*int(i)/h))\n",
    "    \n",
    "        listresultat.append(round(resultat))\n",
    "    print (listresultat,\"est la liste des résultats\")\n",
    "    x=input(\"voulez-vous continuer?\")\n",
    "    if x ==\"non\":\n",
    "        continuer =False"
   ]
  }
 ],
 "metadata": {
  "kernelspec": {
   "display_name": "Python 3",
   "language": "python",
   "name": "python3"
  },
  "language_info": {
   "codemirror_mode": {
    "name": "ipython",
    "version": 3
   },
   "file_extension": ".py",
   "mimetype": "text/x-python",
   "name": "python",
   "nbconvert_exporter": "python",
   "pygments_lexer": "ipython3",
   "version": "3.8.3"
  }
 },
 "nbformat": 4,
 "nbformat_minor": 4
}
