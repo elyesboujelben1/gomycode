{
 "cells": [
  {
   "cell_type": "code",
   "execution_count": 2,
   "metadata": {},
   "outputs": [
    {
     "name": "stdout",
     "output_type": "stream",
     "text": [
      "on s'intéresse à prendre un objet 'string' non vide et à donner un entier n dont on va tirer la lettre n° n de cet objet\n",
      "entrez le motabcdefgh\n",
      "entrez le numero de la lettre à enlever 2\n",
      "le nouveau mot est:  abdefgh\n",
      "voulez-vous continuer? repondez par oui ou non non\n"
     ]
    }
   ],
   "source": [
    "continuer = True\n",
    "while continuer:\n",
    "    print(\"on s'intéresse à prendre un objet 'string' non vide et à donner un entier n dont on va tirer la lettre n° n de cet objet\")\n",
    "    mot = input(\"entrez le mot\")\n",
    "    vrai = True\n",
    "    while vrai:\n",
    "        \n",
    "        n=int(input(\"entrez le numero de la lettre à enlever \"))\n",
    "        if n<0:\n",
    "            print (\"cette valeur est fausse\")\n",
    "        if n>len(mot) :\n",
    "            print (\"cette valeur est fausse\")\n",
    "        else:\n",
    "            vrai= False\n",
    "    nouveaum=mot[:n]+mot[n+1:]\n",
    "    print(\"le nouveau mot est: \",nouveaum)\n",
    "    x=input(\"voulez-vous continuer? repondez par oui ou non \")\n",
    "    if x.lower()==\"non\":\n",
    "        continuer= False"
   ]
  },
  {
   "cell_type": "code",
   "execution_count": null,
   "metadata": {},
   "outputs": [],
   "source": []
  }
 ],
 "metadata": {
  "kernelspec": {
   "display_name": "Python 3",
   "language": "python",
   "name": "python3"
  },
  "language_info": {
   "codemirror_mode": {
    "name": "ipython",
    "version": 3
   },
   "file_extension": ".py",
   "mimetype": "text/x-python",
   "name": "python",
   "nbconvert_exporter": "python",
   "pygments_lexer": "ipython3",
   "version": "3.8.3"
  }
 },
 "nbformat": 4,
 "nbformat_minor": 4
}
