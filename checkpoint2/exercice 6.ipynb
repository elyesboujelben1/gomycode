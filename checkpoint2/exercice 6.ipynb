{
 "cells": [
  {
   "cell_type": "code",
   "execution_count": 2,
   "metadata": {},
   "outputs": [
    {
     "name": "stdout",
     "output_type": "stream",
     "text": [
      "le premier tableau est:  [0 1 2]\n",
      "le deuxieme tableau est:  [2 1 0]\n",
      "la covarience des deux tableaux est:  [[ 1. -1.]\n",
      " [-1.  1.]]\n"
     ]
    }
   ],
   "source": [
    "import numpy as np\n",
    "arrayone=np.array([0,1,2])\n",
    "arraytwo=np.array([2,1,0])\n",
    "a=\"le premier tableau est: \"\n",
    "b = \"le deuxieme tableau est: \"\n",
    "print(a,arrayone)\n",
    "print(b,arraytwo)\n",
    "print(\"la covarience des deux tableaux est: \" ,np.cov(arrayone,arraytwo))"
   ]
  },
  {
   "cell_type": "code",
   "execution_count": null,
   "metadata": {},
   "outputs": [],
   "source": []
  }
 ],
 "metadata": {
  "kernelspec": {
   "display_name": "Python 3",
   "language": "python",
   "name": "python3"
  },
  "language_info": {
   "codemirror_mode": {
    "name": "ipython",
    "version": 3
   },
   "file_extension": ".py",
   "mimetype": "text/x-python",
   "name": "python",
   "nbconvert_exporter": "python",
   "pygments_lexer": "ipython3",
   "version": "3.8.3"
  }
 },
 "nbformat": 4,
 "nbformat_minor": 4
}
