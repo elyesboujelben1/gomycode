{
 "cells": [
  {
   "cell_type": "code",
   "execution_count": 1,
   "metadata": {},
   "outputs": [
    {
     "name": "stdout",
     "output_type": "stream",
     "text": [
      "on s'intéresse à faire une dictionnaire d'un entier n contenant tous les entiers entre 1 et n avec leurs carrés respectifs\n",
      "entrez le réel n pour cette opération5\n",
      "{1: 1, 2: 4, 3: 9, 4: 16, 5: 25}\n",
      "voulez-vous continuer? repondez par oui ou non non\n"
     ]
    }
   ],
   "source": [
    "continuer = True\n",
    "while continuer:\n",
    "    dict = {}\n",
    "    print(\"on s'intéresse à faire une dictionnaire d'un entier n contenant tous les entiers entre 1 et n avec leurs carrés respectifs\")\n",
    "    n=int(input(\"entrez le réel n pour cette opération\"))\n",
    "    for i in range (n):\n",
    "        dict[i+1]=(i+1)*(i+1)\n",
    "    print (dict)\n",
    "    x=input(\"voulez-vous continuer? repondez par oui ou non \")\n",
    "    if x.lower()==\"non\":\n",
    "        continuer= False\n",
    "    "
   ]
  },
  {
   "cell_type": "code",
   "execution_count": null,
   "metadata": {},
   "outputs": [],
   "source": []
  }
 ],
 "metadata": {
  "kernelspec": {
   "display_name": "Python 3",
   "language": "python",
   "name": "python3"
  },
  "language_info": {
   "codemirror_mode": {
    "name": "ipython",
    "version": 3
   },
   "file_extension": ".py",
   "mimetype": "text/x-python",
   "name": "python",
   "nbconvert_exporter": "python",
   "pygments_lexer": "ipython3",
   "version": "3.8.3"
  }
 },
 "nbformat": 4,
 "nbformat_minor": 4
}
