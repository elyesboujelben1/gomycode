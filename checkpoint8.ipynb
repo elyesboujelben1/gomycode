{
  "nbformat": 4,
  "nbformat_minor": 0,
  "metadata": {
    "colab": {
      "name": "Untitled0.ipynb",
      "provenance": [],
      "authorship_tag": "ABX9TyP645SpC1Lo9B/WzaudwMDj",
      "include_colab_link": true
    },
    "kernelspec": {
      "name": "python3",
      "display_name": "Python 3"
    }
  },
  "cells": [
    {
      "cell_type": "markdown",
      "metadata": {
        "id": "view-in-github",
        "colab_type": "text"
      },
      "source": [
        "<a href=\"https://colab.research.google.com/github/elyesboujelben1/gomycode/blob/main/checkpoint8.ipynb\" target=\"_parent\"><img src=\"https://colab.research.google.com/assets/colab-badge.svg\" alt=\"Open In Colab\"/></a>"
      ]
    },
    {
      "cell_type": "code",
      "metadata": {
        "colab": {
          "base_uri": "https://localhost:8080/",
          "height": 411
        },
        "id": "8PMfknEQ5PBa",
        "outputId": "c59b0d59-4151-4022-d525-9b7be32f2fff"
      },
      "source": [
        "import pandas as pd\r\n",
        "import seaborn as sns\r\n",
        "import matplotlib.pyplot as plt\r\n",
        "\r\n",
        "df = pd.read_csv(\"CC GENERAL.csv\")\r\n",
        "df"
      ],
      "execution_count": 1,
      "outputs": [
        {
          "output_type": "execute_result",
          "data": {
            "text/html": [
              "<div>\n",
              "<style scoped>\n",
              "    .dataframe tbody tr th:only-of-type {\n",
              "        vertical-align: middle;\n",
              "    }\n",
              "\n",
              "    .dataframe tbody tr th {\n",
              "        vertical-align: top;\n",
              "    }\n",
              "\n",
              "    .dataframe thead th {\n",
              "        text-align: right;\n",
              "    }\n",
              "</style>\n",
              "<table border=\"1\" class=\"dataframe\">\n",
              "  <thead>\n",
              "    <tr style=\"text-align: right;\">\n",
              "      <th></th>\n",
              "      <th>CUST_ID</th>\n",
              "      <th>BALANCE</th>\n",
              "      <th>BALANCE_FREQUENCY</th>\n",
              "      <th>PURCHASES</th>\n",
              "      <th>ONEOFF_PURCHASES</th>\n",
              "      <th>INSTALLMENTS_PURCHASES</th>\n",
              "      <th>CASH_ADVANCE</th>\n",
              "      <th>PURCHASES_FREQUENCY</th>\n",
              "      <th>ONEOFF_PURCHASES_FREQUENCY</th>\n",
              "      <th>PURCHASES_INSTALLMENTS_FREQUENCY</th>\n",
              "      <th>CASH_ADVANCE_FREQUENCY</th>\n",
              "      <th>CASH_ADVANCE_TRX</th>\n",
              "      <th>PURCHASES_TRX</th>\n",
              "      <th>CREDIT_LIMIT</th>\n",
              "      <th>PAYMENTS</th>\n",
              "      <th>MINIMUM_PAYMENTS</th>\n",
              "      <th>PRC_FULL_PAYMENT</th>\n",
              "      <th>TENURE</th>\n",
              "    </tr>\n",
              "  </thead>\n",
              "  <tbody>\n",
              "    <tr>\n",
              "      <th>0</th>\n",
              "      <td>C10001</td>\n",
              "      <td>40.900749</td>\n",
              "      <td>0.818182</td>\n",
              "      <td>95.40</td>\n",
              "      <td>0.00</td>\n",
              "      <td>95.40</td>\n",
              "      <td>0.000000</td>\n",
              "      <td>0.166667</td>\n",
              "      <td>0.000000</td>\n",
              "      <td>0.083333</td>\n",
              "      <td>0.000000</td>\n",
              "      <td>0</td>\n",
              "      <td>2</td>\n",
              "      <td>1000.0</td>\n",
              "      <td>201.802084</td>\n",
              "      <td>139.509787</td>\n",
              "      <td>0.000000</td>\n",
              "      <td>12</td>\n",
              "    </tr>\n",
              "    <tr>\n",
              "      <th>1</th>\n",
              "      <td>C10002</td>\n",
              "      <td>3202.467416</td>\n",
              "      <td>0.909091</td>\n",
              "      <td>0.00</td>\n",
              "      <td>0.00</td>\n",
              "      <td>0.00</td>\n",
              "      <td>6442.945483</td>\n",
              "      <td>0.000000</td>\n",
              "      <td>0.000000</td>\n",
              "      <td>0.000000</td>\n",
              "      <td>0.250000</td>\n",
              "      <td>4</td>\n",
              "      <td>0</td>\n",
              "      <td>7000.0</td>\n",
              "      <td>4103.032597</td>\n",
              "      <td>1072.340217</td>\n",
              "      <td>0.222222</td>\n",
              "      <td>12</td>\n",
              "    </tr>\n",
              "    <tr>\n",
              "      <th>2</th>\n",
              "      <td>C10003</td>\n",
              "      <td>2495.148862</td>\n",
              "      <td>1.000000</td>\n",
              "      <td>773.17</td>\n",
              "      <td>773.17</td>\n",
              "      <td>0.00</td>\n",
              "      <td>0.000000</td>\n",
              "      <td>1.000000</td>\n",
              "      <td>1.000000</td>\n",
              "      <td>0.000000</td>\n",
              "      <td>0.000000</td>\n",
              "      <td>0</td>\n",
              "      <td>12</td>\n",
              "      <td>7500.0</td>\n",
              "      <td>622.066742</td>\n",
              "      <td>627.284787</td>\n",
              "      <td>0.000000</td>\n",
              "      <td>12</td>\n",
              "    </tr>\n",
              "    <tr>\n",
              "      <th>3</th>\n",
              "      <td>C10004</td>\n",
              "      <td>1666.670542</td>\n",
              "      <td>0.636364</td>\n",
              "      <td>1499.00</td>\n",
              "      <td>1499.00</td>\n",
              "      <td>0.00</td>\n",
              "      <td>205.788017</td>\n",
              "      <td>0.083333</td>\n",
              "      <td>0.083333</td>\n",
              "      <td>0.000000</td>\n",
              "      <td>0.083333</td>\n",
              "      <td>1</td>\n",
              "      <td>1</td>\n",
              "      <td>7500.0</td>\n",
              "      <td>0.000000</td>\n",
              "      <td>NaN</td>\n",
              "      <td>0.000000</td>\n",
              "      <td>12</td>\n",
              "    </tr>\n",
              "    <tr>\n",
              "      <th>4</th>\n",
              "      <td>C10005</td>\n",
              "      <td>817.714335</td>\n",
              "      <td>1.000000</td>\n",
              "      <td>16.00</td>\n",
              "      <td>16.00</td>\n",
              "      <td>0.00</td>\n",
              "      <td>0.000000</td>\n",
              "      <td>0.083333</td>\n",
              "      <td>0.083333</td>\n",
              "      <td>0.000000</td>\n",
              "      <td>0.000000</td>\n",
              "      <td>0</td>\n",
              "      <td>1</td>\n",
              "      <td>1200.0</td>\n",
              "      <td>678.334763</td>\n",
              "      <td>244.791237</td>\n",
              "      <td>0.000000</td>\n",
              "      <td>12</td>\n",
              "    </tr>\n",
              "    <tr>\n",
              "      <th>...</th>\n",
              "      <td>...</td>\n",
              "      <td>...</td>\n",
              "      <td>...</td>\n",
              "      <td>...</td>\n",
              "      <td>...</td>\n",
              "      <td>...</td>\n",
              "      <td>...</td>\n",
              "      <td>...</td>\n",
              "      <td>...</td>\n",
              "      <td>...</td>\n",
              "      <td>...</td>\n",
              "      <td>...</td>\n",
              "      <td>...</td>\n",
              "      <td>...</td>\n",
              "      <td>...</td>\n",
              "      <td>...</td>\n",
              "      <td>...</td>\n",
              "      <td>...</td>\n",
              "    </tr>\n",
              "    <tr>\n",
              "      <th>8945</th>\n",
              "      <td>C19186</td>\n",
              "      <td>28.493517</td>\n",
              "      <td>1.000000</td>\n",
              "      <td>291.12</td>\n",
              "      <td>0.00</td>\n",
              "      <td>291.12</td>\n",
              "      <td>0.000000</td>\n",
              "      <td>1.000000</td>\n",
              "      <td>0.000000</td>\n",
              "      <td>0.833333</td>\n",
              "      <td>0.000000</td>\n",
              "      <td>0</td>\n",
              "      <td>6</td>\n",
              "      <td>1000.0</td>\n",
              "      <td>325.594462</td>\n",
              "      <td>48.886365</td>\n",
              "      <td>0.500000</td>\n",
              "      <td>6</td>\n",
              "    </tr>\n",
              "    <tr>\n",
              "      <th>8946</th>\n",
              "      <td>C19187</td>\n",
              "      <td>19.183215</td>\n",
              "      <td>1.000000</td>\n",
              "      <td>300.00</td>\n",
              "      <td>0.00</td>\n",
              "      <td>300.00</td>\n",
              "      <td>0.000000</td>\n",
              "      <td>1.000000</td>\n",
              "      <td>0.000000</td>\n",
              "      <td>0.833333</td>\n",
              "      <td>0.000000</td>\n",
              "      <td>0</td>\n",
              "      <td>6</td>\n",
              "      <td>1000.0</td>\n",
              "      <td>275.861322</td>\n",
              "      <td>NaN</td>\n",
              "      <td>0.000000</td>\n",
              "      <td>6</td>\n",
              "    </tr>\n",
              "    <tr>\n",
              "      <th>8947</th>\n",
              "      <td>C19188</td>\n",
              "      <td>23.398673</td>\n",
              "      <td>0.833333</td>\n",
              "      <td>144.40</td>\n",
              "      <td>0.00</td>\n",
              "      <td>144.40</td>\n",
              "      <td>0.000000</td>\n",
              "      <td>0.833333</td>\n",
              "      <td>0.000000</td>\n",
              "      <td>0.666667</td>\n",
              "      <td>0.000000</td>\n",
              "      <td>0</td>\n",
              "      <td>5</td>\n",
              "      <td>1000.0</td>\n",
              "      <td>81.270775</td>\n",
              "      <td>82.418369</td>\n",
              "      <td>0.250000</td>\n",
              "      <td>6</td>\n",
              "    </tr>\n",
              "    <tr>\n",
              "      <th>8948</th>\n",
              "      <td>C19189</td>\n",
              "      <td>13.457564</td>\n",
              "      <td>0.833333</td>\n",
              "      <td>0.00</td>\n",
              "      <td>0.00</td>\n",
              "      <td>0.00</td>\n",
              "      <td>36.558778</td>\n",
              "      <td>0.000000</td>\n",
              "      <td>0.000000</td>\n",
              "      <td>0.000000</td>\n",
              "      <td>0.166667</td>\n",
              "      <td>2</td>\n",
              "      <td>0</td>\n",
              "      <td>500.0</td>\n",
              "      <td>52.549959</td>\n",
              "      <td>55.755628</td>\n",
              "      <td>0.250000</td>\n",
              "      <td>6</td>\n",
              "    </tr>\n",
              "    <tr>\n",
              "      <th>8949</th>\n",
              "      <td>C19190</td>\n",
              "      <td>372.708075</td>\n",
              "      <td>0.666667</td>\n",
              "      <td>1093.25</td>\n",
              "      <td>1093.25</td>\n",
              "      <td>0.00</td>\n",
              "      <td>127.040008</td>\n",
              "      <td>0.666667</td>\n",
              "      <td>0.666667</td>\n",
              "      <td>0.000000</td>\n",
              "      <td>0.333333</td>\n",
              "      <td>2</td>\n",
              "      <td>23</td>\n",
              "      <td>1200.0</td>\n",
              "      <td>63.165404</td>\n",
              "      <td>88.288956</td>\n",
              "      <td>0.000000</td>\n",
              "      <td>6</td>\n",
              "    </tr>\n",
              "  </tbody>\n",
              "</table>\n",
              "<p>8950 rows × 18 columns</p>\n",
              "</div>"
            ],
            "text/plain": [
              "     CUST_ID      BALANCE  ...  PRC_FULL_PAYMENT  TENURE\n",
              "0     C10001    40.900749  ...          0.000000      12\n",
              "1     C10002  3202.467416  ...          0.222222      12\n",
              "2     C10003  2495.148862  ...          0.000000      12\n",
              "3     C10004  1666.670542  ...          0.000000      12\n",
              "4     C10005   817.714335  ...          0.000000      12\n",
              "...      ...          ...  ...               ...     ...\n",
              "8945  C19186    28.493517  ...          0.500000       6\n",
              "8946  C19187    19.183215  ...          0.000000       6\n",
              "8947  C19188    23.398673  ...          0.250000       6\n",
              "8948  C19189    13.457564  ...          0.250000       6\n",
              "8949  C19190   372.708075  ...          0.000000       6\n",
              "\n",
              "[8950 rows x 18 columns]"
            ]
          },
          "metadata": {
            "tags": []
          },
          "execution_count": 1
        }
      ]
    },
    {
      "cell_type": "code",
      "metadata": {
        "id": "QXdGlnoy55a6"
      },
      "source": [
        "df.drop(\"CUST_ID\",1,inplace=True)"
      ],
      "execution_count": 2,
      "outputs": []
    },
    {
      "cell_type": "code",
      "metadata": {
        "id": "UxNWTrI76wkf"
      },
      "source": [
        "df['CREDIT_LIMIT'].fillna(df['CREDIT_LIMIT'].mean(),inplace=True)\r\n",
        "df['MINIMUM_PAYMENTS'].fillna(df['MINIMUM_PAYMENTS'].mean(),inplace=True)"
      ],
      "execution_count": 3,
      "outputs": []
    },
    {
      "cell_type": "code",
      "metadata": {
        "colab": {
          "base_uri": "https://localhost:8080/",
          "height": 311
        },
        "id": "g2eL_CM37W0R",
        "outputId": "b3139591-48eb-4387-dab4-e5d5748a0021"
      },
      "source": [
        "from sklearn.cluster import AgglomerativeClustering #Importing our clustering algorithm : Agglomerative\r\n",
        "model=AgglomerativeClustering(n_clusters=5, affinity='euclidean', linkage='complete')\r\n",
        "clust_labels=model.fit_predict(df)  \r\n",
        "agglomerative=pd.DataFrame(clust_labels)\r\n",
        "import matplotlib.pyplot as plt\r\n",
        "fig =plt.figure()\r\n",
        "ax = fig.add_subplot(111)\r\n",
        "scatter = ax.scatter (df[\"PAYMENTS\"],df ['PURCHASES']  , c= agglomerative[0], s=50)\r\n",
        "ax.set_title(\"Agglomerative Clutering\")\r\n",
        "ax.set_xlabel(\"Annual Income (k$)\")\r\n",
        "ax.set_ylabel(\"Spending Score (1-100)\")\r\n",
        "plt.colorbar(scatter)"
      ],
      "execution_count": 4,
      "outputs": [
        {
          "output_type": "execute_result",
          "data": {
            "text/plain": [
              "<matplotlib.colorbar.Colorbar at 0x7f786dfed240>"
            ]
          },
          "metadata": {
            "tags": []
          },
          "execution_count": 4
        },
        {
          "output_type": "display_data",
          "data": {
            "image/png": "[encoded data removed]",
            "text/plain": [
              "<Figure size 432x288 with 2 Axes>"
            ]
          },
          "metadata": {
            "tags": [],
            "needs_background": "light"
          }
        }
      ]
    },
    {
      "cell_type": "code",
      "metadata": {
        "colab": {
          "base_uri": "https://localhost:8080/",
          "height": 447
        },
        "id": "dWEs7-CX8yRB",
        "outputId": "77a9b3cb-3a25-41c6-efb6-6d6bc10ccb48"
      },
      "source": [
        "import matplotlib.pyplot as plt\r\n",
        "import scipy.cluster.hierarchy as shc\r\n",
        "plt.figure(figsize=(10,7))\r\n",
        "plt.title(\"Customer Dendrograms\")\r\n",
        "dend=shc.dendrogram(shc.linkage(df, method=\"complete\"))"
      ],
      "execution_count": 5,
      "outputs": [
        {
          "output_type": "display_data",
          "data": {
            "image/png": "[encoded data removed]",
            "text/plain": [
              "<Figure size 720x504 with 1 Axes>"
            ]
          },
          "metadata": {
            "tags": [],
            "needs_background": "light"
          }
        }
      ]
    },
    {
      "cell_type": "code",
      "metadata": {
        "id": "0tCP0cA9HZ2g"
      },
      "source": [
        ""
      ],
      "execution_count": null,
      "outputs": []
    },
    {
      "cell_type": "code",
      "metadata": {
        "colab": {
          "base_uri": "https://localhost:8080/"
        },
        "id": "Ds2OpCgd3Q3m",
        "outputId": "3c5f8d7c-f0a4-45ad-82ce-e34e8776f18f"
      },
      "source": [
        "from sklearn.cluster import KMeans  #Importing our clustering algorithm: KMeans\r\n",
        "kmeans=KMeans(n_clusters=4, random_state=0)  #Cluster our data by choosing 5 as number of clusters\r\n",
        "kmeans.fit(df)\r\n"
      ],
      "execution_count": null,
      "outputs": [
        {
          "output_type": "execute_result",
          "data": {
            "text/plain": [
              "KMeans(algorithm='auto', copy_x=True, init='k-means++', max_iter=300,\n",
              "       n_clusters=4, n_init=10, n_jobs=None, precompute_distances='auto',\n",
              "       random_state=0, tol=0.0001, verbose=0)"
            ]
          },
          "metadata": {
            "tags": []
          },
          "execution_count": 205
        }
      ]
    },
    {
      "cell_type": "code",
      "metadata": {
        "colab": {
          "base_uri": "https://localhost:8080/",
          "height": 391
        },
        "id": "tXseuIT13Q3u",
        "outputId": "05f3b0f9-66f1-4447-b201-99a753966eb2"
      },
      "source": [
        "labels=pd.DataFrame(kmeans.labels_)\r\n",
        "labels"
      ],
      "execution_count": null,
      "outputs": [
        {
          "output_type": "execute_result",
          "data": {
            "text/html": [
              "<div>\n",
              "<style scoped>\n",
              "    .dataframe tbody tr th:only-of-type {\n",
              "        vertical-align: middle;\n",
              "    }\n",
              "\n",
              "    .dataframe tbody tr th {\n",
              "        vertical-align: top;\n",
              "    }\n",
              "\n",
              "    .dataframe thead th {\n",
              "        text-align: right;\n",
              "    }\n",
              "</style>\n",
              "<table border=\"1\" class=\"dataframe\">\n",
              "  <thead>\n",
              "    <tr style=\"text-align: right;\">\n",
              "      <th></th>\n",
              "      <th>0</th>\n",
              "    </tr>\n",
              "  </thead>\n",
              "  <tbody>\n",
              "    <tr>\n",
              "      <th>0</th>\n",
              "      <td>0</td>\n",
              "    </tr>\n",
              "    <tr>\n",
              "      <th>1</th>\n",
              "      <td>1</td>\n",
              "    </tr>\n",
              "    <tr>\n",
              "      <th>2</th>\n",
              "      <td>1</td>\n",
              "    </tr>\n",
              "    <tr>\n",
              "      <th>3</th>\n",
              "      <td>1</td>\n",
              "    </tr>\n",
              "    <tr>\n",
              "      <th>4</th>\n",
              "      <td>0</td>\n",
              "    </tr>\n",
              "    <tr>\n",
              "      <th>...</th>\n",
              "      <td>...</td>\n",
              "    </tr>\n",
              "    <tr>\n",
              "      <th>8945</th>\n",
              "      <td>0</td>\n",
              "    </tr>\n",
              "    <tr>\n",
              "      <th>8946</th>\n",
              "      <td>0</td>\n",
              "    </tr>\n",
              "    <tr>\n",
              "      <th>8947</th>\n",
              "      <td>0</td>\n",
              "    </tr>\n",
              "    <tr>\n",
              "      <th>8948</th>\n",
              "      <td>0</td>\n",
              "    </tr>\n",
              "    <tr>\n",
              "      <th>8949</th>\n",
              "      <td>0</td>\n",
              "    </tr>\n",
              "  </tbody>\n",
              "</table>\n",
              "<p>8950 rows × 1 columns</p>\n",
              "</div>"
            ],
            "text/plain": [
              "      0\n",
              "0     0\n",
              "1     1\n",
              "2     1\n",
              "3     1\n",
              "4     0\n",
              "...  ..\n",
              "8945  0\n",
              "8946  0\n",
              "8947  0\n",
              "8948  0\n",
              "8949  0\n",
              "\n",
              "[8950 rows x 1 columns]"
            ]
          },
          "metadata": {
            "tags": []
          },
          "execution_count": 206
        }
      ]
    },
    {
      "cell_type": "code",
      "metadata": {
        "colab": {
          "base_uri": "https://localhost:8080/"
        },
        "id": "jzrU5J7w3Q3v",
        "outputId": "61f4a568-dd82-4296-b07c-a17996304f6f"
      },
      "source": [
        "label=kmeans.predict(df)\r\n",
        "print(kmeans.cluster_centers_) \r\n"
      ],
      "execution_count": null,
      "outputs": [
        {
          "output_type": "stream",
          "text": [
            "[[8.54778042e+02 8.53545314e-01 6.03603854e+02 3.13126474e+02\n",
            "  2.90778056e+02 4.96026573e+02 4.66919195e-01 1.53799827e-01\n",
            "  3.51674458e-01 1.07073179e-01 2.25921926e+00 1.06270637e+01\n",
            "  2.73640920e+03 9.98105819e+02 5.30407640e+02 1.56728504e-01\n",
            "  1.14300262e+01]\n",
            " [3.33482495e+03 9.39982227e-01 1.58394530e+03 9.96887220e+02\n",
            "  5.87371546e+02 2.11357870e+03 5.42614308e-01 3.21949652e-01\n",
            "  3.85407865e-01 2.10332359e-01 5.72591944e+00 2.21786340e+01\n",
            "  9.03769901e+03 2.89167420e+03 1.18785446e+03 1.38539275e-01\n",
            "  1.17373030e+01]\n",
            " [4.05814769e+03 9.88636375e-01 1.02737875e+03 1.18389464e+02\n",
            "  9.08989286e+02 9.22757849e+02 4.71320321e-01 3.92315536e-02\n",
            "  4.41152625e-01 1.05654714e-01 3.01785714e+00 1.86250000e+01\n",
            "  4.26785714e+03 1.62493914e+03 2.27600316e+04 1.48808929e-03\n",
            "  1.19107143e+01]\n",
            " [4.79253297e+03 9.10564109e-01 1.07865302e+04 7.66993465e+03\n",
            "  3.11676612e+03 5.17100806e+03 7.50458054e-01 6.02245070e-01\n",
            "  6.01053744e-01 2.27004240e-01 9.20930233e+00 8.58914729e+01\n",
            "  1.24771318e+04 1.81963813e+04 2.39887823e+03 3.37066930e-01\n",
            "  1.18372093e+01]]\n"
          ],
          "name": "stdout"
        }
      ]
    },
    {
      "cell_type": "code",
      "metadata": {
        "colab": {
          "base_uri": "https://localhost:8080/",
          "height": 295
        },
        "id": "6SkuL6v93Q3v",
        "outputId": "c24e031f-5a58-44d2-d156-e6d9fdc62a2a"
      },
      "source": [
        "plt.scatter(df[\"PAYMENTS\"][label == 0],          \r\n",
        "            df[\"PURCHASES\"][label == 0],s=10,c='magenta',label='Careful')\r\n",
        "plt.scatter(df[\"PAYMENTS\"][label == 1],\r\n",
        "           df[\"PURCHASES\"][label == 1],s=10,c='yellow',label='Standard')\r\n",
        "plt.scatter(df[\"PAYMENTS\"][label == 2],\r\n",
        "           df[\"PURCHASES\"][label == 2],s=10,c='green',label='Target')\r\n",
        "plt.scatter(df[\"PAYMENTS\"][label == 3], \r\n",
        "           df[\"PURCHASES\"][label == 3],s=10,c='cyan',label='Careless')\r\n",
        "plt.scatter(df[\"PAYMENTS\"][label == 4], \r\n",
        "           df[\"PURCHASES\"][label == 4],s=10,c='burlywood',label='Sensible')\r\n",
        "plt.scatter(kmeans.cluster_centers_[:, 0], kmeans.cluster_centers_[:, 1], s=30, c='red', label = 'Centroids')\r\n",
        "plt.title('Clusters of Customers')\r\n",
        "plt.xlabel('payments')\r\n",
        "plt.ylabel('purchases')\r\n",
        "plt.legend()\r\n",
        "plt.show()"
      ],
      "execution_count": null,
      "outputs": [
        {
          "output_type": "display_data",
          "data": {
            "image/png": "[encoded data removed]",
            "text/plain": [
              "<Figure size 432x288 with 1 Axes>"
            ]
          },
          "metadata": {
            "tags": [],
            "needs_background": "light"
          }
        }
      ]
    },
    {
      "cell_type": "code",
      "metadata": {
        "colab": {
          "base_uri": "https://localhost:8080/"
        },
        "id": "W6xvCm57sTg2",
        "outputId": "70d23c49-fab4-467f-cd6a-49b1722d0860"
      },
      "source": [
        "from sklearn.cluster import KMeans  #Importing our clustering algorithm: KMeans\r\n",
        "kmeans=KMeans(n_clusters=2, random_state=0)  #Cluster our data by choosing 5 as number of clusters\r\n",
        "kmeans.fit(df)\r\n"
      ],
      "execution_count": null,
      "outputs": [
        {
          "output_type": "execute_result",
          "data": {
            "text/plain": [
              "KMeans(algorithm='auto', copy_x=True, init='k-means++', max_iter=300,\n",
              "       n_clusters=2, n_init=10, n_jobs=None, precompute_distances='auto',\n",
              "       random_state=0, tol=0.0001, verbose=0)"
            ]
          },
          "metadata": {
            "tags": []
          },
          "execution_count": 209
        }
      ]
    },
    {
      "cell_type": "code",
      "metadata": {
        "colab": {
          "base_uri": "https://localhost:8080/",
          "height": 391
        },
        "id": "y5S7_CTisriN",
        "outputId": "75155310-208a-4859-aed5-a25b36283585"
      },
      "source": [
        "labels=pd.DataFrame(kmeans.labels_)\r\n",
        "labels"
      ],
      "execution_count": null,
      "outputs": [
        {
          "output_type": "execute_result",
          "data": {
            "text/html": [
              "<div>\n",
              "<style scoped>\n",
              "    .dataframe tbody tr th:only-of-type {\n",
              "        vertical-align: middle;\n",
              "    }\n",
              "\n",
              "    .dataframe tbody tr th {\n",
              "        vertical-align: top;\n",
              "    }\n",
              "\n",
              "    .dataframe thead th {\n",
              "        text-align: right;\n",
              "    }\n",
              "</style>\n",
              "<table border=\"1\" class=\"dataframe\">\n",
              "  <thead>\n",
              "    <tr style=\"text-align: right;\">\n",
              "      <th></th>\n",
              "      <th>0</th>\n",
              "    </tr>\n",
              "  </thead>\n",
              "  <tbody>\n",
              "    <tr>\n",
              "      <th>0</th>\n",
              "      <td>1</td>\n",
              "    </tr>\n",
              "    <tr>\n",
              "      <th>1</th>\n",
              "      <td>0</td>\n",
              "    </tr>\n",
              "    <tr>\n",
              "      <th>2</th>\n",
              "      <td>1</td>\n",
              "    </tr>\n",
              "    <tr>\n",
              "      <th>3</th>\n",
              "      <td>1</td>\n",
              "    </tr>\n",
              "    <tr>\n",
              "      <th>4</th>\n",
              "      <td>1</td>\n",
              "    </tr>\n",
              "    <tr>\n",
              "      <th>...</th>\n",
              "      <td>...</td>\n",
              "    </tr>\n",
              "    <tr>\n",
              "      <th>8945</th>\n",
              "      <td>1</td>\n",
              "    </tr>\n",
              "    <tr>\n",
              "      <th>8946</th>\n",
              "      <td>1</td>\n",
              "    </tr>\n",
              "    <tr>\n",
              "      <th>8947</th>\n",
              "      <td>1</td>\n",
              "    </tr>\n",
              "    <tr>\n",
              "      <th>8948</th>\n",
              "      <td>1</td>\n",
              "    </tr>\n",
              "    <tr>\n",
              "      <th>8949</th>\n",
              "      <td>1</td>\n",
              "    </tr>\n",
              "  </tbody>\n",
              "</table>\n",
              "<p>8950 rows × 1 columns</p>\n",
              "</div>"
            ],
            "text/plain": [
              "      0\n",
              "0     1\n",
              "1     0\n",
              "2     1\n",
              "3     1\n",
              "4     1\n",
              "...  ..\n",
              "8945  1\n",
              "8946  1\n",
              "8947  1\n",
              "8948  1\n",
              "8949  1\n",
              "\n",
              "[8950 rows x 1 columns]"
            ]
          },
          "metadata": {
            "tags": []
          },
          "execution_count": 210
        }
      ]
    },
    {
      "cell_type": "code",
      "metadata": {
        "colab": {
          "base_uri": "https://localhost:8080/"
        },
        "id": "oq7KUde4svza",
        "outputId": "7478c745-819c-45a6-e1bf-e374e0501856"
      },
      "source": [
        "label=kmeans.predict(df)\r\n",
        "print(kmeans.cluster_centers_) \r\n"
      ],
      "execution_count": null,
      "outputs": [
        {
          "output_type": "stream",
          "text": [
            "[[3.83174174e+03 9.39821048e-01 2.36499888e+03 1.55149934e+03\n",
            "  8.13882690e+02 2.59214186e+03 5.57655055e-01 3.45877762e-01\n",
            "  4.05814518e-01 2.27473224e-01 6.57892004e+00 2.80046729e+01\n",
            "  9.81438450e+03 4.29529635e+03 1.76439840e+03 1.49536909e-01\n",
            "  1.17383178e+01]\n",
            " [9.42784043e+02 8.60119256e-01 6.29797184e+02 3.29459957e+02\n",
            "  3.00614658e+02 5.36507864e+02 4.71895469e-01 1.63131506e-01\n",
            "  3.53091607e-01 1.09827330e-01 2.33570615e+00 1.10643508e+01\n",
            "  3.03570872e+03 1.03059463e+03 6.17371474e+02 1.54860196e-01\n",
            "  1.14567198e+01]]\n"
          ],
          "name": "stdout"
        }
      ]
    },
    {
      "cell_type": "code",
      "metadata": {
        "colab": {
          "base_uri": "https://localhost:8080/",
          "height": 295
        },
        "id": "dY7LattJteS5",
        "outputId": "2695083a-bc86-46d1-bd77-0ae8750b5903"
      },
      "source": [
        "plt.scatter(df[\"PAYMENTS\"][label == 0],          \r\n",
        "            df[\"PURCHASES\"][label == 0],s=10,c='magenta',label='Careful')\r\n",
        "plt.scatter(df[\"PAYMENTS\"][label == 1],\r\n",
        "           df[\"PURCHASES\"][label == 1],s=10,c='yellow',label='Standard')\r\n",
        "plt.scatter(df[\"PAYMENTS\"][label == 2],\r\n",
        "           df[\"PURCHASES\"][label == 2],s=10,c='green',label='Target')\r\n",
        "plt.scatter(df[\"PAYMENTS\"][label == 3], \r\n",
        "           df[\"PURCHASES\"][label == 3],s=10,c='cyan',label='Careless')\r\n",
        "plt.scatter(df[\"PAYMENTS\"][label == 4], \r\n",
        "           df[\"PURCHASES\"][label == 4],s=10,c='burlywood',label='Sensible')\r\n",
        "plt.scatter(kmeans.cluster_centers_[:, 0], kmeans.cluster_centers_[:, 1], s=30, c='red', label = 'Centroids')\r\n",
        "plt.title('Clusters of Customers')\r\n",
        "plt.xlabel('payments')\r\n",
        "plt.ylabel('purchases')\r\n",
        "plt.legend()\r\n",
        "plt.show()"
      ],
      "execution_count": null,
      "outputs": [
        {
          "output_type": "display_data",
          "data": {
            "image/png": "[encoded data removed]",
            "text/plain": [
              "<Figure size 432x288 with 1 Axes>"
            ]
          },
          "metadata": {
            "tags": [],
            "needs_background": "light"
          }
        }
      ]
    },
    {
      "cell_type": "code",
      "metadata": {
        "colab": {
          "base_uri": "https://localhost:8080/"
        },
        "id": "X2rcu-653pqF",
        "outputId": "b5f90dc1-56d5-4cb8-daba-3987d7792e7a"
      },
      "source": [
        "from sklearn.cluster import KMeans  #Importing our clustering algorithm: KMeans\r\n",
        "kmeans=KMeans(n_clusters=3, random_state=0)  #Cluster our data by choosing 5 as number of clusters\r\n",
        "kmeans.fit(df)\r\n"
      ],
      "execution_count": null,
      "outputs": [
        {
          "output_type": "execute_result",
          "data": {
            "text/plain": [
              "KMeans(algorithm='auto', copy_x=True, init='k-means++', max_iter=300,\n",
              "       n_clusters=3, n_init=10, n_jobs=None, precompute_distances='auto',\n",
              "       random_state=0, tol=0.0001, verbose=0)"
            ]
          },
          "metadata": {
            "tags": []
          },
          "execution_count": 213
        }
      ]
    },
    {
      "cell_type": "code",
      "metadata": {
        "colab": {
          "base_uri": "https://localhost:8080/",
          "height": 391
        },
        "id": "OxjO16BD3pqO",
        "outputId": "2253bdfb-ef6a-42a0-af27-08b1b001f547"
      },
      "source": [
        "labels=pd.DataFrame(kmeans.labels_)\r\n",
        "labels"
      ],
      "execution_count": null,
      "outputs": [
        {
          "output_type": "execute_result",
          "data": {
            "text/html": [
              "<div>\n",
              "<style scoped>\n",
              "    .dataframe tbody tr th:only-of-type {\n",
              "        vertical-align: middle;\n",
              "    }\n",
              "\n",
              "    .dataframe tbody tr th {\n",
              "        vertical-align: top;\n",
              "    }\n",
              "\n",
              "    .dataframe thead th {\n",
              "        text-align: right;\n",
              "    }\n",
              "</style>\n",
              "<table border=\"1\" class=\"dataframe\">\n",
              "  <thead>\n",
              "    <tr style=\"text-align: right;\">\n",
              "      <th></th>\n",
              "      <th>0</th>\n",
              "    </tr>\n",
              "  </thead>\n",
              "  <tbody>\n",
              "    <tr>\n",
              "      <th>0</th>\n",
              "      <td>0</td>\n",
              "    </tr>\n",
              "    <tr>\n",
              "      <th>1</th>\n",
              "      <td>1</td>\n",
              "    </tr>\n",
              "    <tr>\n",
              "      <th>2</th>\n",
              "      <td>1</td>\n",
              "    </tr>\n",
              "    <tr>\n",
              "      <th>3</th>\n",
              "      <td>1</td>\n",
              "    </tr>\n",
              "    <tr>\n",
              "      <th>4</th>\n",
              "      <td>0</td>\n",
              "    </tr>\n",
              "    <tr>\n",
              "      <th>...</th>\n",
              "      <td>...</td>\n",
              "    </tr>\n",
              "    <tr>\n",
              "      <th>8945</th>\n",
              "      <td>0</td>\n",
              "    </tr>\n",
              "    <tr>\n",
              "      <th>8946</th>\n",
              "      <td>0</td>\n",
              "    </tr>\n",
              "    <tr>\n",
              "      <th>8947</th>\n",
              "      <td>0</td>\n",
              "    </tr>\n",
              "    <tr>\n",
              "      <th>8948</th>\n",
              "      <td>0</td>\n",
              "    </tr>\n",
              "    <tr>\n",
              "      <th>8949</th>\n",
              "      <td>0</td>\n",
              "    </tr>\n",
              "  </tbody>\n",
              "</table>\n",
              "<p>8950 rows × 1 columns</p>\n",
              "</div>"
            ],
            "text/plain": [
              "      0\n",
              "0     0\n",
              "1     1\n",
              "2     1\n",
              "3     1\n",
              "4     0\n",
              "...  ..\n",
              "8945  0\n",
              "8946  0\n",
              "8947  0\n",
              "8948  0\n",
              "8949  0\n",
              "\n",
              "[8950 rows x 1 columns]"
            ]
          },
          "metadata": {
            "tags": []
          },
          "execution_count": 214
        }
      ]
    },
    {
      "cell_type": "code",
      "metadata": {
        "colab": {
          "base_uri": "https://localhost:8080/"
        },
        "id": "UBFx-iCZ3pqO",
        "outputId": "b18787f2-1ce1-4dc4-e84f-dbf87cef111b"
      },
      "source": [
        "label=kmeans.predict(df)\r\n",
        "print(kmeans.cluster_centers_) \r\n"
      ],
      "execution_count": null,
      "outputs": [
        {
          "output_type": "stream",
          "text": [
            "[[8.55769475e+02 8.54414576e-01 6.05531922e+02 3.13659959e+02\n",
            "  2.92170383e+02 4.95105621e+02 4.67963752e-01 1.54297093e-01\n",
            "  3.52621567e-01 1.06773224e-01 2.25298622e+00 1.06888208e+01\n",
            "  2.75077612e+03 9.98866277e+02 5.85602363e+02 1.56964173e-01\n",
            "  1.14336907e+01]\n",
            " [3.40057598e+03 9.40609772e-01 1.58230366e+03 9.88859314e+02\n",
            "  5.93757125e+02 2.11788076e+03 5.39511439e-01 3.17349631e-01\n",
            "  3.84691762e-01 2.10875737e-01 5.75054609e+00 2.21266929e+01\n",
            "  9.01254021e+03 2.89153825e+03 1.56551247e+03 1.34183296e-01\n",
            "  1.17374399e+01]\n",
            " [4.80882923e+03 9.09847656e-01 1.07073796e+04 7.56195397e+03\n",
            "  3.14559359e+03 5.19105119e+03 7.47270397e-01 5.95595015e-01\n",
            "  5.99510939e-01 2.26083061e-01 9.17557252e+00 8.55496183e+01\n",
            "  1.24660305e+04 1.80939666e+04 2.49776397e+03 3.33011382e-01\n",
            "  1.18396947e+01]]\n"
          ],
          "name": "stdout"
        }
      ]
    },
    {
      "cell_type": "code",
      "metadata": {
        "colab": {
          "base_uri": "https://localhost:8080/",
          "height": 295
        },
        "id": "tuFzi_LB3pqO",
        "outputId": "45d72cd9-84b9-40ec-db67-b0fd1a89e452"
      },
      "source": [
        "plt.scatter(df[\"PAYMENTS\"][label == 0],          \r\n",
        "            df[\"PURCHASES\"][label == 0],s=10,c='magenta',label='Careful')\r\n",
        "plt.scatter(df[\"PAYMENTS\"][label == 1],\r\n",
        "           df[\"PURCHASES\"][label == 1],s=10,c='yellow',label='Standard')\r\n",
        "plt.scatter(df[\"PAYMENTS\"][label == 2],\r\n",
        "           df[\"PURCHASES\"][label == 2],s=10,c='green',label='Target')\r\n",
        "plt.scatter(df[\"PAYMENTS\"][label == 3], \r\n",
        "           df[\"PURCHASES\"][label == 3],s=10,c='cyan',label='Careless')\r\n",
        "plt.scatter(df[\"PAYMENTS\"][label == 4], \r\n",
        "           df[\"PURCHASES\"][label == 4],s=10,c='burlywood',label='Sensible')\r\n",
        "plt.scatter(kmeans.cluster_centers_[:, 0], kmeans.cluster_centers_[:, 1], s=30, c='red', label = 'Centroids')\r\n",
        "plt.title('Clusters of Customers')\r\n",
        "plt.xlabel('payments')\r\n",
        "plt.ylabel('purchases')\r\n",
        "plt.legend()\r\n",
        "plt.show()"
      ],
      "execution_count": null,
      "outputs": [
        {
          "output_type": "display_data",
          "data": {
            "image/png": "[encoded data removed]",
            "text/plain": [
              "<Figure size 432x288 with 1 Axes>"
            ]
          },
          "metadata": {
            "tags": [],
            "needs_background": "light"
          }
        }
      ]
    },
    {
      "cell_type": "markdown",
      "metadata": {
        "id": "-QSh71vrH4ZH"
      },
      "source": [
        "After trying to read the plots, it turns out that the one with 4 clusters is the easiest one to understand the case so in my opinion it's the best"
      ]
    }
  ]
}