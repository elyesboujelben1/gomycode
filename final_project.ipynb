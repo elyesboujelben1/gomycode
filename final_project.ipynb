{
  "nbformat": 4,
  "nbformat_minor": 0,
  "metadata": {
    "colab": {
      "name": "final project.ipynb",
      "provenance": [],
      "authorship_tag": "ABX9TyNi+FG33qzLqy4/UHX1Gwa5",
      "include_colab_link": true
    },
    "kernelspec": {
      "name": "python3",
      "display_name": "Python 3"
    }
  },
  "cells": [
    {
      "cell_type": "markdown",
      "metadata": {
        "id": "view-in-github",
        "colab_type": "text"
      },
      "source": [
        "<a href=\"https://colab.research.google.com/github/elyesboujelben1/gomycode/blob/main/final_project.ipynb\" target=\"_parent\"><img src=\"https://colab.research.google.com/assets/colab-badge.svg\" alt=\"Open In Colab\"/></a>"
      ]
    },
    {
      "cell_type": "markdown",
      "metadata": {
        "id": "dzKtqt9hedLE"
      },
      "source": [
        "importing dataset"
      ]
    },
    {
      "cell_type": "code",
      "metadata": {
        "colab": {
          "base_uri": "https://localhost:8080/",
          "height": 949
        },
        "id": "QEHdkSQpUfPh",
        "outputId": "0b395883-48dc-4717-8447-154494a41afb"
      },
      "source": [
        "import pandas as pd\r\n",
        "\r\n",
        "df = pd.read_csv(\"nba2k20-full.csv\",\";\")\r\n",
        "\r\n",
        "df"
      ],
      "execution_count": 96,
      "outputs": [
        {
          "output_type": "execute_result",
          "data": {
            "text/html": [
              "<div>\n",
              "<style scoped>\n",
              "    .dataframe tbody tr th:only-of-type {\n",
              "        vertical-align: middle;\n",
              "    }\n",
              "\n",
              "    .dataframe tbody tr th {\n",
              "        vertical-align: top;\n",
              "    }\n",
              "\n",
              "    .dataframe thead th {\n",
              "        text-align: right;\n",
              "    }\n",
              "</style>\n",
              "<table border=\"1\" class=\"dataframe\">\n",
              "  <thead>\n",
              "    <tr style=\"text-align: right;\">\n",
              "      <th></th>\n",
              "      <th>full_name</th>\n",
              "      <th>rating</th>\n",
              "      <th>jersey</th>\n",
              "      <th>team</th>\n",
              "      <th>position</th>\n",
              "      <th>b_day</th>\n",
              "      <th>height</th>\n",
              "      <th>weight</th>\n",
              "      <th>salary</th>\n",
              "      <th>country</th>\n",
              "      <th>draft_year</th>\n",
              "      <th>draft_round</th>\n",
              "      <th>draft_peak</th>\n",
              "      <th>college</th>\n",
              "    </tr>\n",
              "  </thead>\n",
              "  <tbody>\n",
              "    <tr>\n",
              "      <th>0</th>\n",
              "      <td>LeBron James</td>\n",
              "      <td>97</td>\n",
              "      <td>#23</td>\n",
              "      <td>Los Angeles Lakers</td>\n",
              "      <td>F</td>\n",
              "      <td>12/30/84</td>\n",
              "      <td>6-9 / 2.06</td>\n",
              "      <td>250 lbs. / 113.4 kg.</td>\n",
              "      <td>$37436858</td>\n",
              "      <td>USA</td>\n",
              "      <td>2003</td>\n",
              "      <td>1</td>\n",
              "      <td>1</td>\n",
              "      <td>NaN</td>\n",
              "    </tr>\n",
              "    <tr>\n",
              "      <th>1</th>\n",
              "      <td>Kawhi Leonard</td>\n",
              "      <td>97</td>\n",
              "      <td>#2</td>\n",
              "      <td>Los Angeles Clippers</td>\n",
              "      <td>F</td>\n",
              "      <td>06/29/91</td>\n",
              "      <td>6-7 / 2.01</td>\n",
              "      <td>225 lbs. / 102.1 kg.</td>\n",
              "      <td>$32742000</td>\n",
              "      <td>USA</td>\n",
              "      <td>2011</td>\n",
              "      <td>1</td>\n",
              "      <td>15</td>\n",
              "      <td>San Diego State</td>\n",
              "    </tr>\n",
              "    <tr>\n",
              "      <th>2</th>\n",
              "      <td>Giannis Antetokounmpo</td>\n",
              "      <td>96</td>\n",
              "      <td>#34</td>\n",
              "      <td>Milwaukee Bucks</td>\n",
              "      <td>F-G</td>\n",
              "      <td>12/06/1994</td>\n",
              "      <td>6-11 / 2.11</td>\n",
              "      <td>242 lbs. / 109.8 kg.</td>\n",
              "      <td>$25842697</td>\n",
              "      <td>Greece</td>\n",
              "      <td>2013</td>\n",
              "      <td>1</td>\n",
              "      <td>15</td>\n",
              "      <td>NaN</td>\n",
              "    </tr>\n",
              "    <tr>\n",
              "      <th>3</th>\n",
              "      <td>Kevin Durant</td>\n",
              "      <td>96</td>\n",
              "      <td>#7</td>\n",
              "      <td>Brooklyn Nets</td>\n",
              "      <td>F</td>\n",
              "      <td>09/29/88</td>\n",
              "      <td>6-10 / 2.08</td>\n",
              "      <td>230 lbs. / 104.3 kg.</td>\n",
              "      <td>$37199000</td>\n",
              "      <td>USA</td>\n",
              "      <td>2007</td>\n",
              "      <td>1</td>\n",
              "      <td>2</td>\n",
              "      <td>Texas</td>\n",
              "    </tr>\n",
              "    <tr>\n",
              "      <th>4</th>\n",
              "      <td>James Harden</td>\n",
              "      <td>96</td>\n",
              "      <td>#13</td>\n",
              "      <td>Houston Rockets</td>\n",
              "      <td>G</td>\n",
              "      <td>08/26/89</td>\n",
              "      <td>6-5 / 1.96</td>\n",
              "      <td>220 lbs. / 99.8 kg.</td>\n",
              "      <td>$38199000</td>\n",
              "      <td>USA</td>\n",
              "      <td>2009</td>\n",
              "      <td>1</td>\n",
              "      <td>3</td>\n",
              "      <td>Arizona State</td>\n",
              "    </tr>\n",
              "    <tr>\n",
              "      <th>...</th>\n",
              "      <td>...</td>\n",
              "      <td>...</td>\n",
              "      <td>...</td>\n",
              "      <td>...</td>\n",
              "      <td>...</td>\n",
              "      <td>...</td>\n",
              "      <td>...</td>\n",
              "      <td>...</td>\n",
              "      <td>...</td>\n",
              "      <td>...</td>\n",
              "      <td>...</td>\n",
              "      <td>...</td>\n",
              "      <td>...</td>\n",
              "      <td>...</td>\n",
              "    </tr>\n",
              "    <tr>\n",
              "      <th>424</th>\n",
              "      <td>Brandon Goodwin</td>\n",
              "      <td>68</td>\n",
              "      <td>#0</td>\n",
              "      <td>Atlanta Hawks</td>\n",
              "      <td>G</td>\n",
              "      <td>10/02/1995</td>\n",
              "      <td>6-0 / 1.83</td>\n",
              "      <td>180 lbs. / 81.6 kg.</td>\n",
              "      <td>$522738</td>\n",
              "      <td>USA</td>\n",
              "      <td>2018</td>\n",
              "      <td>Undrafted</td>\n",
              "      <td>Undrafted</td>\n",
              "      <td>Florida Gulf Coast</td>\n",
              "    </tr>\n",
              "    <tr>\n",
              "      <th>425</th>\n",
              "      <td>Michael Frazier</td>\n",
              "      <td>68</td>\n",
              "      <td>#21</td>\n",
              "      <td>Houston Rockets</td>\n",
              "      <td>G</td>\n",
              "      <td>03/08/1994</td>\n",
              "      <td>6-3 / 1.91</td>\n",
              "      <td>200 lbs. / 90.7 kg.</td>\n",
              "      <td>$79568</td>\n",
              "      <td>USA</td>\n",
              "      <td>2015</td>\n",
              "      <td>2</td>\n",
              "      <td>60</td>\n",
              "      <td>Florida</td>\n",
              "    </tr>\n",
              "    <tr>\n",
              "      <th>426</th>\n",
              "      <td>Kostas Antetokounmpo</td>\n",
              "      <td>68</td>\n",
              "      <td>#37</td>\n",
              "      <td>Los Angeles Lakers</td>\n",
              "      <td>F</td>\n",
              "      <td>11/20/97</td>\n",
              "      <td>6-10 / 2.08</td>\n",
              "      <td>200 lbs. / 90.7 kg.</td>\n",
              "      <td>$79568</td>\n",
              "      <td>Greece</td>\n",
              "      <td>2018</td>\n",
              "      <td>Undrafted</td>\n",
              "      <td>Undrafted</td>\n",
              "      <td>Dayton</td>\n",
              "    </tr>\n",
              "    <tr>\n",
              "      <th>427</th>\n",
              "      <td>Jalen Lecque</td>\n",
              "      <td>68</td>\n",
              "      <td>#0</td>\n",
              "      <td>Phoenix Suns</td>\n",
              "      <td>G</td>\n",
              "      <td>06/13/00</td>\n",
              "      <td>6-3 / 1.91</td>\n",
              "      <td>190 lbs. / 86.2 kg.</td>\n",
              "      <td>$898310</td>\n",
              "      <td>USA</td>\n",
              "      <td>2019</td>\n",
              "      <td>Undrafted</td>\n",
              "      <td>Undrafted</td>\n",
              "      <td>NaN</td>\n",
              "    </tr>\n",
              "    <tr>\n",
              "      <th>428</th>\n",
              "      <td>Duncan Robinson</td>\n",
              "      <td>67</td>\n",
              "      <td>#55</td>\n",
              "      <td>Miami Heat</td>\n",
              "      <td>F</td>\n",
              "      <td>04/22/94</td>\n",
              "      <td>6-7 / 2.01</td>\n",
              "      <td>215 lbs. / 97.5 kg.</td>\n",
              "      <td>$1416852</td>\n",
              "      <td>USA</td>\n",
              "      <td>2018</td>\n",
              "      <td>Undrafted</td>\n",
              "      <td>Undrafted</td>\n",
              "      <td>Michigan</td>\n",
              "    </tr>\n",
              "  </tbody>\n",
              "</table>\n",
              "<p>429 rows × 14 columns</p>\n",
              "</div>"
            ],
            "text/plain": [
              "                 full_name  rating  ... draft_peak             college\n",
              "0             LeBron James      97  ...          1                 NaN\n",
              "1            Kawhi Leonard      97  ...         15     San Diego State\n",
              "2    Giannis Antetokounmpo      96  ...         15                 NaN\n",
              "3             Kevin Durant      96  ...          2               Texas\n",
              "4             James Harden      96  ...          3       Arizona State\n",
              "..                     ...     ...  ...        ...                 ...\n",
              "424        Brandon Goodwin      68  ...  Undrafted  Florida Gulf Coast\n",
              "425        Michael Frazier      68  ...         60             Florida\n",
              "426   Kostas Antetokounmpo      68  ...  Undrafted              Dayton\n",
              "427           Jalen Lecque      68  ...  Undrafted                 NaN\n",
              "428        Duncan Robinson      67  ...  Undrafted            Michigan\n",
              "\n",
              "[429 rows x 14 columns]"
            ]
          },
          "metadata": {
            "tags": []
          },
          "execution_count": 96
        }
      ]
    },
    {
      "cell_type": "markdown",
      "metadata": {
        "id": "XbtD-_PogzvR"
      },
      "source": [
        "general informations"
      ]
    },
    {
      "cell_type": "code",
      "metadata": {
        "colab": {
          "base_uri": "https://localhost:8080/"
        },
        "id": "yOWIDS4zUvPA",
        "outputId": "2f7653e3-dee1-4aa1-d1e6-39fd853f514a"
      },
      "source": [
        "df.info()"
      ],
      "execution_count": 97,
      "outputs": [
        {
          "output_type": "stream",
          "text": [
            "<class 'pandas.core.frame.DataFrame'>\n",
            "RangeIndex: 429 entries, 0 to 428\n",
            "Data columns (total 14 columns):\n",
            " #   Column       Non-Null Count  Dtype \n",
            "---  ------       --------------  ----- \n",
            " 0   full_name    429 non-null    object\n",
            " 1   rating       429 non-null    int64 \n",
            " 2   jersey       429 non-null    object\n",
            " 3   team         429 non-null    object\n",
            " 4   position     429 non-null    object\n",
            " 5   b_day        429 non-null    object\n",
            " 6   height       429 non-null    object\n",
            " 7   weight       429 non-null    object\n",
            " 8   salary       429 non-null    object\n",
            " 9   country      429 non-null    object\n",
            " 10  draft_year   429 non-null    int64 \n",
            " 11  draft_round  429 non-null    object\n",
            " 12  draft_peak   429 non-null    object\n",
            " 13  college      363 non-null    object\n",
            "dtypes: int64(2), object(12)\n",
            "memory usage: 47.0+ KB\n"
          ],
          "name": "stdout"
        }
      ]
    },
    {
      "cell_type": "code",
      "metadata": {
        "colab": {
          "base_uri": "https://localhost:8080/"
        },
        "id": "GtJ914YxU1Td",
        "outputId": "6e9cfeae-523e-4e71-f05b-612b7fd89000"
      },
      "source": [
        "df.isnull().sum()"
      ],
      "execution_count": 98,
      "outputs": [
        {
          "output_type": "execute_result",
          "data": {
            "text/plain": [
              "full_name       0\n",
              "rating          0\n",
              "jersey          0\n",
              "team            0\n",
              "position        0\n",
              "b_day           0\n",
              "height          0\n",
              "weight          0\n",
              "salary          0\n",
              "country         0\n",
              "draft_year      0\n",
              "draft_round     0\n",
              "draft_peak      0\n",
              "college        66\n",
              "dtype: int64"
            ]
          },
          "metadata": {
            "tags": []
          },
          "execution_count": 98
        }
      ]
    },
    {
      "cell_type": "markdown",
      "metadata": {
        "id": "UOYpKO7Gg3qa"
      },
      "source": [
        "preprocessing\r\n"
      ]
    },
    {
      "cell_type": "code",
      "metadata": {
        "colab": {
          "base_uri": "https://localhost:8080/",
          "height": 949
        },
        "id": "RmlZz8hnVEM1",
        "outputId": "a52e6140-bdd1-4a73-fb24-daf08ee23a5c"
      },
      "source": [
        "df.dropna(1,inplace=True)\r\n",
        "df"
      ],
      "execution_count": 99,
      "outputs": [
        {
          "output_type": "execute_result",
          "data": {
            "text/html": [
              "<div>\n",
              "<style scoped>\n",
              "    .dataframe tbody tr th:only-of-type {\n",
              "        vertical-align: middle;\n",
              "    }\n",
              "\n",
              "    .dataframe tbody tr th {\n",
              "        vertical-align: top;\n",
              "    }\n",
              "\n",
              "    .dataframe thead th {\n",
              "        text-align: right;\n",
              "    }\n",
              "</style>\n",
              "<table border=\"1\" class=\"dataframe\">\n",
              "  <thead>\n",
              "    <tr style=\"text-align: right;\">\n",
              "      <th></th>\n",
              "      <th>full_name</th>\n",
              "      <th>rating</th>\n",
              "      <th>jersey</th>\n",
              "      <th>team</th>\n",
              "      <th>position</th>\n",
              "      <th>b_day</th>\n",
              "      <th>height</th>\n",
              "      <th>weight</th>\n",
              "      <th>salary</th>\n",
              "      <th>country</th>\n",
              "      <th>draft_year</th>\n",
              "      <th>draft_round</th>\n",
              "      <th>draft_peak</th>\n",
              "    </tr>\n",
              "  </thead>\n",
              "  <tbody>\n",
              "    <tr>\n",
              "      <th>0</th>\n",
              "      <td>LeBron James</td>\n",
              "      <td>97</td>\n",
              "      <td>#23</td>\n",
              "      <td>Los Angeles Lakers</td>\n",
              "      <td>F</td>\n",
              "      <td>12/30/84</td>\n",
              "      <td>6-9 / 2.06</td>\n",
              "      <td>250 lbs. / 113.4 kg.</td>\n",
              "      <td>$37436858</td>\n",
              "      <td>USA</td>\n",
              "      <td>2003</td>\n",
              "      <td>1</td>\n",
              "      <td>1</td>\n",
              "    </tr>\n",
              "    <tr>\n",
              "      <th>1</th>\n",
              "      <td>Kawhi Leonard</td>\n",
              "      <td>97</td>\n",
              "      <td>#2</td>\n",
              "      <td>Los Angeles Clippers</td>\n",
              "      <td>F</td>\n",
              "      <td>06/29/91</td>\n",
              "      <td>6-7 / 2.01</td>\n",
              "      <td>225 lbs. / 102.1 kg.</td>\n",
              "      <td>$32742000</td>\n",
              "      <td>USA</td>\n",
              "      <td>2011</td>\n",
              "      <td>1</td>\n",
              "      <td>15</td>\n",
              "    </tr>\n",
              "    <tr>\n",
              "      <th>2</th>\n",
              "      <td>Giannis Antetokounmpo</td>\n",
              "      <td>96</td>\n",
              "      <td>#34</td>\n",
              "      <td>Milwaukee Bucks</td>\n",
              "      <td>F-G</td>\n",
              "      <td>12/06/1994</td>\n",
              "      <td>6-11 / 2.11</td>\n",
              "      <td>242 lbs. / 109.8 kg.</td>\n",
              "      <td>$25842697</td>\n",
              "      <td>Greece</td>\n",
              "      <td>2013</td>\n",
              "      <td>1</td>\n",
              "      <td>15</td>\n",
              "    </tr>\n",
              "    <tr>\n",
              "      <th>3</th>\n",
              "      <td>Kevin Durant</td>\n",
              "      <td>96</td>\n",
              "      <td>#7</td>\n",
              "      <td>Brooklyn Nets</td>\n",
              "      <td>F</td>\n",
              "      <td>09/29/88</td>\n",
              "      <td>6-10 / 2.08</td>\n",
              "      <td>230 lbs. / 104.3 kg.</td>\n",
              "      <td>$37199000</td>\n",
              "      <td>USA</td>\n",
              "      <td>2007</td>\n",
              "      <td>1</td>\n",
              "      <td>2</td>\n",
              "    </tr>\n",
              "    <tr>\n",
              "      <th>4</th>\n",
              "      <td>James Harden</td>\n",
              "      <td>96</td>\n",
              "      <td>#13</td>\n",
              "      <td>Houston Rockets</td>\n",
              "      <td>G</td>\n",
              "      <td>08/26/89</td>\n",
              "      <td>6-5 / 1.96</td>\n",
              "      <td>220 lbs. / 99.8 kg.</td>\n",
              "      <td>$38199000</td>\n",
              "      <td>USA</td>\n",
              "      <td>2009</td>\n",
              "      <td>1</td>\n",
              "      <td>3</td>\n",
              "    </tr>\n",
              "    <tr>\n",
              "      <th>...</th>\n",
              "      <td>...</td>\n",
              "      <td>...</td>\n",
              "      <td>...</td>\n",
              "      <td>...</td>\n",
              "      <td>...</td>\n",
              "      <td>...</td>\n",
              "      <td>...</td>\n",
              "      <td>...</td>\n",
              "      <td>...</td>\n",
              "      <td>...</td>\n",
              "      <td>...</td>\n",
              "      <td>...</td>\n",
              "      <td>...</td>\n",
              "    </tr>\n",
              "    <tr>\n",
              "      <th>424</th>\n",
              "      <td>Brandon Goodwin</td>\n",
              "      <td>68</td>\n",
              "      <td>#0</td>\n",
              "      <td>Atlanta Hawks</td>\n",
              "      <td>G</td>\n",
              "      <td>10/02/1995</td>\n",
              "      <td>6-0 / 1.83</td>\n",
              "      <td>180 lbs. / 81.6 kg.</td>\n",
              "      <td>$522738</td>\n",
              "      <td>USA</td>\n",
              "      <td>2018</td>\n",
              "      <td>Undrafted</td>\n",
              "      <td>Undrafted</td>\n",
              "    </tr>\n",
              "    <tr>\n",
              "      <th>425</th>\n",
              "      <td>Michael Frazier</td>\n",
              "      <td>68</td>\n",
              "      <td>#21</td>\n",
              "      <td>Houston Rockets</td>\n",
              "      <td>G</td>\n",
              "      <td>03/08/1994</td>\n",
              "      <td>6-3 / 1.91</td>\n",
              "      <td>200 lbs. / 90.7 kg.</td>\n",
              "      <td>$79568</td>\n",
              "      <td>USA</td>\n",
              "      <td>2015</td>\n",
              "      <td>2</td>\n",
              "      <td>60</td>\n",
              "    </tr>\n",
              "    <tr>\n",
              "      <th>426</th>\n",
              "      <td>Kostas Antetokounmpo</td>\n",
              "      <td>68</td>\n",
              "      <td>#37</td>\n",
              "      <td>Los Angeles Lakers</td>\n",
              "      <td>F</td>\n",
              "      <td>11/20/97</td>\n",
              "      <td>6-10 / 2.08</td>\n",
              "      <td>200 lbs. / 90.7 kg.</td>\n",
              "      <td>$79568</td>\n",
              "      <td>Greece</td>\n",
              "      <td>2018</td>\n",
              "      <td>Undrafted</td>\n",
              "      <td>Undrafted</td>\n",
              "    </tr>\n",
              "    <tr>\n",
              "      <th>427</th>\n",
              "      <td>Jalen Lecque</td>\n",
              "      <td>68</td>\n",
              "      <td>#0</td>\n",
              "      <td>Phoenix Suns</td>\n",
              "      <td>G</td>\n",
              "      <td>06/13/00</td>\n",
              "      <td>6-3 / 1.91</td>\n",
              "      <td>190 lbs. / 86.2 kg.</td>\n",
              "      <td>$898310</td>\n",
              "      <td>USA</td>\n",
              "      <td>2019</td>\n",
              "      <td>Undrafted</td>\n",
              "      <td>Undrafted</td>\n",
              "    </tr>\n",
              "    <tr>\n",
              "      <th>428</th>\n",
              "      <td>Duncan Robinson</td>\n",
              "      <td>67</td>\n",
              "      <td>#55</td>\n",
              "      <td>Miami Heat</td>\n",
              "      <td>F</td>\n",
              "      <td>04/22/94</td>\n",
              "      <td>6-7 / 2.01</td>\n",
              "      <td>215 lbs. / 97.5 kg.</td>\n",
              "      <td>$1416852</td>\n",
              "      <td>USA</td>\n",
              "      <td>2018</td>\n",
              "      <td>Undrafted</td>\n",
              "      <td>Undrafted</td>\n",
              "    </tr>\n",
              "  </tbody>\n",
              "</table>\n",
              "<p>429 rows × 13 columns</p>\n",
              "</div>"
            ],
            "text/plain": [
              "                 full_name  rating jersey  ... draft_year draft_round draft_peak\n",
              "0             LeBron James      97    #23  ...       2003           1          1\n",
              "1            Kawhi Leonard      97     #2  ...       2011           1         15\n",
              "2    Giannis Antetokounmpo      96    #34  ...       2013           1         15\n",
              "3             Kevin Durant      96     #7  ...       2007           1          2\n",
              "4             James Harden      96    #13  ...       2009           1          3\n",
              "..                     ...     ...    ...  ...        ...         ...        ...\n",
              "424        Brandon Goodwin      68     #0  ...       2018   Undrafted  Undrafted\n",
              "425        Michael Frazier      68    #21  ...       2015           2         60\n",
              "426   Kostas Antetokounmpo      68    #37  ...       2018   Undrafted  Undrafted\n",
              "427           Jalen Lecque      68     #0  ...       2019   Undrafted  Undrafted\n",
              "428        Duncan Robinson      67    #55  ...       2018   Undrafted  Undrafted\n",
              "\n",
              "[429 rows x 13 columns]"
            ]
          },
          "metadata": {
            "tags": []
          },
          "execution_count": 99
        }
      ]
    },
    {
      "cell_type": "code",
      "metadata": {
        "id": "toZCv6UPVZ-j"
      },
      "source": [
        "liste=[]\r\n",
        "for i in df[\"jersey\"]:\r\n",
        "  liste.append(int(i[1:]))\r\n",
        "df[\"jersey\"]=liste"
      ],
      "execution_count": 100,
      "outputs": []
    },
    {
      "cell_type": "code",
      "metadata": {
        "colab": {
          "base_uri": "https://localhost:8080/",
          "height": 949
        },
        "id": "dEL0AQmMWIzq",
        "outputId": "5ba7e84d-65e7-444a-d159-b5c5a3ff759f"
      },
      "source": [
        "liste=[]\r\n",
        "for i in df[\"height\"]:\r\n",
        "  liste.append(float(str(i)[6:10]))\r\n",
        "df[\"height\"]=liste\r\n",
        "df"
      ],
      "execution_count": 101,
      "outputs": [
        {
          "output_type": "execute_result",
          "data": {
            "text/html": [
              "<div>\n",
              "<style scoped>\n",
              "    .dataframe tbody tr th:only-of-type {\n",
              "        vertical-align: middle;\n",
              "    }\n",
              "\n",
              "    .dataframe tbody tr th {\n",
              "        vertical-align: top;\n",
              "    }\n",
              "\n",
              "    .dataframe thead th {\n",
              "        text-align: right;\n",
              "    }\n",
              "</style>\n",
              "<table border=\"1\" class=\"dataframe\">\n",
              "  <thead>\n",
              "    <tr style=\"text-align: right;\">\n",
              "      <th></th>\n",
              "      <th>full_name</th>\n",
              "      <th>rating</th>\n",
              "      <th>jersey</th>\n",
              "      <th>team</th>\n",
              "      <th>position</th>\n",
              "      <th>b_day</th>\n",
              "      <th>height</th>\n",
              "      <th>weight</th>\n",
              "      <th>salary</th>\n",
              "      <th>country</th>\n",
              "      <th>draft_year</th>\n",
              "      <th>draft_round</th>\n",
              "      <th>draft_peak</th>\n",
              "    </tr>\n",
              "  </thead>\n",
              "  <tbody>\n",
              "    <tr>\n",
              "      <th>0</th>\n",
              "      <td>LeBron James</td>\n",
              "      <td>97</td>\n",
              "      <td>23</td>\n",
              "      <td>Los Angeles Lakers</td>\n",
              "      <td>F</td>\n",
              "      <td>12/30/84</td>\n",
              "      <td>2.06</td>\n",
              "      <td>250 lbs. / 113.4 kg.</td>\n",
              "      <td>$37436858</td>\n",
              "      <td>USA</td>\n",
              "      <td>2003</td>\n",
              "      <td>1</td>\n",
              "      <td>1</td>\n",
              "    </tr>\n",
              "    <tr>\n",
              "      <th>1</th>\n",
              "      <td>Kawhi Leonard</td>\n",
              "      <td>97</td>\n",
              "      <td>2</td>\n",
              "      <td>Los Angeles Clippers</td>\n",
              "      <td>F</td>\n",
              "      <td>06/29/91</td>\n",
              "      <td>2.01</td>\n",
              "      <td>225 lbs. / 102.1 kg.</td>\n",
              "      <td>$32742000</td>\n",
              "      <td>USA</td>\n",
              "      <td>2011</td>\n",
              "      <td>1</td>\n",
              "      <td>15</td>\n",
              "    </tr>\n",
              "    <tr>\n",
              "      <th>2</th>\n",
              "      <td>Giannis Antetokounmpo</td>\n",
              "      <td>96</td>\n",
              "      <td>34</td>\n",
              "      <td>Milwaukee Bucks</td>\n",
              "      <td>F-G</td>\n",
              "      <td>12/06/1994</td>\n",
              "      <td>2.10</td>\n",
              "      <td>242 lbs. / 109.8 kg.</td>\n",
              "      <td>$25842697</td>\n",
              "      <td>Greece</td>\n",
              "      <td>2013</td>\n",
              "      <td>1</td>\n",
              "      <td>15</td>\n",
              "    </tr>\n",
              "    <tr>\n",
              "      <th>3</th>\n",
              "      <td>Kevin Durant</td>\n",
              "      <td>96</td>\n",
              "      <td>7</td>\n",
              "      <td>Brooklyn Nets</td>\n",
              "      <td>F</td>\n",
              "      <td>09/29/88</td>\n",
              "      <td>2.00</td>\n",
              "      <td>230 lbs. / 104.3 kg.</td>\n",
              "      <td>$37199000</td>\n",
              "      <td>USA</td>\n",
              "      <td>2007</td>\n",
              "      <td>1</td>\n",
              "      <td>2</td>\n",
              "    </tr>\n",
              "    <tr>\n",
              "      <th>4</th>\n",
              "      <td>James Harden</td>\n",
              "      <td>96</td>\n",
              "      <td>13</td>\n",
              "      <td>Houston Rockets</td>\n",
              "      <td>G</td>\n",
              "      <td>08/26/89</td>\n",
              "      <td>1.96</td>\n",
              "      <td>220 lbs. / 99.8 kg.</td>\n",
              "      <td>$38199000</td>\n",
              "      <td>USA</td>\n",
              "      <td>2009</td>\n",
              "      <td>1</td>\n",
              "      <td>3</td>\n",
              "    </tr>\n",
              "    <tr>\n",
              "      <th>...</th>\n",
              "      <td>...</td>\n",
              "      <td>...</td>\n",
              "      <td>...</td>\n",
              "      <td>...</td>\n",
              "      <td>...</td>\n",
              "      <td>...</td>\n",
              "      <td>...</td>\n",
              "      <td>...</td>\n",
              "      <td>...</td>\n",
              "      <td>...</td>\n",
              "      <td>...</td>\n",
              "      <td>...</td>\n",
              "      <td>...</td>\n",
              "    </tr>\n",
              "    <tr>\n",
              "      <th>424</th>\n",
              "      <td>Brandon Goodwin</td>\n",
              "      <td>68</td>\n",
              "      <td>0</td>\n",
              "      <td>Atlanta Hawks</td>\n",
              "      <td>G</td>\n",
              "      <td>10/02/1995</td>\n",
              "      <td>1.83</td>\n",
              "      <td>180 lbs. / 81.6 kg.</td>\n",
              "      <td>$522738</td>\n",
              "      <td>USA</td>\n",
              "      <td>2018</td>\n",
              "      <td>Undrafted</td>\n",
              "      <td>Undrafted</td>\n",
              "    </tr>\n",
              "    <tr>\n",
              "      <th>425</th>\n",
              "      <td>Michael Frazier</td>\n",
              "      <td>68</td>\n",
              "      <td>21</td>\n",
              "      <td>Houston Rockets</td>\n",
              "      <td>G</td>\n",
              "      <td>03/08/1994</td>\n",
              "      <td>1.91</td>\n",
              "      <td>200 lbs. / 90.7 kg.</td>\n",
              "      <td>$79568</td>\n",
              "      <td>USA</td>\n",
              "      <td>2015</td>\n",
              "      <td>2</td>\n",
              "      <td>60</td>\n",
              "    </tr>\n",
              "    <tr>\n",
              "      <th>426</th>\n",
              "      <td>Kostas Antetokounmpo</td>\n",
              "      <td>68</td>\n",
              "      <td>37</td>\n",
              "      <td>Los Angeles Lakers</td>\n",
              "      <td>F</td>\n",
              "      <td>11/20/97</td>\n",
              "      <td>2.00</td>\n",
              "      <td>200 lbs. / 90.7 kg.</td>\n",
              "      <td>$79568</td>\n",
              "      <td>Greece</td>\n",
              "      <td>2018</td>\n",
              "      <td>Undrafted</td>\n",
              "      <td>Undrafted</td>\n",
              "    </tr>\n",
              "    <tr>\n",
              "      <th>427</th>\n",
              "      <td>Jalen Lecque</td>\n",
              "      <td>68</td>\n",
              "      <td>0</td>\n",
              "      <td>Phoenix Suns</td>\n",
              "      <td>G</td>\n",
              "      <td>06/13/00</td>\n",
              "      <td>1.91</td>\n",
              "      <td>190 lbs. / 86.2 kg.</td>\n",
              "      <td>$898310</td>\n",
              "      <td>USA</td>\n",
              "      <td>2019</td>\n",
              "      <td>Undrafted</td>\n",
              "      <td>Undrafted</td>\n",
              "    </tr>\n",
              "    <tr>\n",
              "      <th>428</th>\n",
              "      <td>Duncan Robinson</td>\n",
              "      <td>67</td>\n",
              "      <td>55</td>\n",
              "      <td>Miami Heat</td>\n",
              "      <td>F</td>\n",
              "      <td>04/22/94</td>\n",
              "      <td>2.01</td>\n",
              "      <td>215 lbs. / 97.5 kg.</td>\n",
              "      <td>$1416852</td>\n",
              "      <td>USA</td>\n",
              "      <td>2018</td>\n",
              "      <td>Undrafted</td>\n",
              "      <td>Undrafted</td>\n",
              "    </tr>\n",
              "  </tbody>\n",
              "</table>\n",
              "<p>429 rows × 13 columns</p>\n",
              "</div>"
            ],
            "text/plain": [
              "                 full_name  rating  jersey  ... draft_year draft_round draft_peak\n",
              "0             LeBron James      97      23  ...       2003           1          1\n",
              "1            Kawhi Leonard      97       2  ...       2011           1         15\n",
              "2    Giannis Antetokounmpo      96      34  ...       2013           1         15\n",
              "3             Kevin Durant      96       7  ...       2007           1          2\n",
              "4             James Harden      96      13  ...       2009           1          3\n",
              "..                     ...     ...     ...  ...        ...         ...        ...\n",
              "424        Brandon Goodwin      68       0  ...       2018   Undrafted  Undrafted\n",
              "425        Michael Frazier      68      21  ...       2015           2         60\n",
              "426   Kostas Antetokounmpo      68      37  ...       2018   Undrafted  Undrafted\n",
              "427           Jalen Lecque      68       0  ...       2019   Undrafted  Undrafted\n",
              "428        Duncan Robinson      67      55  ...       2018   Undrafted  Undrafted\n",
              "\n",
              "[429 rows x 13 columns]"
            ]
          },
          "metadata": {
            "tags": []
          },
          "execution_count": 101
        }
      ]
    },
    {
      "cell_type": "code",
      "metadata": {
        "colab": {
          "base_uri": "https://localhost:8080/",
          "height": 660
        },
        "id": "jGe8ZNIGV_P3",
        "outputId": "5326b58f-ea2e-4470-9a39-57d3ea863d1d"
      },
      "source": [
        "liste=[]\r\n",
        "for i in df[\"weight\"]:\r\n",
        "  liste.append(int(str(i)[0:4]))\r\n",
        "df[\"weight\"]=liste\r\n",
        "df"
      ],
      "execution_count": 102,
      "outputs": [
        {
          "output_type": "execute_result",
          "data": {
            "text/html": [
              "<div>\n",
              "<style scoped>\n",
              "    .dataframe tbody tr th:only-of-type {\n",
              "        vertical-align: middle;\n",
              "    }\n",
              "\n",
              "    .dataframe tbody tr th {\n",
              "        vertical-align: top;\n",
              "    }\n",
              "\n",
              "    .dataframe thead th {\n",
              "        text-align: right;\n",
              "    }\n",
              "</style>\n",
              "<table border=\"1\" class=\"dataframe\">\n",
              "  <thead>\n",
              "    <tr style=\"text-align: right;\">\n",
              "      <th></th>\n",
              "      <th>full_name</th>\n",
              "      <th>rating</th>\n",
              "      <th>jersey</th>\n",
              "      <th>team</th>\n",
              "      <th>position</th>\n",
              "      <th>b_day</th>\n",
              "      <th>height</th>\n",
              "      <th>weight</th>\n",
              "      <th>salary</th>\n",
              "      <th>country</th>\n",
              "      <th>draft_year</th>\n",
              "      <th>draft_round</th>\n",
              "      <th>draft_peak</th>\n",
              "    </tr>\n",
              "  </thead>\n",
              "  <tbody>\n",
              "    <tr>\n",
              "      <th>0</th>\n",
              "      <td>LeBron James</td>\n",
              "      <td>97</td>\n",
              "      <td>23</td>\n",
              "      <td>Los Angeles Lakers</td>\n",
              "      <td>F</td>\n",
              "      <td>12/30/84</td>\n",
              "      <td>2.06</td>\n",
              "      <td>250</td>\n",
              "      <td>$37436858</td>\n",
              "      <td>USA</td>\n",
              "      <td>2003</td>\n",
              "      <td>1</td>\n",
              "      <td>1</td>\n",
              "    </tr>\n",
              "    <tr>\n",
              "      <th>1</th>\n",
              "      <td>Kawhi Leonard</td>\n",
              "      <td>97</td>\n",
              "      <td>2</td>\n",
              "      <td>Los Angeles Clippers</td>\n",
              "      <td>F</td>\n",
              "      <td>06/29/91</td>\n",
              "      <td>2.01</td>\n",
              "      <td>225</td>\n",
              "      <td>$32742000</td>\n",
              "      <td>USA</td>\n",
              "      <td>2011</td>\n",
              "      <td>1</td>\n",
              "      <td>15</td>\n",
              "    </tr>\n",
              "    <tr>\n",
              "      <th>2</th>\n",
              "      <td>Giannis Antetokounmpo</td>\n",
              "      <td>96</td>\n",
              "      <td>34</td>\n",
              "      <td>Milwaukee Bucks</td>\n",
              "      <td>F-G</td>\n",
              "      <td>12/06/1994</td>\n",
              "      <td>2.10</td>\n",
              "      <td>242</td>\n",
              "      <td>$25842697</td>\n",
              "      <td>Greece</td>\n",
              "      <td>2013</td>\n",
              "      <td>1</td>\n",
              "      <td>15</td>\n",
              "    </tr>\n",
              "    <tr>\n",
              "      <th>3</th>\n",
              "      <td>Kevin Durant</td>\n",
              "      <td>96</td>\n",
              "      <td>7</td>\n",
              "      <td>Brooklyn Nets</td>\n",
              "      <td>F</td>\n",
              "      <td>09/29/88</td>\n",
              "      <td>2.00</td>\n",
              "      <td>230</td>\n",
              "      <td>$37199000</td>\n",
              "      <td>USA</td>\n",
              "      <td>2007</td>\n",
              "      <td>1</td>\n",
              "      <td>2</td>\n",
              "    </tr>\n",
              "    <tr>\n",
              "      <th>4</th>\n",
              "      <td>James Harden</td>\n",
              "      <td>96</td>\n",
              "      <td>13</td>\n",
              "      <td>Houston Rockets</td>\n",
              "      <td>G</td>\n",
              "      <td>08/26/89</td>\n",
              "      <td>1.96</td>\n",
              "      <td>220</td>\n",
              "      <td>$38199000</td>\n",
              "      <td>USA</td>\n",
              "      <td>2009</td>\n",
              "      <td>1</td>\n",
              "      <td>3</td>\n",
              "    </tr>\n",
              "    <tr>\n",
              "      <th>...</th>\n",
              "      <td>...</td>\n",
              "      <td>...</td>\n",
              "      <td>...</td>\n",
              "      <td>...</td>\n",
              "      <td>...</td>\n",
              "      <td>...</td>\n",
              "      <td>...</td>\n",
              "      <td>...</td>\n",
              "      <td>...</td>\n",
              "      <td>...</td>\n",
              "      <td>...</td>\n",
              "      <td>...</td>\n",
              "      <td>...</td>\n",
              "    </tr>\n",
              "    <tr>\n",
              "      <th>424</th>\n",
              "      <td>Brandon Goodwin</td>\n",
              "      <td>68</td>\n",
              "      <td>0</td>\n",
              "      <td>Atlanta Hawks</td>\n",
              "      <td>G</td>\n",
              "      <td>10/02/1995</td>\n",
              "      <td>1.83</td>\n",
              "      <td>180</td>\n",
              "      <td>$522738</td>\n",
              "      <td>USA</td>\n",
              "      <td>2018</td>\n",
              "      <td>Undrafted</td>\n",
              "      <td>Undrafted</td>\n",
              "    </tr>\n",
              "    <tr>\n",
              "      <th>425</th>\n",
              "      <td>Michael Frazier</td>\n",
              "      <td>68</td>\n",
              "      <td>21</td>\n",
              "      <td>Houston Rockets</td>\n",
              "      <td>G</td>\n",
              "      <td>03/08/1994</td>\n",
              "      <td>1.91</td>\n",
              "      <td>200</td>\n",
              "      <td>$79568</td>\n",
              "      <td>USA</td>\n",
              "      <td>2015</td>\n",
              "      <td>2</td>\n",
              "      <td>60</td>\n",
              "    </tr>\n",
              "    <tr>\n",
              "      <th>426</th>\n",
              "      <td>Kostas Antetokounmpo</td>\n",
              "      <td>68</td>\n",
              "      <td>37</td>\n",
              "      <td>Los Angeles Lakers</td>\n",
              "      <td>F</td>\n",
              "      <td>11/20/97</td>\n",
              "      <td>2.00</td>\n",
              "      <td>200</td>\n",
              "      <td>$79568</td>\n",
              "      <td>Greece</td>\n",
              "      <td>2018</td>\n",
              "      <td>Undrafted</td>\n",
              "      <td>Undrafted</td>\n",
              "    </tr>\n",
              "    <tr>\n",
              "      <th>427</th>\n",
              "      <td>Jalen Lecque</td>\n",
              "      <td>68</td>\n",
              "      <td>0</td>\n",
              "      <td>Phoenix Suns</td>\n",
              "      <td>G</td>\n",
              "      <td>06/13/00</td>\n",
              "      <td>1.91</td>\n",
              "      <td>190</td>\n",
              "      <td>$898310</td>\n",
              "      <td>USA</td>\n",
              "      <td>2019</td>\n",
              "      <td>Undrafted</td>\n",
              "      <td>Undrafted</td>\n",
              "    </tr>\n",
              "    <tr>\n",
              "      <th>428</th>\n",
              "      <td>Duncan Robinson</td>\n",
              "      <td>67</td>\n",
              "      <td>55</td>\n",
              "      <td>Miami Heat</td>\n",
              "      <td>F</td>\n",
              "      <td>04/22/94</td>\n",
              "      <td>2.01</td>\n",
              "      <td>215</td>\n",
              "      <td>$1416852</td>\n",
              "      <td>USA</td>\n",
              "      <td>2018</td>\n",
              "      <td>Undrafted</td>\n",
              "      <td>Undrafted</td>\n",
              "    </tr>\n",
              "  </tbody>\n",
              "</table>\n",
              "<p>429 rows × 13 columns</p>\n",
              "</div>"
            ],
            "text/plain": [
              "                 full_name  rating  jersey  ... draft_year draft_round draft_peak\n",
              "0             LeBron James      97      23  ...       2003           1          1\n",
              "1            Kawhi Leonard      97       2  ...       2011           1         15\n",
              "2    Giannis Antetokounmpo      96      34  ...       2013           1         15\n",
              "3             Kevin Durant      96       7  ...       2007           1          2\n",
              "4             James Harden      96      13  ...       2009           1          3\n",
              "..                     ...     ...     ...  ...        ...         ...        ...\n",
              "424        Brandon Goodwin      68       0  ...       2018   Undrafted  Undrafted\n",
              "425        Michael Frazier      68      21  ...       2015           2         60\n",
              "426   Kostas Antetokounmpo      68      37  ...       2018   Undrafted  Undrafted\n",
              "427           Jalen Lecque      68       0  ...       2019   Undrafted  Undrafted\n",
              "428        Duncan Robinson      67      55  ...       2018   Undrafted  Undrafted\n",
              "\n",
              "[429 rows x 13 columns]"
            ]
          },
          "metadata": {
            "tags": []
          },
          "execution_count": 102
        }
      ]
    },
    {
      "cell_type": "code",
      "metadata": {
        "colab": {
          "base_uri": "https://localhost:8080/",
          "height": 660
        },
        "id": "gP-7LX4JWmCa",
        "outputId": "785219cf-3c40-40a7-9eb5-8691ca40d41c"
      },
      "source": [
        "liste=[]\r\n",
        "for i in df[\"draft_round\"]:\r\n",
        "  if i ==\"Undrafted\":\r\n",
        "    liste.append(3)\r\n",
        "  else:\r\n",
        "    liste.append(int(i))\r\n",
        "df['draft_round']=liste\r\n",
        "df"
      ],
      "execution_count": 103,
      "outputs": [
        {
          "output_type": "execute_result",
          "data": {
            "text/html": [
              "<div>\n",
              "<style scoped>\n",
              "    .dataframe tbody tr th:only-of-type {\n",
              "        vertical-align: middle;\n",
              "    }\n",
              "\n",
              "    .dataframe tbody tr th {\n",
              "        vertical-align: top;\n",
              "    }\n",
              "\n",
              "    .dataframe thead th {\n",
              "        text-align: right;\n",
              "    }\n",
              "</style>\n",
              "<table border=\"1\" class=\"dataframe\">\n",
              "  <thead>\n",
              "    <tr style=\"text-align: right;\">\n",
              "      <th></th>\n",
              "      <th>full_name</th>\n",
              "      <th>rating</th>\n",
              "      <th>jersey</th>\n",
              "      <th>team</th>\n",
              "      <th>position</th>\n",
              "      <th>b_day</th>\n",
              "      <th>height</th>\n",
              "      <th>weight</th>\n",
              "      <th>salary</th>\n",
              "      <th>country</th>\n",
              "      <th>draft_year</th>\n",
              "      <th>draft_round</th>\n",
              "      <th>draft_peak</th>\n",
              "    </tr>\n",
              "  </thead>\n",
              "  <tbody>\n",
              "    <tr>\n",
              "      <th>0</th>\n",
              "      <td>LeBron James</td>\n",
              "      <td>97</td>\n",
              "      <td>23</td>\n",
              "      <td>Los Angeles Lakers</td>\n",
              "      <td>F</td>\n",
              "      <td>12/30/84</td>\n",
              "      <td>2.06</td>\n",
              "      <td>250</td>\n",
              "      <td>$37436858</td>\n",
              "      <td>USA</td>\n",
              "      <td>2003</td>\n",
              "      <td>1</td>\n",
              "      <td>1</td>\n",
              "    </tr>\n",
              "    <tr>\n",
              "      <th>1</th>\n",
              "      <td>Kawhi Leonard</td>\n",
              "      <td>97</td>\n",
              "      <td>2</td>\n",
              "      <td>Los Angeles Clippers</td>\n",
              "      <td>F</td>\n",
              "      <td>06/29/91</td>\n",
              "      <td>2.01</td>\n",
              "      <td>225</td>\n",
              "      <td>$32742000</td>\n",
              "      <td>USA</td>\n",
              "      <td>2011</td>\n",
              "      <td>1</td>\n",
              "      <td>15</td>\n",
              "    </tr>\n",
              "    <tr>\n",
              "      <th>2</th>\n",
              "      <td>Giannis Antetokounmpo</td>\n",
              "      <td>96</td>\n",
              "      <td>34</td>\n",
              "      <td>Milwaukee Bucks</td>\n",
              "      <td>F-G</td>\n",
              "      <td>12/06/1994</td>\n",
              "      <td>2.10</td>\n",
              "      <td>242</td>\n",
              "      <td>$25842697</td>\n",
              "      <td>Greece</td>\n",
              "      <td>2013</td>\n",
              "      <td>1</td>\n",
              "      <td>15</td>\n",
              "    </tr>\n",
              "    <tr>\n",
              "      <th>3</th>\n",
              "      <td>Kevin Durant</td>\n",
              "      <td>96</td>\n",
              "      <td>7</td>\n",
              "      <td>Brooklyn Nets</td>\n",
              "      <td>F</td>\n",
              "      <td>09/29/88</td>\n",
              "      <td>2.00</td>\n",
              "      <td>230</td>\n",
              "      <td>$37199000</td>\n",
              "      <td>USA</td>\n",
              "      <td>2007</td>\n",
              "      <td>1</td>\n",
              "      <td>2</td>\n",
              "    </tr>\n",
              "    <tr>\n",
              "      <th>4</th>\n",
              "      <td>James Harden</td>\n",
              "      <td>96</td>\n",
              "      <td>13</td>\n",
              "      <td>Houston Rockets</td>\n",
              "      <td>G</td>\n",
              "      <td>08/26/89</td>\n",
              "      <td>1.96</td>\n",
              "      <td>220</td>\n",
              "      <td>$38199000</td>\n",
              "      <td>USA</td>\n",
              "      <td>2009</td>\n",
              "      <td>1</td>\n",
              "      <td>3</td>\n",
              "    </tr>\n",
              "    <tr>\n",
              "      <th>...</th>\n",
              "      <td>...</td>\n",
              "      <td>...</td>\n",
              "      <td>...</td>\n",
              "      <td>...</td>\n",
              "      <td>...</td>\n",
              "      <td>...</td>\n",
              "      <td>...</td>\n",
              "      <td>...</td>\n",
              "      <td>...</td>\n",
              "      <td>...</td>\n",
              "      <td>...</td>\n",
              "      <td>...</td>\n",
              "      <td>...</td>\n",
              "    </tr>\n",
              "    <tr>\n",
              "      <th>424</th>\n",
              "      <td>Brandon Goodwin</td>\n",
              "      <td>68</td>\n",
              "      <td>0</td>\n",
              "      <td>Atlanta Hawks</td>\n",
              "      <td>G</td>\n",
              "      <td>10/02/1995</td>\n",
              "      <td>1.83</td>\n",
              "      <td>180</td>\n",
              "      <td>$522738</td>\n",
              "      <td>USA</td>\n",
              "      <td>2018</td>\n",
              "      <td>3</td>\n",
              "      <td>Undrafted</td>\n",
              "    </tr>\n",
              "    <tr>\n",
              "      <th>425</th>\n",
              "      <td>Michael Frazier</td>\n",
              "      <td>68</td>\n",
              "      <td>21</td>\n",
              "      <td>Houston Rockets</td>\n",
              "      <td>G</td>\n",
              "      <td>03/08/1994</td>\n",
              "      <td>1.91</td>\n",
              "      <td>200</td>\n",
              "      <td>$79568</td>\n",
              "      <td>USA</td>\n",
              "      <td>2015</td>\n",
              "      <td>2</td>\n",
              "      <td>60</td>\n",
              "    </tr>\n",
              "    <tr>\n",
              "      <th>426</th>\n",
              "      <td>Kostas Antetokounmpo</td>\n",
              "      <td>68</td>\n",
              "      <td>37</td>\n",
              "      <td>Los Angeles Lakers</td>\n",
              "      <td>F</td>\n",
              "      <td>11/20/97</td>\n",
              "      <td>2.00</td>\n",
              "      <td>200</td>\n",
              "      <td>$79568</td>\n",
              "      <td>Greece</td>\n",
              "      <td>2018</td>\n",
              "      <td>3</td>\n",
              "      <td>Undrafted</td>\n",
              "    </tr>\n",
              "    <tr>\n",
              "      <th>427</th>\n",
              "      <td>Jalen Lecque</td>\n",
              "      <td>68</td>\n",
              "      <td>0</td>\n",
              "      <td>Phoenix Suns</td>\n",
              "      <td>G</td>\n",
              "      <td>06/13/00</td>\n",
              "      <td>1.91</td>\n",
              "      <td>190</td>\n",
              "      <td>$898310</td>\n",
              "      <td>USA</td>\n",
              "      <td>2019</td>\n",
              "      <td>3</td>\n",
              "      <td>Undrafted</td>\n",
              "    </tr>\n",
              "    <tr>\n",
              "      <th>428</th>\n",
              "      <td>Duncan Robinson</td>\n",
              "      <td>67</td>\n",
              "      <td>55</td>\n",
              "      <td>Miami Heat</td>\n",
              "      <td>F</td>\n",
              "      <td>04/22/94</td>\n",
              "      <td>2.01</td>\n",
              "      <td>215</td>\n",
              "      <td>$1416852</td>\n",
              "      <td>USA</td>\n",
              "      <td>2018</td>\n",
              "      <td>3</td>\n",
              "      <td>Undrafted</td>\n",
              "    </tr>\n",
              "  </tbody>\n",
              "</table>\n",
              "<p>429 rows × 13 columns</p>\n",
              "</div>"
            ],
            "text/plain": [
              "                 full_name  rating  jersey  ... draft_year draft_round draft_peak\n",
              "0             LeBron James      97      23  ...       2003           1          1\n",
              "1            Kawhi Leonard      97       2  ...       2011           1         15\n",
              "2    Giannis Antetokounmpo      96      34  ...       2013           1         15\n",
              "3             Kevin Durant      96       7  ...       2007           1          2\n",
              "4             James Harden      96      13  ...       2009           1          3\n",
              "..                     ...     ...     ...  ...        ...         ...        ...\n",
              "424        Brandon Goodwin      68       0  ...       2018           3  Undrafted\n",
              "425        Michael Frazier      68      21  ...       2015           2         60\n",
              "426   Kostas Antetokounmpo      68      37  ...       2018           3  Undrafted\n",
              "427           Jalen Lecque      68       0  ...       2019           3  Undrafted\n",
              "428        Duncan Robinson      67      55  ...       2018           3  Undrafted\n",
              "\n",
              "[429 rows x 13 columns]"
            ]
          },
          "metadata": {
            "tags": []
          },
          "execution_count": 103
        }
      ]
    },
    {
      "cell_type": "code",
      "metadata": {
        "colab": {
          "base_uri": "https://localhost:8080/",
          "height": 660
        },
        "id": "tnP5ca86W8Y_",
        "outputId": "edfd55bc-39dd-446a-fc11-e8b4c2c894b5"
      },
      "source": [
        "liste=[]\r\n",
        "for i in df[\"draft_peak\"]:\r\n",
        "  if i ==\"Undrafted\":\r\n",
        "    liste.append(61)\r\n",
        "  else:\r\n",
        "    liste.append(int(i))\r\n",
        "df['draft_peak']=liste\r\n",
        "df"
      ],
      "execution_count": 104,
      "outputs": [
        {
          "output_type": "execute_result",
          "data": {
            "text/html": [
              "<div>\n",
              "<style scoped>\n",
              "    .dataframe tbody tr th:only-of-type {\n",
              "        vertical-align: middle;\n",
              "    }\n",
              "\n",
              "    .dataframe tbody tr th {\n",
              "        vertical-align: top;\n",
              "    }\n",
              "\n",
              "    .dataframe thead th {\n",
              "        text-align: right;\n",
              "    }\n",
              "</style>\n",
              "<table border=\"1\" class=\"dataframe\">\n",
              "  <thead>\n",
              "    <tr style=\"text-align: right;\">\n",
              "      <th></th>\n",
              "      <th>full_name</th>\n",
              "      <th>rating</th>\n",
              "      <th>jersey</th>\n",
              "      <th>team</th>\n",
              "      <th>position</th>\n",
              "      <th>b_day</th>\n",
              "      <th>height</th>\n",
              "      <th>weight</th>\n",
              "      <th>salary</th>\n",
              "      <th>country</th>\n",
              "      <th>draft_year</th>\n",
              "      <th>draft_round</th>\n",
              "      <th>draft_peak</th>\n",
              "    </tr>\n",
              "  </thead>\n",
              "  <tbody>\n",
              "    <tr>\n",
              "      <th>0</th>\n",
              "      <td>LeBron James</td>\n",
              "      <td>97</td>\n",
              "      <td>23</td>\n",
              "      <td>Los Angeles Lakers</td>\n",
              "      <td>F</td>\n",
              "      <td>12/30/84</td>\n",
              "      <td>2.06</td>\n",
              "      <td>250</td>\n",
              "      <td>$37436858</td>\n",
              "      <td>USA</td>\n",
              "      <td>2003</td>\n",
              "      <td>1</td>\n",
              "      <td>1</td>\n",
              "    </tr>\n",
              "    <tr>\n",
              "      <th>1</th>\n",
              "      <td>Kawhi Leonard</td>\n",
              "      <td>97</td>\n",
              "      <td>2</td>\n",
              "      <td>Los Angeles Clippers</td>\n",
              "      <td>F</td>\n",
              "      <td>06/29/91</td>\n",
              "      <td>2.01</td>\n",
              "      <td>225</td>\n",
              "      <td>$32742000</td>\n",
              "      <td>USA</td>\n",
              "      <td>2011</td>\n",
              "      <td>1</td>\n",
              "      <td>15</td>\n",
              "    </tr>\n",
              "    <tr>\n",
              "      <th>2</th>\n",
              "      <td>Giannis Antetokounmpo</td>\n",
              "      <td>96</td>\n",
              "      <td>34</td>\n",
              "      <td>Milwaukee Bucks</td>\n",
              "      <td>F-G</td>\n",
              "      <td>12/06/1994</td>\n",
              "      <td>2.10</td>\n",
              "      <td>242</td>\n",
              "      <td>$25842697</td>\n",
              "      <td>Greece</td>\n",
              "      <td>2013</td>\n",
              "      <td>1</td>\n",
              "      <td>15</td>\n",
              "    </tr>\n",
              "    <tr>\n",
              "      <th>3</th>\n",
              "      <td>Kevin Durant</td>\n",
              "      <td>96</td>\n",
              "      <td>7</td>\n",
              "      <td>Brooklyn Nets</td>\n",
              "      <td>F</td>\n",
              "      <td>09/29/88</td>\n",
              "      <td>2.00</td>\n",
              "      <td>230</td>\n",
              "      <td>$37199000</td>\n",
              "      <td>USA</td>\n",
              "      <td>2007</td>\n",
              "      <td>1</td>\n",
              "      <td>2</td>\n",
              "    </tr>\n",
              "    <tr>\n",
              "      <th>4</th>\n",
              "      <td>James Harden</td>\n",
              "      <td>96</td>\n",
              "      <td>13</td>\n",
              "      <td>Houston Rockets</td>\n",
              "      <td>G</td>\n",
              "      <td>08/26/89</td>\n",
              "      <td>1.96</td>\n",
              "      <td>220</td>\n",
              "      <td>$38199000</td>\n",
              "      <td>USA</td>\n",
              "      <td>2009</td>\n",
              "      <td>1</td>\n",
              "      <td>3</td>\n",
              "    </tr>\n",
              "    <tr>\n",
              "      <th>...</th>\n",
              "      <td>...</td>\n",
              "      <td>...</td>\n",
              "      <td>...</td>\n",
              "      <td>...</td>\n",
              "      <td>...</td>\n",
              "      <td>...</td>\n",
              "      <td>...</td>\n",
              "      <td>...</td>\n",
              "      <td>...</td>\n",
              "      <td>...</td>\n",
              "      <td>...</td>\n",
              "      <td>...</td>\n",
              "      <td>...</td>\n",
              "    </tr>\n",
              "    <tr>\n",
              "      <th>424</th>\n",
              "      <td>Brandon Goodwin</td>\n",
              "      <td>68</td>\n",
              "      <td>0</td>\n",
              "      <td>Atlanta Hawks</td>\n",
              "      <td>G</td>\n",
              "      <td>10/02/1995</td>\n",
              "      <td>1.83</td>\n",
              "      <td>180</td>\n",
              "      <td>$522738</td>\n",
              "      <td>USA</td>\n",
              "      <td>2018</td>\n",
              "      <td>3</td>\n",
              "      <td>61</td>\n",
              "    </tr>\n",
              "    <tr>\n",
              "      <th>425</th>\n",
              "      <td>Michael Frazier</td>\n",
              "      <td>68</td>\n",
              "      <td>21</td>\n",
              "      <td>Houston Rockets</td>\n",
              "      <td>G</td>\n",
              "      <td>03/08/1994</td>\n",
              "      <td>1.91</td>\n",
              "      <td>200</td>\n",
              "      <td>$79568</td>\n",
              "      <td>USA</td>\n",
              "      <td>2015</td>\n",
              "      <td>2</td>\n",
              "      <td>60</td>\n",
              "    </tr>\n",
              "    <tr>\n",
              "      <th>426</th>\n",
              "      <td>Kostas Antetokounmpo</td>\n",
              "      <td>68</td>\n",
              "      <td>37</td>\n",
              "      <td>Los Angeles Lakers</td>\n",
              "      <td>F</td>\n",
              "      <td>11/20/97</td>\n",
              "      <td>2.00</td>\n",
              "      <td>200</td>\n",
              "      <td>$79568</td>\n",
              "      <td>Greece</td>\n",
              "      <td>2018</td>\n",
              "      <td>3</td>\n",
              "      <td>61</td>\n",
              "    </tr>\n",
              "    <tr>\n",
              "      <th>427</th>\n",
              "      <td>Jalen Lecque</td>\n",
              "      <td>68</td>\n",
              "      <td>0</td>\n",
              "      <td>Phoenix Suns</td>\n",
              "      <td>G</td>\n",
              "      <td>06/13/00</td>\n",
              "      <td>1.91</td>\n",
              "      <td>190</td>\n",
              "      <td>$898310</td>\n",
              "      <td>USA</td>\n",
              "      <td>2019</td>\n",
              "      <td>3</td>\n",
              "      <td>61</td>\n",
              "    </tr>\n",
              "    <tr>\n",
              "      <th>428</th>\n",
              "      <td>Duncan Robinson</td>\n",
              "      <td>67</td>\n",
              "      <td>55</td>\n",
              "      <td>Miami Heat</td>\n",
              "      <td>F</td>\n",
              "      <td>04/22/94</td>\n",
              "      <td>2.01</td>\n",
              "      <td>215</td>\n",
              "      <td>$1416852</td>\n",
              "      <td>USA</td>\n",
              "      <td>2018</td>\n",
              "      <td>3</td>\n",
              "      <td>61</td>\n",
              "    </tr>\n",
              "  </tbody>\n",
              "</table>\n",
              "<p>429 rows × 13 columns</p>\n",
              "</div>"
            ],
            "text/plain": [
              "                 full_name  rating  jersey  ... draft_year draft_round draft_peak\n",
              "0             LeBron James      97      23  ...       2003           1          1\n",
              "1            Kawhi Leonard      97       2  ...       2011           1         15\n",
              "2    Giannis Antetokounmpo      96      34  ...       2013           1         15\n",
              "3             Kevin Durant      96       7  ...       2007           1          2\n",
              "4             James Harden      96      13  ...       2009           1          3\n",
              "..                     ...     ...     ...  ...        ...         ...        ...\n",
              "424        Brandon Goodwin      68       0  ...       2018           3         61\n",
              "425        Michael Frazier      68      21  ...       2015           2         60\n",
              "426   Kostas Antetokounmpo      68      37  ...       2018           3         61\n",
              "427           Jalen Lecque      68       0  ...       2019           3         61\n",
              "428        Duncan Robinson      67      55  ...       2018           3         61\n",
              "\n",
              "[429 rows x 13 columns]"
            ]
          },
          "metadata": {
            "tags": []
          },
          "execution_count": 104
        }
      ]
    },
    {
      "cell_type": "code",
      "metadata": {
        "colab": {
          "base_uri": "https://localhost:8080/"
        },
        "id": "0MYJSv4TW_EG",
        "outputId": "a58b5844-b163-461d-afa1-fc991b2560cb"
      },
      "source": [
        "liste=[]\r\n",
        "for i in df['salary']:\r\n",
        "  liste.append(int(str(i)[1:]))\r\n",
        "df[\"salary\"]=liste\r\n",
        "df[\"salary\"]"
      ],
      "execution_count": 105,
      "outputs": [
        {
          "output_type": "execute_result",
          "data": {
            "text/plain": [
              "0      37436858\n",
              "1      32742000\n",
              "2      25842697\n",
              "3      37199000\n",
              "4      38199000\n",
              "         ...   \n",
              "424      522738\n",
              "425       79568\n",
              "426       79568\n",
              "427      898310\n",
              "428     1416852\n",
              "Name: salary, Length: 429, dtype: int64"
            ]
          },
          "metadata": {
            "tags": []
          },
          "execution_count": 105
        }
      ]
    },
    {
      "cell_type": "code",
      "metadata": {
        "id": "ry6REr87YBs2"
      },
      "source": [
        ""
      ],
      "execution_count": 105,
      "outputs": []
    },
    {
      "cell_type": "code",
      "metadata": {
        "colab": {
          "base_uri": "https://localhost:8080/",
          "height": 507
        },
        "id": "z0qvkc7O13vm",
        "outputId": "d5d45ef7-8f81-437d-8b6b-c4737b83e95b"
      },
      "source": [
        "from sklearn.preprocessing import LabelEncoder\r\n",
        "encoder=LabelEncoder()\r\n",
        "df[\"team\"]=encoder.fit_transform(df[\"team\"])\r\n",
        "df"
      ],
      "execution_count": 106,
      "outputs": [
        {
          "output_type": "execute_result",
          "data": {
            "text/html": [
              "<div>\n",
              "<style scoped>\n",
              "    .dataframe tbody tr th:only-of-type {\n",
              "        vertical-align: middle;\n",
              "    }\n",
              "\n",
              "    .dataframe tbody tr th {\n",
              "        vertical-align: top;\n",
              "    }\n",
              "\n",
              "    .dataframe thead th {\n",
              "        text-align: right;\n",
              "    }\n",
              "</style>\n",
              "<table border=\"1\" class=\"dataframe\">\n",
              "  <thead>\n",
              "    <tr style=\"text-align: right;\">\n",
              "      <th></th>\n",
              "      <th>full_name</th>\n",
              "      <th>rating</th>\n",
              "      <th>jersey</th>\n",
              "      <th>team</th>\n",
              "      <th>position</th>\n",
              "      <th>b_day</th>\n",
              "      <th>height</th>\n",
              "      <th>weight</th>\n",
              "      <th>salary</th>\n",
              "      <th>country</th>\n",
              "      <th>draft_year</th>\n",
              "      <th>draft_round</th>\n",
              "      <th>draft_peak</th>\n",
              "    </tr>\n",
              "  </thead>\n",
              "  <tbody>\n",
              "    <tr>\n",
              "      <th>0</th>\n",
              "      <td>LeBron James</td>\n",
              "      <td>97</td>\n",
              "      <td>23</td>\n",
              "      <td>13</td>\n",
              "      <td>F</td>\n",
              "      <td>12/30/84</td>\n",
              "      <td>2.06</td>\n",
              "      <td>250</td>\n",
              "      <td>37436858</td>\n",
              "      <td>USA</td>\n",
              "      <td>2003</td>\n",
              "      <td>1</td>\n",
              "      <td>1</td>\n",
              "    </tr>\n",
              "    <tr>\n",
              "      <th>1</th>\n",
              "      <td>Kawhi Leonard</td>\n",
              "      <td>97</td>\n",
              "      <td>2</td>\n",
              "      <td>12</td>\n",
              "      <td>F</td>\n",
              "      <td>06/29/91</td>\n",
              "      <td>2.01</td>\n",
              "      <td>225</td>\n",
              "      <td>32742000</td>\n",
              "      <td>USA</td>\n",
              "      <td>2011</td>\n",
              "      <td>1</td>\n",
              "      <td>15</td>\n",
              "    </tr>\n",
              "    <tr>\n",
              "      <th>2</th>\n",
              "      <td>Giannis Antetokounmpo</td>\n",
              "      <td>96</td>\n",
              "      <td>34</td>\n",
              "      <td>16</td>\n",
              "      <td>F-G</td>\n",
              "      <td>12/06/1994</td>\n",
              "      <td>2.10</td>\n",
              "      <td>242</td>\n",
              "      <td>25842697</td>\n",
              "      <td>Greece</td>\n",
              "      <td>2013</td>\n",
              "      <td>1</td>\n",
              "      <td>15</td>\n",
              "    </tr>\n",
              "    <tr>\n",
              "      <th>3</th>\n",
              "      <td>Kevin Durant</td>\n",
              "      <td>96</td>\n",
              "      <td>7</td>\n",
              "      <td>2</td>\n",
              "      <td>F</td>\n",
              "      <td>09/29/88</td>\n",
              "      <td>2.00</td>\n",
              "      <td>230</td>\n",
              "      <td>37199000</td>\n",
              "      <td>USA</td>\n",
              "      <td>2007</td>\n",
              "      <td>1</td>\n",
              "      <td>2</td>\n",
              "    </tr>\n",
              "    <tr>\n",
              "      <th>4</th>\n",
              "      <td>James Harden</td>\n",
              "      <td>96</td>\n",
              "      <td>13</td>\n",
              "      <td>10</td>\n",
              "      <td>G</td>\n",
              "      <td>08/26/89</td>\n",
              "      <td>1.96</td>\n",
              "      <td>220</td>\n",
              "      <td>38199000</td>\n",
              "      <td>USA</td>\n",
              "      <td>2009</td>\n",
              "      <td>1</td>\n",
              "      <td>3</td>\n",
              "    </tr>\n",
              "    <tr>\n",
              "      <th>...</th>\n",
              "      <td>...</td>\n",
              "      <td>...</td>\n",
              "      <td>...</td>\n",
              "      <td>...</td>\n",
              "      <td>...</td>\n",
              "      <td>...</td>\n",
              "      <td>...</td>\n",
              "      <td>...</td>\n",
              "      <td>...</td>\n",
              "      <td>...</td>\n",
              "      <td>...</td>\n",
              "      <td>...</td>\n",
              "      <td>...</td>\n",
              "    </tr>\n",
              "    <tr>\n",
              "      <th>424</th>\n",
              "      <td>Brandon Goodwin</td>\n",
              "      <td>68</td>\n",
              "      <td>0</td>\n",
              "      <td>0</td>\n",
              "      <td>G</td>\n",
              "      <td>10/02/1995</td>\n",
              "      <td>1.83</td>\n",
              "      <td>180</td>\n",
              "      <td>522738</td>\n",
              "      <td>USA</td>\n",
              "      <td>2018</td>\n",
              "      <td>3</td>\n",
              "      <td>61</td>\n",
              "    </tr>\n",
              "    <tr>\n",
              "      <th>425</th>\n",
              "      <td>Michael Frazier</td>\n",
              "      <td>68</td>\n",
              "      <td>21</td>\n",
              "      <td>10</td>\n",
              "      <td>G</td>\n",
              "      <td>03/08/1994</td>\n",
              "      <td>1.91</td>\n",
              "      <td>200</td>\n",
              "      <td>79568</td>\n",
              "      <td>USA</td>\n",
              "      <td>2015</td>\n",
              "      <td>2</td>\n",
              "      <td>60</td>\n",
              "    </tr>\n",
              "    <tr>\n",
              "      <th>426</th>\n",
              "      <td>Kostas Antetokounmpo</td>\n",
              "      <td>68</td>\n",
              "      <td>37</td>\n",
              "      <td>13</td>\n",
              "      <td>F</td>\n",
              "      <td>11/20/97</td>\n",
              "      <td>2.00</td>\n",
              "      <td>200</td>\n",
              "      <td>79568</td>\n",
              "      <td>Greece</td>\n",
              "      <td>2018</td>\n",
              "      <td>3</td>\n",
              "      <td>61</td>\n",
              "    </tr>\n",
              "    <tr>\n",
              "      <th>427</th>\n",
              "      <td>Jalen Lecque</td>\n",
              "      <td>68</td>\n",
              "      <td>0</td>\n",
              "      <td>23</td>\n",
              "      <td>G</td>\n",
              "      <td>06/13/00</td>\n",
              "      <td>1.91</td>\n",
              "      <td>190</td>\n",
              "      <td>898310</td>\n",
              "      <td>USA</td>\n",
              "      <td>2019</td>\n",
              "      <td>3</td>\n",
              "      <td>61</td>\n",
              "    </tr>\n",
              "    <tr>\n",
              "      <th>428</th>\n",
              "      <td>Duncan Robinson</td>\n",
              "      <td>67</td>\n",
              "      <td>55</td>\n",
              "      <td>15</td>\n",
              "      <td>F</td>\n",
              "      <td>04/22/94</td>\n",
              "      <td>2.01</td>\n",
              "      <td>215</td>\n",
              "      <td>1416852</td>\n",
              "      <td>USA</td>\n",
              "      <td>2018</td>\n",
              "      <td>3</td>\n",
              "      <td>61</td>\n",
              "    </tr>\n",
              "  </tbody>\n",
              "</table>\n",
              "<p>429 rows × 13 columns</p>\n",
              "</div>"
            ],
            "text/plain": [
              "                 full_name  rating  jersey  ...  draft_year draft_round draft_peak\n",
              "0             LeBron James      97      23  ...        2003           1          1\n",
              "1            Kawhi Leonard      97       2  ...        2011           1         15\n",
              "2    Giannis Antetokounmpo      96      34  ...        2013           1         15\n",
              "3             Kevin Durant      96       7  ...        2007           1          2\n",
              "4             James Harden      96      13  ...        2009           1          3\n",
              "..                     ...     ...     ...  ...         ...         ...        ...\n",
              "424        Brandon Goodwin      68       0  ...        2018           3         61\n",
              "425        Michael Frazier      68      21  ...        2015           2         60\n",
              "426   Kostas Antetokounmpo      68      37  ...        2018           3         61\n",
              "427           Jalen Lecque      68       0  ...        2019           3         61\n",
              "428        Duncan Robinson      67      55  ...        2018           3         61\n",
              "\n",
              "[429 rows x 13 columns]"
            ]
          },
          "metadata": {
            "tags": []
          },
          "execution_count": 106
        }
      ]
    },
    {
      "cell_type": "code",
      "metadata": {
        "colab": {
          "base_uri": "https://localhost:8080/",
          "height": 507
        },
        "id": "_iIGjMlrYGa9",
        "outputId": "4b188bad-5e24-4670-b90e-d7fc6042b901"
      },
      "source": [
        "from sklearn.preprocessing import LabelEncoder\r\n",
        "encoder=LabelEncoder()\r\n",
        "df[\"country\"]=encoder.fit_transform(df[\"country\"])\r\n",
        "df"
      ],
      "execution_count": 107,
      "outputs": [
        {
          "output_type": "execute_result",
          "data": {
            "text/html": [
              "<div>\n",
              "<style scoped>\n",
              "    .dataframe tbody tr th:only-of-type {\n",
              "        vertical-align: middle;\n",
              "    }\n",
              "\n",
              "    .dataframe tbody tr th {\n",
              "        vertical-align: top;\n",
              "    }\n",
              "\n",
              "    .dataframe thead th {\n",
              "        text-align: right;\n",
              "    }\n",
              "</style>\n",
              "<table border=\"1\" class=\"dataframe\">\n",
              "  <thead>\n",
              "    <tr style=\"text-align: right;\">\n",
              "      <th></th>\n",
              "      <th>full_name</th>\n",
              "      <th>rating</th>\n",
              "      <th>jersey</th>\n",
              "      <th>team</th>\n",
              "      <th>position</th>\n",
              "      <th>b_day</th>\n",
              "      <th>height</th>\n",
              "      <th>weight</th>\n",
              "      <th>salary</th>\n",
              "      <th>country</th>\n",
              "      <th>draft_year</th>\n",
              "      <th>draft_round</th>\n",
              "      <th>draft_peak</th>\n",
              "    </tr>\n",
              "  </thead>\n",
              "  <tbody>\n",
              "    <tr>\n",
              "      <th>0</th>\n",
              "      <td>LeBron James</td>\n",
              "      <td>97</td>\n",
              "      <td>23</td>\n",
              "      <td>13</td>\n",
              "      <td>F</td>\n",
              "      <td>12/30/84</td>\n",
              "      <td>2.06</td>\n",
              "      <td>250</td>\n",
              "      <td>37436858</td>\n",
              "      <td>36</td>\n",
              "      <td>2003</td>\n",
              "      <td>1</td>\n",
              "      <td>1</td>\n",
              "    </tr>\n",
              "    <tr>\n",
              "      <th>1</th>\n",
              "      <td>Kawhi Leonard</td>\n",
              "      <td>97</td>\n",
              "      <td>2</td>\n",
              "      <td>12</td>\n",
              "      <td>F</td>\n",
              "      <td>06/29/91</td>\n",
              "      <td>2.01</td>\n",
              "      <td>225</td>\n",
              "      <td>32742000</td>\n",
              "      <td>36</td>\n",
              "      <td>2011</td>\n",
              "      <td>1</td>\n",
              "      <td>15</td>\n",
              "    </tr>\n",
              "    <tr>\n",
              "      <th>2</th>\n",
              "      <td>Giannis Antetokounmpo</td>\n",
              "      <td>96</td>\n",
              "      <td>34</td>\n",
              "      <td>16</td>\n",
              "      <td>F-G</td>\n",
              "      <td>12/06/1994</td>\n",
              "      <td>2.10</td>\n",
              "      <td>242</td>\n",
              "      <td>25842697</td>\n",
              "      <td>16</td>\n",
              "      <td>2013</td>\n",
              "      <td>1</td>\n",
              "      <td>15</td>\n",
              "    </tr>\n",
              "    <tr>\n",
              "      <th>3</th>\n",
              "      <td>Kevin Durant</td>\n",
              "      <td>96</td>\n",
              "      <td>7</td>\n",
              "      <td>2</td>\n",
              "      <td>F</td>\n",
              "      <td>09/29/88</td>\n",
              "      <td>2.00</td>\n",
              "      <td>230</td>\n",
              "      <td>37199000</td>\n",
              "      <td>36</td>\n",
              "      <td>2007</td>\n",
              "      <td>1</td>\n",
              "      <td>2</td>\n",
              "    </tr>\n",
              "    <tr>\n",
              "      <th>4</th>\n",
              "      <td>James Harden</td>\n",
              "      <td>96</td>\n",
              "      <td>13</td>\n",
              "      <td>10</td>\n",
              "      <td>G</td>\n",
              "      <td>08/26/89</td>\n",
              "      <td>1.96</td>\n",
              "      <td>220</td>\n",
              "      <td>38199000</td>\n",
              "      <td>36</td>\n",
              "      <td>2009</td>\n",
              "      <td>1</td>\n",
              "      <td>3</td>\n",
              "    </tr>\n",
              "    <tr>\n",
              "      <th>...</th>\n",
              "      <td>...</td>\n",
              "      <td>...</td>\n",
              "      <td>...</td>\n",
              "      <td>...</td>\n",
              "      <td>...</td>\n",
              "      <td>...</td>\n",
              "      <td>...</td>\n",
              "      <td>...</td>\n",
              "      <td>...</td>\n",
              "      <td>...</td>\n",
              "      <td>...</td>\n",
              "      <td>...</td>\n",
              "      <td>...</td>\n",
              "    </tr>\n",
              "    <tr>\n",
              "      <th>424</th>\n",
              "      <td>Brandon Goodwin</td>\n",
              "      <td>68</td>\n",
              "      <td>0</td>\n",
              "      <td>0</td>\n",
              "      <td>G</td>\n",
              "      <td>10/02/1995</td>\n",
              "      <td>1.83</td>\n",
              "      <td>180</td>\n",
              "      <td>522738</td>\n",
              "      <td>36</td>\n",
              "      <td>2018</td>\n",
              "      <td>3</td>\n",
              "      <td>61</td>\n",
              "    </tr>\n",
              "    <tr>\n",
              "      <th>425</th>\n",
              "      <td>Michael Frazier</td>\n",
              "      <td>68</td>\n",
              "      <td>21</td>\n",
              "      <td>10</td>\n",
              "      <td>G</td>\n",
              "      <td>03/08/1994</td>\n",
              "      <td>1.91</td>\n",
              "      <td>200</td>\n",
              "      <td>79568</td>\n",
              "      <td>36</td>\n",
              "      <td>2015</td>\n",
              "      <td>2</td>\n",
              "      <td>60</td>\n",
              "    </tr>\n",
              "    <tr>\n",
              "      <th>426</th>\n",
              "      <td>Kostas Antetokounmpo</td>\n",
              "      <td>68</td>\n",
              "      <td>37</td>\n",
              "      <td>13</td>\n",
              "      <td>F</td>\n",
              "      <td>11/20/97</td>\n",
              "      <td>2.00</td>\n",
              "      <td>200</td>\n",
              "      <td>79568</td>\n",
              "      <td>16</td>\n",
              "      <td>2018</td>\n",
              "      <td>3</td>\n",
              "      <td>61</td>\n",
              "    </tr>\n",
              "    <tr>\n",
              "      <th>427</th>\n",
              "      <td>Jalen Lecque</td>\n",
              "      <td>68</td>\n",
              "      <td>0</td>\n",
              "      <td>23</td>\n",
              "      <td>G</td>\n",
              "      <td>06/13/00</td>\n",
              "      <td>1.91</td>\n",
              "      <td>190</td>\n",
              "      <td>898310</td>\n",
              "      <td>36</td>\n",
              "      <td>2019</td>\n",
              "      <td>3</td>\n",
              "      <td>61</td>\n",
              "    </tr>\n",
              "    <tr>\n",
              "      <th>428</th>\n",
              "      <td>Duncan Robinson</td>\n",
              "      <td>67</td>\n",
              "      <td>55</td>\n",
              "      <td>15</td>\n",
              "      <td>F</td>\n",
              "      <td>04/22/94</td>\n",
              "      <td>2.01</td>\n",
              "      <td>215</td>\n",
              "      <td>1416852</td>\n",
              "      <td>36</td>\n",
              "      <td>2018</td>\n",
              "      <td>3</td>\n",
              "      <td>61</td>\n",
              "    </tr>\n",
              "  </tbody>\n",
              "</table>\n",
              "<p>429 rows × 13 columns</p>\n",
              "</div>"
            ],
            "text/plain": [
              "                 full_name  rating  jersey  ...  draft_year draft_round draft_peak\n",
              "0             LeBron James      97      23  ...        2003           1          1\n",
              "1            Kawhi Leonard      97       2  ...        2011           1         15\n",
              "2    Giannis Antetokounmpo      96      34  ...        2013           1         15\n",
              "3             Kevin Durant      96       7  ...        2007           1          2\n",
              "4             James Harden      96      13  ...        2009           1          3\n",
              "..                     ...     ...     ...  ...         ...         ...        ...\n",
              "424        Brandon Goodwin      68       0  ...        2018           3         61\n",
              "425        Michael Frazier      68      21  ...        2015           2         60\n",
              "426   Kostas Antetokounmpo      68      37  ...        2018           3         61\n",
              "427           Jalen Lecque      68       0  ...        2019           3         61\n",
              "428        Duncan Robinson      67      55  ...        2018           3         61\n",
              "\n",
              "[429 rows x 13 columns]"
            ]
          },
          "metadata": {
            "tags": []
          },
          "execution_count": 107
        }
      ]
    },
    {
      "cell_type": "code",
      "metadata": {
        "colab": {
          "base_uri": "https://localhost:8080/",
          "height": 507
        },
        "id": "pqW6vkBJYNZQ",
        "outputId": "610c095a-5f0b-4c40-b523-3dd3c762c2c1"
      },
      "source": [
        "from sklearn.preprocessing import LabelEncoder\r\n",
        "encoder=LabelEncoder()\r\n",
        "df[\"position\"]=encoder.fit_transform(df[\"position\"])\r\n",
        "df"
      ],
      "execution_count": 108,
      "outputs": [
        {
          "output_type": "execute_result",
          "data": {
            "text/html": [
              "<div>\n",
              "<style scoped>\n",
              "    .dataframe tbody tr th:only-of-type {\n",
              "        vertical-align: middle;\n",
              "    }\n",
              "\n",
              "    .dataframe tbody tr th {\n",
              "        vertical-align: top;\n",
              "    }\n",
              "\n",
              "    .dataframe thead th {\n",
              "        text-align: right;\n",
              "    }\n",
              "</style>\n",
              "<table border=\"1\" class=\"dataframe\">\n",
              "  <thead>\n",
              "    <tr style=\"text-align: right;\">\n",
              "      <th></th>\n",
              "      <th>full_name</th>\n",
              "      <th>rating</th>\n",
              "      <th>jersey</th>\n",
              "      <th>team</th>\n",
              "      <th>position</th>\n",
              "      <th>b_day</th>\n",
              "      <th>height</th>\n",
              "      <th>weight</th>\n",
              "      <th>salary</th>\n",
              "      <th>country</th>\n",
              "      <th>draft_year</th>\n",
              "      <th>draft_round</th>\n",
              "      <th>draft_peak</th>\n",
              "    </tr>\n",
              "  </thead>\n",
              "  <tbody>\n",
              "    <tr>\n",
              "      <th>0</th>\n",
              "      <td>LeBron James</td>\n",
              "      <td>97</td>\n",
              "      <td>23</td>\n",
              "      <td>13</td>\n",
              "      <td>2</td>\n",
              "      <td>12/30/84</td>\n",
              "      <td>2.06</td>\n",
              "      <td>250</td>\n",
              "      <td>37436858</td>\n",
              "      <td>36</td>\n",
              "      <td>2003</td>\n",
              "      <td>1</td>\n",
              "      <td>1</td>\n",
              "    </tr>\n",
              "    <tr>\n",
              "      <th>1</th>\n",
              "      <td>Kawhi Leonard</td>\n",
              "      <td>97</td>\n",
              "      <td>2</td>\n",
              "      <td>12</td>\n",
              "      <td>2</td>\n",
              "      <td>06/29/91</td>\n",
              "      <td>2.01</td>\n",
              "      <td>225</td>\n",
              "      <td>32742000</td>\n",
              "      <td>36</td>\n",
              "      <td>2011</td>\n",
              "      <td>1</td>\n",
              "      <td>15</td>\n",
              "    </tr>\n",
              "    <tr>\n",
              "      <th>2</th>\n",
              "      <td>Giannis Antetokounmpo</td>\n",
              "      <td>96</td>\n",
              "      <td>34</td>\n",
              "      <td>16</td>\n",
              "      <td>4</td>\n",
              "      <td>12/06/1994</td>\n",
              "      <td>2.10</td>\n",
              "      <td>242</td>\n",
              "      <td>25842697</td>\n",
              "      <td>16</td>\n",
              "      <td>2013</td>\n",
              "      <td>1</td>\n",
              "      <td>15</td>\n",
              "    </tr>\n",
              "    <tr>\n",
              "      <th>3</th>\n",
              "      <td>Kevin Durant</td>\n",
              "      <td>96</td>\n",
              "      <td>7</td>\n",
              "      <td>2</td>\n",
              "      <td>2</td>\n",
              "      <td>09/29/88</td>\n",
              "      <td>2.00</td>\n",
              "      <td>230</td>\n",
              "      <td>37199000</td>\n",
              "      <td>36</td>\n",
              "      <td>2007</td>\n",
              "      <td>1</td>\n",
              "      <td>2</td>\n",
              "    </tr>\n",
              "    <tr>\n",
              "      <th>4</th>\n",
              "      <td>James Harden</td>\n",
              "      <td>96</td>\n",
              "      <td>13</td>\n",
              "      <td>10</td>\n",
              "      <td>5</td>\n",
              "      <td>08/26/89</td>\n",
              "      <td>1.96</td>\n",
              "      <td>220</td>\n",
              "      <td>38199000</td>\n",
              "      <td>36</td>\n",
              "      <td>2009</td>\n",
              "      <td>1</td>\n",
              "      <td>3</td>\n",
              "    </tr>\n",
              "    <tr>\n",
              "      <th>...</th>\n",
              "      <td>...</td>\n",
              "      <td>...</td>\n",
              "      <td>...</td>\n",
              "      <td>...</td>\n",
              "      <td>...</td>\n",
              "      <td>...</td>\n",
              "      <td>...</td>\n",
              "      <td>...</td>\n",
              "      <td>...</td>\n",
              "      <td>...</td>\n",
              "      <td>...</td>\n",
              "      <td>...</td>\n",
              "      <td>...</td>\n",
              "    </tr>\n",
              "    <tr>\n",
              "      <th>424</th>\n",
              "      <td>Brandon Goodwin</td>\n",
              "      <td>68</td>\n",
              "      <td>0</td>\n",
              "      <td>0</td>\n",
              "      <td>5</td>\n",
              "      <td>10/02/1995</td>\n",
              "      <td>1.83</td>\n",
              "      <td>180</td>\n",
              "      <td>522738</td>\n",
              "      <td>36</td>\n",
              "      <td>2018</td>\n",
              "      <td>3</td>\n",
              "      <td>61</td>\n",
              "    </tr>\n",
              "    <tr>\n",
              "      <th>425</th>\n",
              "      <td>Michael Frazier</td>\n",
              "      <td>68</td>\n",
              "      <td>21</td>\n",
              "      <td>10</td>\n",
              "      <td>5</td>\n",
              "      <td>03/08/1994</td>\n",
              "      <td>1.91</td>\n",
              "      <td>200</td>\n",
              "      <td>79568</td>\n",
              "      <td>36</td>\n",
              "      <td>2015</td>\n",
              "      <td>2</td>\n",
              "      <td>60</td>\n",
              "    </tr>\n",
              "    <tr>\n",
              "      <th>426</th>\n",
              "      <td>Kostas Antetokounmpo</td>\n",
              "      <td>68</td>\n",
              "      <td>37</td>\n",
              "      <td>13</td>\n",
              "      <td>2</td>\n",
              "      <td>11/20/97</td>\n",
              "      <td>2.00</td>\n",
              "      <td>200</td>\n",
              "      <td>79568</td>\n",
              "      <td>16</td>\n",
              "      <td>2018</td>\n",
              "      <td>3</td>\n",
              "      <td>61</td>\n",
              "    </tr>\n",
              "    <tr>\n",
              "      <th>427</th>\n",
              "      <td>Jalen Lecque</td>\n",
              "      <td>68</td>\n",
              "      <td>0</td>\n",
              "      <td>23</td>\n",
              "      <td>5</td>\n",
              "      <td>06/13/00</td>\n",
              "      <td>1.91</td>\n",
              "      <td>190</td>\n",
              "      <td>898310</td>\n",
              "      <td>36</td>\n",
              "      <td>2019</td>\n",
              "      <td>3</td>\n",
              "      <td>61</td>\n",
              "    </tr>\n",
              "    <tr>\n",
              "      <th>428</th>\n",
              "      <td>Duncan Robinson</td>\n",
              "      <td>67</td>\n",
              "      <td>55</td>\n",
              "      <td>15</td>\n",
              "      <td>2</td>\n",
              "      <td>04/22/94</td>\n",
              "      <td>2.01</td>\n",
              "      <td>215</td>\n",
              "      <td>1416852</td>\n",
              "      <td>36</td>\n",
              "      <td>2018</td>\n",
              "      <td>3</td>\n",
              "      <td>61</td>\n",
              "    </tr>\n",
              "  </tbody>\n",
              "</table>\n",
              "<p>429 rows × 13 columns</p>\n",
              "</div>"
            ],
            "text/plain": [
              "                 full_name  rating  jersey  ...  draft_year  draft_round draft_peak\n",
              "0             LeBron James      97      23  ...        2003            1          1\n",
              "1            Kawhi Leonard      97       2  ...        2011            1         15\n",
              "2    Giannis Antetokounmpo      96      34  ...        2013            1         15\n",
              "3             Kevin Durant      96       7  ...        2007            1          2\n",
              "4             James Harden      96      13  ...        2009            1          3\n",
              "..                     ...     ...     ...  ...         ...          ...        ...\n",
              "424        Brandon Goodwin      68       0  ...        2018            3         61\n",
              "425        Michael Frazier      68      21  ...        2015            2         60\n",
              "426   Kostas Antetokounmpo      68      37  ...        2018            3         61\n",
              "427           Jalen Lecque      68       0  ...        2019            3         61\n",
              "428        Duncan Robinson      67      55  ...        2018            3         61\n",
              "\n",
              "[429 rows x 13 columns]"
            ]
          },
          "metadata": {
            "tags": []
          },
          "execution_count": 108
        }
      ]
    },
    {
      "cell_type": "code",
      "metadata": {
        "id": "WuFVjF2KZmTV"
      },
      "source": [
        ""
      ],
      "execution_count": 108,
      "outputs": []
    },
    {
      "cell_type": "code",
      "metadata": {
        "colab": {
          "base_uri": "https://localhost:8080/"
        },
        "id": "IMDBdDz-Zmmy",
        "outputId": "a668110b-d42a-42af-b6b5-f81e91f0cc9a"
      },
      "source": [
        "liste=[]\n",
        "for i in  df['b_day']:\n",
        "  if len (i[6:])==2:\n",
        "    print(i[6:])\n",
        "    if i[6:]==\"00\":\n",
        "      print(i[6:])\n",
        "      liste.append(20)\n",
        "    else:\n",
        "      print(i[6:])\n",
        "      liste.append(2020-int(\"19\"+i[6:]))\n",
        "      \n",
        "  else:\n",
        "    print(len(i))\n",
        "    print(i[6:])\n",
        "    liste.append(2020-int(i[6:]))\n",
        "df[\"age\"]=liste\n",
        "df[\"age\"]"
      ],
      "execution_count": 109,
      "outputs": [
        {
          "output_type": "stream",
          "text": [
            "84\n",
            "84\n",
            "91\n",
            "91\n",
            "10\n",
            "1994\n",
            "88\n",
            "88\n",
            "89\n",
            "89\n",
            "88\n",
            "88\n",
            "10\n",
            "1993\n",
            "10\n",
            "1990\n",
            "90\n",
            "90\n",
            "94\n",
            "94\n",
            "92\n",
            "92\n",
            "95\n",
            "95\n",
            "10\n",
            "1988\n",
            "10\n",
            "1990\n",
            "95\n",
            "95\n",
            "89\n",
            "89\n",
            "92\n",
            "92\n",
            "89\n",
            "89\n",
            "10\n",
            "1996\n",
            "10\n",
            "1990\n",
            "99\n",
            "99\n",
            "85\n",
            "85\n",
            "93\n",
            "93\n",
            "10\n",
            "1987\n",
            "10\n",
            "1989\n",
            "91\n",
            "91\n",
            "10\n",
            "1992\n",
            "10\n",
            "1995\n",
            "96\n",
            "96\n",
            "10\n",
            "1994\n",
            "96\n",
            "96\n",
            "97\n",
            "97\n",
            "96\n",
            "96\n",
            "90\n",
            "90\n",
            "10\n",
            "1993\n",
            "10\n",
            "1990\n",
            "10\n",
            "1990\n",
            "90\n",
            "90\n",
            "10\n",
            "1990\n",
            "10\n",
            "1998\n",
            "98\n",
            "98\n",
            "10\n",
            "1989\n",
            "94\n",
            "94\n",
            "92\n",
            "92\n",
            "10\n",
            "1986\n",
            "10\n",
            "1995\n",
            "86\n",
            "86\n",
            "10\n",
            "1991\n",
            "10\n",
            "1985\n",
            "97\n",
            "97\n",
            "93\n",
            "93\n",
            "95\n",
            "95\n",
            "97\n",
            "97\n",
            "86\n",
            "86\n",
            "99\n",
            "99\n",
            "89\n",
            "89\n",
            "10\n",
            "1992\n",
            "10\n",
            "1988\n",
            "94\n",
            "94\n",
            "10\n",
            "1988\n",
            "97\n",
            "97\n",
            "94\n",
            "94\n",
            "94\n",
            "94\n",
            "85\n",
            "85\n",
            "93\n",
            "93\n",
            "98\n",
            "98\n",
            "10\n",
            "1993\n",
            "99\n",
            "99\n",
            "10\n",
            "1985\n",
            "10\n",
            "1994\n",
            "96\n",
            "96\n",
            "89\n",
            "89\n",
            "10\n",
            "2000\n",
            "86\n",
            "86\n",
            "95\n",
            "95\n",
            "10\n",
            "1997\n",
            "88\n",
            "88\n",
            "10\n",
            "1996\n",
            "10\n",
            "1992\n",
            "89\n",
            "89\n",
            "10\n",
            "1988\n",
            "90\n",
            "90\n",
            "91\n",
            "91\n",
            "90\n",
            "90\n",
            "90\n",
            "90\n",
            "92\n",
            "92\n",
            "10\n",
            "1993\n",
            "84\n",
            "84\n",
            "93\n",
            "93\n",
            "10\n",
            "1993\n",
            "10\n",
            "1999\n",
            "97\n",
            "97\n",
            "98\n",
            "98\n",
            "97\n",
            "97\n",
            "92\n",
            "92\n",
            "10\n",
            "1988\n",
            "96\n",
            "96\n",
            "93\n",
            "93\n",
            "10\n",
            "1986\n",
            "10\n",
            "1998\n",
            "94\n",
            "94\n",
            "10\n",
            "1987\n",
            "92\n",
            "92\n",
            "10\n",
            "1988\n",
            "88\n",
            "88\n",
            "10\n",
            "1998\n",
            "10\n",
            "1991\n",
            "91\n",
            "91\n",
            "10\n",
            "1985\n",
            "94\n",
            "94\n",
            "95\n",
            "95\n",
            "88\n",
            "88\n",
            "00\n",
            "00\n",
            "90\n",
            "90\n",
            "10\n",
            "1991\n",
            "92\n",
            "92\n",
            "97\n",
            "97\n",
            "99\n",
            "99\n",
            "10\n",
            "1992\n",
            "92\n",
            "92\n",
            "88\n",
            "88\n",
            "90\n",
            "90\n",
            "10\n",
            "1991\n",
            "84\n",
            "84\n",
            "94\n",
            "94\n",
            "10\n",
            "1989\n",
            "96\n",
            "96\n",
            "10\n",
            "1993\n",
            "91\n",
            "91\n",
            "10\n",
            "1995\n",
            "95\n",
            "95\n",
            "10\n",
            "1995\n",
            "94\n",
            "94\n",
            "93\n",
            "93\n",
            "10\n",
            "1988\n",
            "10\n",
            "1994\n",
            "96\n",
            "96\n",
            "00\n",
            "00\n",
            "10\n",
            "1997\n",
            "90\n",
            "90\n",
            "10\n",
            "1998\n",
            "88\n",
            "88\n",
            "96\n",
            "96\n",
            "10\n",
            "1988\n",
            "86\n",
            "86\n",
            "10\n",
            "1989\n",
            "85\n",
            "85\n",
            "10\n",
            "1994\n",
            "87\n",
            "87\n",
            "92\n",
            "92\n",
            "93\n",
            "93\n",
            "10\n",
            "1996\n",
            "95\n",
            "95\n",
            "10\n",
            "1994\n",
            "10\n",
            "1990\n",
            "95\n",
            "95\n",
            "91\n",
            "91\n",
            "94\n",
            "94\n",
            "10\n",
            "1994\n",
            "10\n",
            "1999\n",
            "97\n",
            "97\n",
            "10\n",
            "1992\n",
            "97\n",
            "97\n",
            "99\n",
            "99\n",
            "94\n",
            "94\n",
            "85\n",
            "85\n",
            "10\n",
            "1987\n",
            "84\n",
            "84\n",
            "10\n",
            "1989\n",
            "10\n",
            "1992\n",
            "90\n",
            "90\n",
            "98\n",
            "98\n",
            "96\n",
            "96\n",
            "93\n",
            "93\n",
            "10\n",
            "1990\n",
            "10\n",
            "1989\n",
            "90\n",
            "90\n",
            "86\n",
            "86\n",
            "86\n",
            "86\n",
            "92\n",
            "92\n",
            "98\n",
            "98\n",
            "87\n",
            "87\n",
            "10\n",
            "1997\n",
            "10\n",
            "1997\n",
            "10\n",
            "1993\n",
            "93\n",
            "93\n",
            "10\n",
            "1999\n",
            "92\n",
            "92\n",
            "86\n",
            "86\n",
            "10\n",
            "1996\n",
            "95\n",
            "95\n",
            "94\n",
            "94\n",
            "98\n",
            "98\n",
            "10\n",
            "1992\n",
            "10\n",
            "1991\n",
            "86\n",
            "86\n",
            "97\n",
            "97\n",
            "10\n",
            "1992\n",
            "10\n",
            "1989\n",
            "10\n",
            "1991\n",
            "86\n",
            "86\n",
            "92\n",
            "92\n",
            "00\n",
            "00\n",
            "10\n",
            "1980\n",
            "10\n",
            "1986\n",
            "10\n",
            "1989\n",
            "86\n",
            "86\n",
            "92\n",
            "92\n",
            "96\n",
            "96\n",
            "10\n",
            "1987\n",
            "10\n",
            "1994\n",
            "94\n",
            "94\n",
            "87\n",
            "87\n",
            "93\n",
            "93\n",
            "10\n",
            "1995\n",
            "90\n",
            "90\n",
            "95\n",
            "95\n",
            "10\n",
            "1986\n",
            "10\n",
            "1995\n",
            "93\n",
            "93\n",
            "87\n",
            "87\n",
            "96\n",
            "96\n",
            "81\n",
            "81\n",
            "10\n",
            "1998\n",
            "10\n",
            "1994\n",
            "10\n",
            "1988\n",
            "10\n",
            "1995\n",
            "88\n",
            "88\n",
            "92\n",
            "92\n",
            "10\n",
            "1988\n",
            "10\n",
            "1998\n",
            "10\n",
            "1989\n",
            "91\n",
            "91\n",
            "10\n",
            "1995\n",
            "91\n",
            "91\n",
            "88\n",
            "88\n",
            "95\n",
            "95\n",
            "96\n",
            "96\n",
            "95\n",
            "95\n",
            "93\n",
            "93\n",
            "10\n",
            "1995\n",
            "92\n",
            "92\n",
            "96\n",
            "96\n",
            "91\n",
            "91\n",
            "97\n",
            "97\n",
            "10\n",
            "1993\n",
            "93\n",
            "93\n",
            "90\n",
            "90\n",
            "90\n",
            "90\n",
            "96\n",
            "96\n",
            "10\n",
            "1993\n",
            "98\n",
            "98\n",
            "98\n",
            "98\n",
            "10\n",
            "1993\n",
            "95\n",
            "95\n",
            "10\n",
            "1992\n",
            "97\n",
            "97\n",
            "91\n",
            "91\n",
            "92\n",
            "92\n",
            "97\n",
            "97\n",
            "10\n",
            "1992\n",
            "89\n",
            "89\n",
            "85\n",
            "85\n",
            "90\n",
            "90\n",
            "88\n",
            "88\n",
            "93\n",
            "93\n",
            "10\n",
            "1997\n",
            "10\n",
            "1994\n",
            "93\n",
            "93\n",
            "97\n",
            "97\n",
            "95\n",
            "95\n",
            "00\n",
            "00\n",
            "10\n",
            "1998\n",
            "97\n",
            "97\n",
            "95\n",
            "95\n",
            "10\n",
            "1994\n",
            "10\n",
            "1996\n",
            "10\n",
            "1995\n",
            "96\n",
            "96\n",
            "99\n",
            "99\n",
            "91\n",
            "91\n",
            "94\n",
            "94\n",
            "10\n",
            "1982\n",
            "10\n",
            "1992\n",
            "10\n",
            "1990\n",
            "10\n",
            "1990\n",
            "10\n",
            "1993\n",
            "10\n",
            "1993\n",
            "96\n",
            "96\n",
            "10\n",
            "1993\n",
            "96\n",
            "96\n",
            "10\n",
            "1996\n",
            "97\n",
            "97\n",
            "10\n",
            "1986\n",
            "87\n",
            "87\n",
            "10\n",
            "1991\n",
            "98\n",
            "98\n",
            "93\n",
            "93\n",
            "10\n",
            "1993\n",
            "10\n",
            "1994\n",
            "10\n",
            "1998\n",
            "89\n",
            "89\n",
            "10\n",
            "1988\n",
            "10\n",
            "1991\n",
            "97\n",
            "97\n",
            "10\n",
            "1986\n",
            "88\n",
            "88\n",
            "98\n",
            "98\n",
            "89\n",
            "89\n",
            "10\n",
            "1997\n",
            "00\n",
            "00\n",
            "93\n",
            "93\n",
            "00\n",
            "00\n",
            "96\n",
            "96\n",
            "91\n",
            "91\n",
            "10\n",
            "2000\n",
            "10\n",
            "1995\n",
            "10\n",
            "1996\n",
            "10\n",
            "1991\n",
            "91\n",
            "91\n",
            "97\n",
            "97\n",
            "10\n",
            "1985\n",
            "10\n",
            "1992\n",
            "10\n",
            "1990\n",
            "10\n",
            "1991\n",
            "10\n",
            "1989\n",
            "96\n",
            "96\n",
            "94\n",
            "94\n",
            "10\n",
            "1991\n",
            "10\n",
            "1985\n",
            "97\n",
            "97\n",
            "95\n",
            "95\n",
            "91\n",
            "91\n",
            "90\n",
            "90\n",
            "92\n",
            "92\n",
            "93\n",
            "93\n",
            "10\n",
            "1994\n",
            "10\n",
            "1999\n",
            "10\n",
            "1999\n",
            "10\n",
            "1985\n",
            "96\n",
            "96\n",
            "92\n",
            "92\n",
            "99\n",
            "99\n",
            "98\n",
            "98\n",
            "90\n",
            "90\n",
            "98\n",
            "98\n",
            "94\n",
            "94\n",
            "10\n",
            "2000\n",
            "90\n",
            "90\n",
            "99\n",
            "99\n",
            "98\n",
            "98\n",
            "10\n",
            "1994\n",
            "10\n",
            "1998\n",
            "98\n",
            "98\n",
            "10\n",
            "1997\n",
            "10\n",
            "1996\n",
            "10\n",
            "1997\n",
            "10\n",
            "2000\n",
            "10\n",
            "1999\n",
            "10\n",
            "1994\n",
            "10\n",
            "1993\n",
            "95\n",
            "95\n",
            "10\n",
            "1996\n",
            "97\n",
            "97\n",
            "98\n",
            "98\n",
            "10\n",
            "1998\n",
            "93\n",
            "93\n",
            "10\n",
            "1998\n",
            "95\n",
            "95\n",
            "94\n",
            "94\n",
            "10\n",
            "1993\n",
            "10\n",
            "1999\n",
            "97\n",
            "97\n",
            "97\n",
            "97\n",
            "93\n",
            "93\n",
            "95\n",
            "95\n",
            "99\n",
            "99\n",
            "97\n",
            "97\n",
            "97\n",
            "97\n",
            "98\n",
            "98\n",
            "00\n",
            "00\n",
            "10\n",
            "1996\n",
            "10\n",
            "1998\n",
            "99\n",
            "99\n",
            "96\n",
            "96\n",
            "97\n",
            "97\n",
            "96\n",
            "96\n",
            "10\n",
            "2000\n",
            "10\n",
            "1998\n",
            "98\n",
            "98\n",
            "96\n",
            "96\n",
            "91\n",
            "91\n",
            "96\n",
            "96\n",
            "96\n",
            "96\n",
            "10\n",
            "1996\n",
            "10\n",
            "1997\n",
            "10\n",
            "1995\n",
            "93\n",
            "93\n",
            "10\n",
            "1988\n",
            "97\n",
            "97\n",
            "10\n",
            "1999\n",
            "10\n",
            "1995\n",
            "99\n",
            "99\n",
            "00\n",
            "00\n",
            "96\n",
            "96\n",
            "92\n",
            "92\n",
            "99\n",
            "99\n",
            "10\n",
            "1999\n",
            "91\n",
            "91\n",
            "97\n",
            "97\n",
            "97\n",
            "97\n",
            "95\n",
            "95\n",
            "10\n",
            "1993\n",
            "10\n",
            "1996\n",
            "10\n",
            "1995\n",
            "94\n",
            "94\n",
            "96\n",
            "96\n",
            "10\n",
            "1995\n",
            "10\n",
            "1994\n",
            "10\n",
            "1997\n",
            "10\n",
            "1993\n",
            "10\n",
            "1999\n",
            "10\n",
            "1998\n",
            "91\n",
            "91\n",
            "10\n",
            "1995\n",
            "10\n",
            "1994\n",
            "97\n",
            "97\n",
            "00\n",
            "00\n",
            "94\n",
            "94\n"
          ],
          "name": "stdout"
        },
        {
          "output_type": "execute_result",
          "data": {
            "text/plain": [
              "0      36\n",
              "1      29\n",
              "2      26\n",
              "3      32\n",
              "4      31\n",
              "       ..\n",
              "424    25\n",
              "425    26\n",
              "426    23\n",
              "427    20\n",
              "428    26\n",
              "Name: age, Length: 429, dtype: int64"
            ]
          },
          "metadata": {
            "tags": []
          },
          "execution_count": 109
        }
      ]
    },
    {
      "cell_type": "code",
      "metadata": {
        "colab": {
          "base_uri": "https://localhost:8080/"
        },
        "id": "lCUYHe-Zdie1",
        "outputId": "4812497d-c473-41d6-f5a3-2af2b87dcd5b"
      },
      "source": [
        "df.info()"
      ],
      "execution_count": 110,
      "outputs": [
        {
          "output_type": "stream",
          "text": [
            "<class 'pandas.core.frame.DataFrame'>\n",
            "RangeIndex: 429 entries, 0 to 428\n",
            "Data columns (total 14 columns):\n",
            " #   Column       Non-Null Count  Dtype  \n",
            "---  ------       --------------  -----  \n",
            " 0   full_name    429 non-null    object \n",
            " 1   rating       429 non-null    int64  \n",
            " 2   jersey       429 non-null    int64  \n",
            " 3   team         429 non-null    int64  \n",
            " 4   position     429 non-null    int64  \n",
            " 5   b_day        429 non-null    object \n",
            " 6   height       429 non-null    float64\n",
            " 7   weight       429 non-null    int64  \n",
            " 8   salary       429 non-null    int64  \n",
            " 9   country      429 non-null    int64  \n",
            " 10  draft_year   429 non-null    int64  \n",
            " 11  draft_round  429 non-null    int64  \n",
            " 12  draft_peak   429 non-null    int64  \n",
            " 13  age          429 non-null    int64  \n",
            "dtypes: float64(1), int64(11), object(2)\n",
            "memory usage: 47.0+ KB\n"
          ],
          "name": "stdout"
        }
      ]
    },
    {
      "cell_type": "markdown",
      "metadata": {
        "id": "Pr2QIZMdhpNa"
      },
      "source": [
        "data visualization\r\n"
      ]
    },
    {
      "cell_type": "code",
      "metadata": {
        "id": "P3Jt46k7hrzl"
      },
      "source": [
        "import matplotlib.pyplot as plt\r\n",
        "import seaborn as sns"
      ],
      "execution_count": 111,
      "outputs": []
    },
    {
      "cell_type": "code",
      "metadata": {
        "colab": {
          "base_uri": "https://localhost:8080/",
          "height": 386
        },
        "id": "7mMWwdiJiC2T",
        "outputId": "c45693bc-d051-47c0-e478-88fd5f9b0238"
      },
      "source": [
        "sns.displot(df[\"age\"])"
      ],
      "execution_count": 112,
      "outputs": [
        {
          "output_type": "execute_result",
          "data": {
            "text/plain": [
              "<seaborn.axisgrid.FacetGrid at 0x7fcf0605d2e8>"
            ]
          },
          "metadata": {
            "tags": []
          },
          "execution_count": 112
        },
        {
          "output_type": "display_data",
          "data": {
            "image/png": "[encoded data removed]",
            "text/plain": [
              "<Figure size 360x360 with 1 Axes>"
            ]
          },
          "metadata": {
            "tags": [],
            "needs_background": "light"
          }
        }
      ]
    },
    {
      "cell_type": "code",
      "metadata": {
        "colab": {
          "base_uri": "https://localhost:8080/",
          "height": 386
        },
        "id": "TlJDOfj6NSto",
        "outputId": "7d009b69-84e1-4c83-d000-3e81488ad263"
      },
      "source": [
        "sns.displot(df[\"jersey\"])"
      ],
      "execution_count": 113,
      "outputs": [
        {
          "output_type": "execute_result",
          "data": {
            "text/plain": [
              "<seaborn.axisgrid.FacetGrid at 0x7fcf060b7e10>"
            ]
          },
          "metadata": {
            "tags": []
          },
          "execution_count": 113
        },
        {
          "output_type": "display_data",
          "data": {
            "image/png": "[encoded data removed]",
            "text/plain": [
              "<Figure size 360x360 with 1 Axes>"
            ]
          },
          "metadata": {
            "tags": [],
            "needs_background": "light"
          }
        }
      ]
    },
    {
      "cell_type": "code",
      "metadata": {
        "colab": {
          "base_uri": "https://localhost:8080/",
          "height": 649
        },
        "id": "qmSzUCIlB2RW",
        "outputId": "9093c461-4fe4-4a94-8301-18d2fb06cbc9"
      },
      "source": [
        "def plot_correlation_map( df ):\r\n",
        "\r\n",
        "    corr = df.corr()\r\n",
        "\r\n",
        "    s , ax = plt.subplots( figsize =( 12 , 10 ) )\r\n",
        "\r\n",
        "    cmap = sns.diverging_palette( 220 , 10 , as_cmap = True )\r\n",
        "\r\n",
        "    s = sns.heatmap(\r\n",
        "\r\n",
        "        corr, \r\n",
        "\r\n",
        "        cmap = cmap,\r\n",
        "\r\n",
        "        square=True, \r\n",
        "\r\n",
        "        cbar_kws={ 'shrink' : .9 }, \r\n",
        "\r\n",
        "        ax=ax, \r\n",
        "\r\n",
        "        annot = True, \r\n",
        "\r\n",
        "        annot_kws = { 'fontsize' : 12 }\r\n",
        "\r\n",
        "        )\r\n",
        "\r\n",
        "print (plot_correlation_map(df))"
      ],
      "execution_count": 114,
      "outputs": [
        {
          "output_type": "stream",
          "text": [
            "None\n"
          ],
          "name": "stdout"
        },
        {
          "output_type": "display_data",
          "data": {
            "image/png": "[encoded data removed]",
            "text/plain": [
              "<Figure size 864x720 with 2 Axes>"
            ]
          },
          "metadata": {
            "tags": [],
            "needs_background": "light"
          }
        }
      ]
    },
    {
      "cell_type": "code",
      "metadata": {
        "colab": {
          "base_uri": "https://localhost:8080/",
          "height": 282
        },
        "id": "-idhaMClMkso",
        "outputId": "d5778e58-6788-4f64-fc77-ce60e0a2e889"
      },
      "source": [
        "df['age'].plot.box()"
      ],
      "execution_count": 115,
      "outputs": [
        {
          "output_type": "execute_result",
          "data": {
            "text/plain": [
              "<matplotlib.axes._subplots.AxesSubplot at 0x7fcf05ffce80>"
            ]
          },
          "metadata": {
            "tags": []
          },
          "execution_count": 115
        },
        {
          "output_type": "display_data",
          "data": {
            "image/png": "[encoded data removed]",
            "text/plain": [
              "<Figure size 432x288 with 1 Axes>"
            ]
          },
          "metadata": {
            "tags": [],
            "needs_background": "light"
          }
        }
      ]
    },
    {
      "cell_type": "code",
      "metadata": {
        "colab": {
          "base_uri": "https://localhost:8080/",
          "height": 293
        },
        "id": "rKIZ0kTRQdFg",
        "outputId": "5b5e9623-e5c8-4d71-db3a-30ff5a5e7026"
      },
      "source": [
        "df['salary'].plot.box()"
      ],
      "execution_count": 116,
      "outputs": [
        {
          "output_type": "execute_result",
          "data": {
            "text/plain": [
              "<matplotlib.axes._subplots.AxesSubplot at 0x7fcf069f4ba8>"
            ]
          },
          "metadata": {
            "tags": []
          },
          "execution_count": 116
        },
        {
          "output_type": "display_data",
          "data": {
            "image/png": "[encoded data removed]",
            "text/plain": [
              "<Figure size 432x288 with 1 Axes>"
            ]
          },
          "metadata": {
            "tags": [],
            "needs_background": "light"
          }
        }
      ]
    },
    {
      "cell_type": "code",
      "metadata": {
        "colab": {
          "base_uri": "https://localhost:8080/",
          "height": 282
        },
        "id": "cZxwtGfsQg1q",
        "outputId": "5ac0cafd-3149-4b39-b9e8-8886c96c0103"
      },
      "source": [
        "df['jersey'].plot.box()"
      ],
      "execution_count": 117,
      "outputs": [
        {
          "output_type": "execute_result",
          "data": {
            "text/plain": [
              "<matplotlib.axes._subplots.AxesSubplot at 0x7fcf06a5a048>"
            ]
          },
          "metadata": {
            "tags": []
          },
          "execution_count": 117
        },
        {
          "output_type": "display_data",
          "data": {
            "image/png": "[encoded data removed]",
            "text/plain": [
              "<Figure size 432x288 with 1 Axes>"
            ]
          },
          "metadata": {
            "tags": [],
            "needs_background": "light"
          }
        }
      ]
    },
    {
      "cell_type": "code",
      "metadata": {
        "colab": {
          "base_uri": "https://localhost:8080/",
          "height": 282
        },
        "id": "DSZPfg20Qx4l",
        "outputId": "a9068106-eee1-48cd-9542-c47e7310430c"
      },
      "source": [
        "df['height'].plot.box()"
      ],
      "execution_count": 118,
      "outputs": [
        {
          "output_type": "execute_result",
          "data": {
            "text/plain": [
              "<matplotlib.axes._subplots.AxesSubplot at 0x7fcf06ada5c0>"
            ]
          },
          "metadata": {
            "tags": []
          },
          "execution_count": 118
        },
        {
          "output_type": "display_data",
          "data": {
            "image/png": "[encoded data removed]",
            "text/plain": [
              "<Figure size 432x288 with 1 Axes>"
            ]
          },
          "metadata": {
            "tags": [],
            "needs_background": "light"
          }
        }
      ]
    },
    {
      "cell_type": "code",
      "metadata": {
        "colab": {
          "base_uri": "https://localhost:8080/",
          "height": 282
        },
        "id": "H1tuhaGbQ0dl",
        "outputId": "43f322c9-58c5-4a82-c133-a4bf42c1df47"
      },
      "source": [
        "df['weight'].plot.box()"
      ],
      "execution_count": 119,
      "outputs": [
        {
          "output_type": "execute_result",
          "data": {
            "text/plain": [
              "<matplotlib.axes._subplots.AxesSubplot at 0x7fcf061e45c0>"
            ]
          },
          "metadata": {
            "tags": []
          },
          "execution_count": 119
        },
        {
          "output_type": "display_data",
          "data": {
            "image/png": "[encoded data removed]",
            "text/plain": [
              "<Figure size 432x288 with 1 Axes>"
            ]
          },
          "metadata": {
            "tags": [],
            "needs_background": "light"
          }
        }
      ]
    },
    {
      "cell_type": "code",
      "metadata": {
        "colab": {
          "base_uri": "https://localhost:8080/",
          "height": 283
        },
        "id": "8IhpJm1CRlsE",
        "outputId": "ab2994a3-af68-406b-a2de-82017024e3e4"
      },
      "source": [
        "df['draft_year'].plot.box()"
      ],
      "execution_count": 120,
      "outputs": [
        {
          "output_type": "execute_result",
          "data": {
            "text/plain": [
              "<matplotlib.axes._subplots.AxesSubplot at 0x7fcf066c36d8>"
            ]
          },
          "metadata": {
            "tags": []
          },
          "execution_count": 120
        },
        {
          "output_type": "display_data",
          "data": {
            "image/png": "[encoded data removed]",
            "text/plain": [
              "<Figure size 432x288 with 1 Axes>"
            ]
          },
          "metadata": {
            "tags": [],
            "needs_background": "light"
          }
        }
      ]
    },
    {
      "cell_type": "code",
      "metadata": {
        "colab": {
          "base_uri": "https://localhost:8080/",
          "height": 283
        },
        "id": "0VTj28wzRsvu",
        "outputId": "aa3ca082-9e91-4f45-9cea-303a36702cb1"
      },
      "source": [
        "df['draft_round'].plot.box()"
      ],
      "execution_count": 121,
      "outputs": [
        {
          "output_type": "execute_result",
          "data": {
            "text/plain": [
              "<matplotlib.axes._subplots.AxesSubplot at 0x7fcf06622438>"
            ]
          },
          "metadata": {
            "tags": []
          },
          "execution_count": 121
        },
        {
          "output_type": "display_data",
          "data": {
            "image/png": "[encoded data removed]",
            "text/plain": [
              "<Figure size 432x288 with 1 Axes>"
            ]
          },
          "metadata": {
            "tags": [],
            "needs_background": "light"
          }
        }
      ]
    },
    {
      "cell_type": "code",
      "metadata": {
        "colab": {
          "base_uri": "https://localhost:8080/",
          "height": 283
        },
        "id": "oPLMCm22R3NT",
        "outputId": "a19587bc-41f0-407a-869c-c886f717207c"
      },
      "source": [
        "df['draft_peak'].plot.box()"
      ],
      "execution_count": 122,
      "outputs": [
        {
          "output_type": "execute_result",
          "data": {
            "text/plain": [
              "<matplotlib.axes._subplots.AxesSubplot at 0x7fcf064eac18>"
            ]
          },
          "metadata": {
            "tags": []
          },
          "execution_count": 122
        },
        {
          "output_type": "display_data",
          "data": {
            "image/png": "[encoded data removed]",
            "text/plain": [
              "<Figure size 432x288 with 1 Axes>"
            ]
          },
          "metadata": {
            "tags": [],
            "needs_background": "light"
          }
        }
      ]
    },
    {
      "cell_type": "code",
      "metadata": {
        "colab": {
          "base_uri": "https://localhost:8080/",
          "height": 290
        },
        "id": "2X8F-_79Q8Y8",
        "outputId": "247fe98c-f41b-4098-eb20-590925c8a909"
      },
      "source": [
        "plt.plot(df[\"age\"],df[\"salary\"],\"ro\")\r\n",
        "plt.xlabel('age')\r\n",
        "plt.ylabel('salary')\r\n",
        "plt.show()"
      ],
      "execution_count": 123,
      "outputs": [
        {
          "output_type": "display_data",
          "data": {
            "image/png": "[encoded data removed]",
            "text/plain": [
              "<Figure size 432x288 with 1 Axes>"
            ]
          },
          "metadata": {
            "tags": [],
            "needs_background": "light"
          }
        }
      ]
    },
    {
      "cell_type": "code",
      "metadata": {
        "colab": {
          "base_uri": "https://localhost:8080/",
          "height": 279
        },
        "id": "q5UPlIQSRBlr",
        "outputId": "c55fddbd-b956-4afe-b979-25d2248dd55b"
      },
      "source": [
        "plt.plot(df[\"age\"],df[\"rating\"],\"ro\")\r\n",
        "plt.xlabel('age')\r\n",
        "plt.ylabel('rating')\r\n",
        "plt.show()"
      ],
      "execution_count": 124,
      "outputs": [
        {
          "output_type": "display_data",
          "data": {
            "image/png": "[encoded data removed]",
            "text/plain": [
              "<Figure size 432x288 with 1 Axes>"
            ]
          },
          "metadata": {
            "tags": [],
            "needs_background": "light"
          }
        }
      ]
    },
    {
      "cell_type": "code",
      "metadata": {
        "colab": {
          "base_uri": "https://localhost:8080/",
          "height": 290
        },
        "id": "plIxiMjHRbe-",
        "outputId": "8b728705-9294-4fb0-eea4-b1de03ed3721"
      },
      "source": [
        "plt.plot(df[\"rating\"],df[\"salary\"],\"ro\")\r\n",
        "plt.xlabel('rating')\r\n",
        "plt.ylabel('salary')\r\n",
        "plt.show()"
      ],
      "execution_count": 125,
      "outputs": [
        {
          "output_type": "display_data",
          "data": {
            "image/png": "[encoded data removed]",
            "text/plain": [
              "<Figure size 432x288 with 1 Axes>"
            ]
          },
          "metadata": {
            "tags": [],
            "needs_background": "light"
          }
        }
      ]
    },
    {
      "cell_type": "markdown",
      "metadata": {
        "id": "P28uO1YwNJoD"
      },
      "source": [
        "supervised learning 1\r\n",
        "trying to predict the *salary*"
      ]
    },
    {
      "cell_type": "markdown",
      "metadata": {
        "id": "aFtiC9vhSw8N"
      },
      "source": [
        "linear regression"
      ]
    },
    {
      "cell_type": "code",
      "metadata": {
        "id": "X8hI-9FaNRmL"
      },
      "source": [
        "import pandas as pd\r\n",
        "import seaborn as sns\r\n",
        "import matplotlib.pyplot as plt\r\n",
        "from sklearn.model_selection import train_test_split\r\n",
        "from sklearn.linear_model import LinearRegression\r\n",
        "from sklearn.metrics import mean_squared_error\r\n",
        "from sklearn import metrics\r\n",
        "from sklearn.preprocessing import PolynomialFeatures \r\n",
        "y=df[\"salary\"]\r\n",
        "x=df[[\"rating\"]]\r\n",
        "trainX,testX,trainy,testy=train_test_split(x,y,test_size= 20,random_state = 30)"
      ],
      "execution_count": 126,
      "outputs": []
    },
    {
      "cell_type": "code",
      "metadata": {
        "colab": {
          "base_uri": "https://localhost:8080/"
        },
        "id": "EArxo54ASv7Q",
        "outputId": "209e53a2-4fd5-4e19-a3f7-69c1ef714552"
      },
      "source": [
        "model=LinearRegression()   #build linear regression model\r\n",
        "model.fit(trainX,trainy)  #fitting the training data\r\n",
        "predicted=model.predict(testX) #testing our model’s performance\r\n",
        "\r\n",
        "\r\n",
        "print(\"MSE\", mean_squared_error(testy,predicted))\r\n",
        "print(\"R squared\", metrics.r2_score(testy,predicted))"
      ],
      "execution_count": 127,
      "outputs": [
        {
          "output_type": "stream",
          "text": [
            "MSE 22447894180845.46\n",
            "R squared 0.35551156805185957\n"
          ],
          "name": "stdout"
        }
      ]
    },
    {
      "cell_type": "code",
      "metadata": {
        "colab": {
          "base_uri": "https://localhost:8080/",
          "height": 295
        },
        "id": "j_f6jHU0UFwR",
        "outputId": "86b7ecbc-0fc3-45f5-e02a-7ba6eeeb1f65"
      },
      "source": [
        "plt.scatter(x,y,color=\"r\")\r\n",
        "plt.title(\"Linear Regression\")\r\n",
        "plt.ylabel(\"Salary\")\r\n",
        "plt.xlabel(\"rating\")\r\n",
        "plt.plot(x,model.predict(x),color=\"k\")\r\n",
        "plt.show()"
      ],
      "execution_count": 128,
      "outputs": [
        {
          "output_type": "display_data",
          "data": {
            "image/png": "[encoded data removed]",
            "text/plain": [
              "<Figure size 432x288 with 1 Axes>"
            ]
          },
          "metadata": {
            "tags": [],
            "needs_background": "light"
          }
        }
      ]
    },
    {
      "cell_type": "markdown",
      "metadata": {
        "id": "vuydTzJZUBdG"
      },
      "source": [
        "multi-linear regression"
      ]
    },
    {
      "cell_type": "code",
      "metadata": {
        "colab": {
          "base_uri": "https://localhost:8080/"
        },
        "id": "3E51kIVNW5G9",
        "outputId": "6a19c5c2-01f9-4388-905e-0a765ba67949"
      },
      "source": [
        "x=df[[\"age\",\"rating\",\"draft_year\",\"jersey\",\"weight\"]]  #we have more than one input\r\n",
        "y=df[\"salary\"].values\r\n",
        "trainX,testX,trainy,testy=train_test_split(x,y,test_size=0.20,random_state=30) #splitting data with test size of 35%\r\n",
        "\r\n",
        "model=LinearRegression() #build linear regression model\r\n",
        "model.fit(trainX,trainy) #fitting the training data\r\n",
        "predicted=model.predict(testX) #testing our model’s performance\r\n",
        "\r\n",
        "print(\"MSE\", mean_squared_error(testy,predicted))\r\n",
        "print(\"R squared\", metrics.r2_score(testy,predicted))"
      ],
      "execution_count": 129,
      "outputs": [
        {
          "output_type": "stream",
          "text": [
            "MSE 26590299779538.496\n",
            "R squared 0.6647745021658268\n"
          ],
          "name": "stdout"
        }
      ]
    },
    {
      "cell_type": "markdown",
      "metadata": {
        "id": "axDfkmnSZJaC"
      },
      "source": [
        "polynominal regression"
      ]
    },
    {
      "cell_type": "code",
      "metadata": {
        "colab": {
          "base_uri": "https://localhost:8080/"
        },
        "id": "nY_Tc6z_Ynz_",
        "outputId": "56942708-c0da-4b88-ac43-76bc079c61bd"
      },
      "source": [
        "lg=LinearRegression()\r\n",
        "poly=PolynomialFeatures(degree=3)\r\n",
        "\r\n",
        "trainX_fit = poly.fit_transform(trainX) #transforming our input data\r\n",
        "lg.fit(trainX_fit, trainy)\r\n",
        "testX_ = poly.fit_transform(testX)\r\n",
        "predicted = lg.predict(testX_)\r\n",
        "\r\n",
        "print(\"MSE: \", metrics.mean_squared_error(testy, predicted))\r\n",
        "print(\"R squared: \", metrics.r2_score(testy,predicted))"
      ],
      "execution_count": 130,
      "outputs": [
        {
          "output_type": "stream",
          "text": [
            "MSE:  34561687271346.324\n",
            "R squared:  0.5642787438432119\n"
          ],
          "name": "stdout"
        }
      ]
    },
    {
      "cell_type": "markdown",
      "metadata": {
        "id": "EhtD7xMejX9S"
      },
      "source": [
        "supervised learning 2\r\n",
        "trying to predict the *age*"
      ]
    },
    {
      "cell_type": "markdown",
      "metadata": {
        "id": "yrLWGdnnkL1W"
      },
      "source": [
        "linear regression"
      ]
    },
    {
      "cell_type": "code",
      "metadata": {
        "id": "L151yj_Ojd3p"
      },
      "source": [
        "y=df[\"age\"]\r\n",
        "x=df[[\"draft_year\"]]\r\n",
        "trainX,testX,trainy,testy=train_test_split(x,y,test_size= 20,random_state = 30)"
      ],
      "execution_count": 131,
      "outputs": []
    },
    {
      "cell_type": "code",
      "metadata": {
        "colab": {
          "base_uri": "https://localhost:8080/"
        },
        "id": "WBYhL9_0jmMZ",
        "outputId": "5a987752-dea7-4183-d90b-101f38110a72"
      },
      "source": [
        "model=LinearRegression()   #build linear regression model\r\n",
        "model.fit(trainX,trainy)  #fitting the training data\r\n",
        "predicted=model.predict(testX) #testing our model’s performance\r\n",
        "\r\n",
        "\r\n",
        "print(\"MSE\", mean_squared_error(testy,predicted))\r\n",
        "print(\"R squared\", metrics.r2_score(testy,predicted))"
      ],
      "execution_count": 132,
      "outputs": [
        {
          "output_type": "stream",
          "text": [
            "MSE 2.2475153281264317\n",
            "R squared 0.876696457104571\n"
          ],
          "name": "stdout"
        }
      ]
    },
    {
      "cell_type": "code",
      "metadata": {
        "colab": {
          "base_uri": "https://localhost:8080/",
          "height": 295
        },
        "id": "Ri29h60aj7P3",
        "outputId": "d47c1759-cee8-40d1-84a1-117130667cb9"
      },
      "source": [
        "plt.scatter(x,y,color=\"r\")\r\n",
        "plt.title(\"Linear Regression\")\r\n",
        "plt.ylabel(\"age\")\r\n",
        "plt.xlabel(\"draft year\")\r\n",
        "plt.plot(x,model.predict(x),color=\"k\")\r\n",
        "plt.show()"
      ],
      "execution_count": 133,
      "outputs": [
        {
          "output_type": "display_data",
          "data": {
            "image/png": "[encoded data removed]",
            "text/plain": [
              "<Figure size 432x288 with 1 Axes>"
            ]
          },
          "metadata": {
            "tags": [],
            "needs_background": "light"
          }
        }
      ]
    },
    {
      "cell_type": "markdown",
      "metadata": {
        "id": "ExFCSXhfkX_W"
      },
      "source": [
        "multi-linear regression"
      ]
    },
    {
      "cell_type": "code",
      "metadata": {
        "colab": {
          "base_uri": "https://localhost:8080/"
        },
        "id": "B2bfN5IdkX_W",
        "outputId": "4ac2c119-a599-4825-b0b4-2544a5f39431"
      },
      "source": [
        "x=df[[\"rating\",\"draft_year\"]]  #we have more than one input\r\n",
        "y=df[\"age\"].values\r\n",
        "trainX,testX,trainy,testy=train_test_split(x,y,test_size=0.20,random_state=30) #splitting data with test size of 35%\r\n",
        "\r\n",
        "model=LinearRegression() #build linear regression model\r\n",
        "model.fit(trainX,trainy) #fitting the training data\r\n",
        "predicted=model.predict(testX) #testing our model’s performance\r\n",
        "\r\n",
        "print(\"MSE\", mean_squared_error(testy,predicted))\r\n",
        "print(\"R squared\", metrics.r2_score(testy,predicted))"
      ],
      "execution_count": 134,
      "outputs": [
        {
          "output_type": "stream",
          "text": [
            "MSE 1.8658499420127788\n",
            "R squared 0.8992279436317355\n"
          ],
          "name": "stdout"
        }
      ]
    },
    {
      "cell_type": "markdown",
      "metadata": {
        "id": "14aDLVfOkX_X"
      },
      "source": [
        "polynominal regression"
      ]
    },
    {
      "cell_type": "code",
      "metadata": {
        "colab": {
          "base_uri": "https://localhost:8080/"
        },
        "id": "ZfKvdmAzkX_X",
        "outputId": "136387c5-144b-47fa-9d88-6b4374ec30fc"
      },
      "source": [
        "lg=LinearRegression()\r\n",
        "poly=PolynomialFeatures(degree=2)\r\n",
        "\r\n",
        "trainX_fit = poly.fit_transform(trainX) #transforming our input data\r\n",
        "lg.fit(trainX_fit, trainy)\r\n",
        "testX_ = poly.fit_transform(testX)\r\n",
        "predicted = lg.predict(testX_)\r\n",
        "\r\n",
        "print(\"MSE: \", metrics.mean_squared_error(testy, predicted))\r\n",
        "print(\"R squared: \", metrics.r2_score(testy,predicted))"
      ],
      "execution_count": 135,
      "outputs": [
        {
          "output_type": "stream",
          "text": [
            "MSE:  1.6106882523938764\n",
            "R squared:  0.9130088847408365\n"
          ],
          "name": "stdout"
        }
      ]
    },
    {
      "cell_type": "markdown",
      "metadata": {
        "id": "TsuS3olPgMZg"
      },
      "source": [
        "unsupervised learning"
      ]
    },
    {
      "cell_type": "markdown",
      "metadata": {
        "id": "DxwJ1meGgbiM"
      },
      "source": [
        "aglomerative clustering"
      ]
    },
    {
      "cell_type": "code",
      "metadata": {
        "id": "nBfcEKKAic9n"
      },
      "source": [
        "df.drop(\"full_name\",1,inplace=True)\r\n",
        "df.drop(\"b_day\",1,inplace=True)"
      ],
      "execution_count": 136,
      "outputs": []
    },
    {
      "cell_type": "code",
      "metadata": {
        "colab": {
          "base_uri": "https://localhost:8080/",
          "height": 312
        },
        "id": "F1j0-GKqW3er",
        "outputId": "e8586006-ee32-48a8-8e25-370098218660"
      },
      "source": [
        "from sklearn.cluster import AgglomerativeClustering #Importing our clustering algorithm : Agglomerative\r\n",
        "model=AgglomerativeClustering(n_clusters=5, affinity='euclidean', linkage='complete')\r\n",
        "clust_labels=model.fit_predict(df)  \r\n",
        "agglomerative=pd.DataFrame(clust_labels)\r\n",
        "import matplotlib.pyplot as plt\r\n",
        "fig =plt.figure()\r\n",
        "ax = fig.add_subplot(111)\r\n",
        "scatter = ax.scatter (df[\"age\"],df ['salary']  , c= agglomerative[0], s=50)\r\n",
        "ax.set_title(\"Agglomerative Clutering\")\r\n",
        "ax.set_xlabel(\"age\")\r\n",
        "ax.set_ylabel(\"salary\")\r\n",
        "plt.colorbar(scatter)"
      ],
      "execution_count": 137,
      "outputs": [
        {
          "output_type": "execute_result",
          "data": {
            "text/plain": [
              "<matplotlib.colorbar.Colorbar at 0x7fcf0624f780>"
            ]
          },
          "metadata": {
            "tags": []
          },
          "execution_count": 137
        },
        {
          "output_type": "display_data",
          "data": {
            "image/png": "[encoded data removed]",
            "text/plain": [
              "<Figure size 432x288 with 2 Axes>"
            ]
          },
          "metadata": {
            "tags": [],
            "needs_background": "light"
          }
        }
      ]
    },
    {
      "cell_type": "code",
      "metadata": {
        "colab": {
          "base_uri": "https://localhost:8080/",
          "height": 444
        },
        "id": "WdBa-KR0jTRZ",
        "outputId": "ba63d887-ad90-4966-d212-24501cf8bb41"
      },
      "source": [
        "import matplotlib.pyplot as plt\r\n",
        "import scipy.cluster.hierarchy as shc\r\n",
        "plt.figure(figsize=(10,7))\r\n",
        "plt.title(\"Players Dendogram\")\r\n",
        "dend=shc.dendrogram(shc.linkage(df, method=\"complete\"))"
      ],
      "execution_count": 138,
      "outputs": [
        {
          "output_type": "display_data",
          "data": {
            "image/png": "[encoded data removed]",
            "text/plain": [
              "<Figure size 720x504 with 1 Axes>"
            ]
          },
          "metadata": {
            "tags": [],
            "needs_background": "light"
          }
        }
      ]
    },
    {
      "cell_type": "code",
      "metadata": {
        "colab": {
          "base_uri": "https://localhost:8080/"
        },
        "id": "TMTeWkP5jtX4",
        "outputId": "d0461724-5bc3-4568-a792-48a3dba4997a"
      },
      "source": [
        "from sklearn.cluster import KMeans  #Importing our clustering algorithm: KMeans\r\n",
        "kmeans=KMeans(n_clusters=5, random_state=0)  #Cluster our data by choosing 5 as number of clusters\r\n",
        "kmeans.fit(df)\r\n"
      ],
      "execution_count": 150,
      "outputs": [
        {
          "output_type": "execute_result",
          "data": {
            "text/plain": [
              "KMeans(algorithm='auto', copy_x=True, init='k-means++', max_iter=300,\n",
              "       n_clusters=5, n_init=10, n_jobs=None, precompute_distances='auto',\n",
              "       random_state=0, tol=0.0001, verbose=0)"
            ]
          },
          "metadata": {
            "tags": []
          },
          "execution_count": 150
        }
      ]
    },
    {
      "cell_type": "code",
      "metadata": {
        "colab": {
          "base_uri": "https://localhost:8080/",
          "height": 419
        },
        "id": "v9Fon974jvs0",
        "outputId": "724e69d9-18ab-4fa3-ee60-12d7f8bb52ff"
      },
      "source": [
        "labels=pd.DataFrame(kmeans.labels_)\r\n",
        "labels"
      ],
      "execution_count": 151,
      "outputs": [
        {
          "output_type": "execute_result",
          "data": {
            "text/html": [
              "<div>\n",
              "<style scoped>\n",
              "    .dataframe tbody tr th:only-of-type {\n",
              "        vertical-align: middle;\n",
              "    }\n",
              "\n",
              "    .dataframe tbody tr th {\n",
              "        vertical-align: top;\n",
              "    }\n",
              "\n",
              "    .dataframe thead th {\n",
              "        text-align: right;\n",
              "    }\n",
              "</style>\n",
              "<table border=\"1\" class=\"dataframe\">\n",
              "  <thead>\n",
              "    <tr style=\"text-align: right;\">\n",
              "      <th></th>\n",
              "      <th>0</th>\n",
              "    </tr>\n",
              "  </thead>\n",
              "  <tbody>\n",
              "    <tr>\n",
              "      <th>0</th>\n",
              "      <td>4</td>\n",
              "    </tr>\n",
              "    <tr>\n",
              "      <th>1</th>\n",
              "      <td>4</td>\n",
              "    </tr>\n",
              "    <tr>\n",
              "      <th>2</th>\n",
              "      <td>2</td>\n",
              "    </tr>\n",
              "    <tr>\n",
              "      <th>3</th>\n",
              "      <td>4</td>\n",
              "    </tr>\n",
              "    <tr>\n",
              "      <th>4</th>\n",
              "      <td>4</td>\n",
              "    </tr>\n",
              "    <tr>\n",
              "      <th>...</th>\n",
              "      <td>...</td>\n",
              "    </tr>\n",
              "    <tr>\n",
              "      <th>424</th>\n",
              "      <td>0</td>\n",
              "    </tr>\n",
              "    <tr>\n",
              "      <th>425</th>\n",
              "      <td>0</td>\n",
              "    </tr>\n",
              "    <tr>\n",
              "      <th>426</th>\n",
              "      <td>0</td>\n",
              "    </tr>\n",
              "    <tr>\n",
              "      <th>427</th>\n",
              "      <td>0</td>\n",
              "    </tr>\n",
              "    <tr>\n",
              "      <th>428</th>\n",
              "      <td>0</td>\n",
              "    </tr>\n",
              "  </tbody>\n",
              "</table>\n",
              "<p>429 rows × 1 columns</p>\n",
              "</div>"
            ],
            "text/plain": [
              "     0\n",
              "0    4\n",
              "1    4\n",
              "2    2\n",
              "3    4\n",
              "4    4\n",
              "..  ..\n",
              "424  0\n",
              "425  0\n",
              "426  0\n",
              "427  0\n",
              "428  0\n",
              "\n",
              "[429 rows x 1 columns]"
            ]
          },
          "metadata": {
            "tags": []
          },
          "execution_count": 151
        }
      ]
    },
    {
      "cell_type": "code",
      "metadata": {
        "colab": {
          "base_uri": "https://localhost:8080/"
        },
        "id": "pLOlEt5ojyfT",
        "outputId": "ca028b47-2647-4a40-e98f-0cc98dc889e4"
      },
      "source": [
        "label=kmeans.predict(df)\r\n",
        "print(kmeans.cluster_centers_) \r\n"
      ],
      "execution_count": 152,
      "outputs": [
        {
          "output_type": "stream",
          "text": [
            "[[7.33659574e+01 1.43446809e+01 1.45744681e+01 3.28936170e+00\n",
            "  1.98468085e+00 2.13502128e+02 2.37147405e+06 3.13404255e+01\n",
            "  2.01591915e+03 1.74468085e+00 3.41404255e+01 2.52297872e+01]\n",
            " [7.81451613e+01 1.17419355e+01 1.33870968e+01 3.41935484e+00\n",
            "  1.98580645e+00 2.14806452e+02 1.56405601e+07 3.07903226e+01\n",
            "  2.01127419e+03 1.27419355e+00 2.05322581e+01 2.95322581e+01]\n",
            " [8.51290323e+01 1.37741935e+01 1.71290323e+01 2.45161290e+00\n",
            "  2.04096774e+00 2.26935484e+02 2.68917846e+07 2.88387097e+01\n",
            "  2.01154839e+03 1.19354839e+00 1.51290323e+01 2.90000000e+01]\n",
            " [7.73855422e+01 1.84578313e+01 1.48433735e+01 3.26506024e+00\n",
            "  1.98566265e+00 2.13096386e+02 8.06088283e+06 3.08192771e+01\n",
            "  2.01312048e+03 1.49397590e+00 2.38313253e+01 2.75542169e+01]\n",
            " [8.97777778e+01 1.20555556e+01 1.27777778e+01 3.83333333e+00\n",
            "  1.95222222e+00 2.07333333e+02 3.49830394e+07 3.40555556e+01\n",
            "  2.00883333e+03 1.00000000e+00 8.61111111e+00 3.12222222e+01]]\n"
          ],
          "name": "stdout"
        }
      ]
    },
    {
      "cell_type": "code",
      "metadata": {
        "colab": {
          "base_uri": "https://localhost:8080/",
          "height": 295
        },
        "id": "YvSZBZXckGt1",
        "outputId": "fbd027e0-8426-41c1-8f04-e5e74254d859"
      },
      "source": [
        "plt.scatter(df[\"age\"][label == 0],          \r\n",
        "            df[\"salary\"][label == 0],s=10,c='magenta',label='low income')\r\n",
        "plt.scatter(df[\"age\"][label == 1],\r\n",
        "           df[\"salary\"][label == 1],s=10,c='yellow',label='high income')\r\n",
        "plt.scatter(df[\"age\"][label == 2],\r\n",
        "           df[\"salary\"][label == 2],s=10,c='green',label='average income')\r\n",
        "plt.scatter(df[\"age\"][label == 3], \r\n",
        "           df[\"salary\"][label == 3],s=10,c='cyan',label='rising income')\r\n",
        "plt.scatter(df[\"age\"][label == 4], \r\n",
        "           df[\"salary\"][label == 4],s=10,c='burlywood',label='max income')\r\n",
        "plt.scatter(kmeans.cluster_centers_[:, 0], kmeans.cluster_centers_[:, 1], s=30, c='red', label = 'Centroids')\r\n",
        "plt.title('Clusters of players')\r\n",
        "plt.xlabel('age')\r\n",
        "plt.ylabel('salary')\r\n",
        "plt.legend()\r\n",
        "plt.show()"
      ],
      "execution_count": 154,
      "outputs": [
        {
          "output_type": "display_data",
          "data": {
            "image/png": "[encoded data removed]",
            "text/plain": [
              "<Figure size 432x288 with 1 Axes>"
            ]
          },
          "metadata": {
            "tags": [],
            "needs_background": "light"
          }
        }
      ]
    }
  ]
}