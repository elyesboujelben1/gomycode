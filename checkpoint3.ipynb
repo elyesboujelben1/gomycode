{
  "nbformat": 4,
  "nbformat_minor": 0,
  "metadata": {
    "colab": {
      "name": "checkpoint3.ipynb",
      "provenance": [],
      "collapsed_sections": [],
      "authorship_tag": "ABX9TyOoe/D7yUxYjWUe87sd7I6+",
      "include_colab_link": true
    },
    "kernelspec": {
      "name": "python3",
      "display_name": "Python 3"
    }
  },
  "cells": [
    {
      "cell_type": "markdown",
      "metadata": {
        "id": "view-in-github",
        "colab_type": "text"
      },
      "source": [
        "<a href=\"https://colab.research.google.com/github/elyesboujelben1/gomycode/blob/main/checkpoint3.ipynb\" target=\"_parent\"><img src=\"https://colab.research.google.com/assets/colab-badge.svg\" alt=\"Open In Colab\"/></a>"
      ]
    },
    {
      "cell_type": "code",
      "metadata": {
        "id": "lHx6b46dZAMV",
        "outputId": "05eee30c-bc20-4168-87cf-d00a795280c0",
        "colab": {
          "base_uri": "https://localhost:8080/",
          "height": 419
        }
      },
      "source": [
        "import pandas as pd\n",
        "import seaborn as sns\n",
        "import matplotlib.pyplot as plt\n",
        "\n",
        "df = pd.read_csv(\"titanic-passengers.csv\",\";\")\n",
        "df"
      ],
      "execution_count": null,
      "outputs": [
        {
          "output_type": "execute_result",
          "data": {
            "text/html": [
              "<div>\n",
              "<style scoped>\n",
              "    .dataframe tbody tr th:only-of-type {\n",
              "        vertical-align: middle;\n",
              "    }\n",
              "\n",
              "    .dataframe tbody tr th {\n",
              "        vertical-align: top;\n",
              "    }\n",
              "\n",
              "    .dataframe thead th {\n",
              "        text-align: right;\n",
              "    }\n",
              "</style>\n",
              "<table border=\"1\" class=\"dataframe\">\n",
              "  <thead>\n",
              "    <tr style=\"text-align: right;\">\n",
              "      <th></th>\n",
              "      <th>PassengerId</th>\n",
              "      <th>Survived</th>\n",
              "      <th>Pclass</th>\n",
              "      <th>Name</th>\n",
              "      <th>Sex</th>\n",
              "      <th>Age</th>\n",
              "      <th>SibSp</th>\n",
              "      <th>Parch</th>\n",
              "      <th>Ticket</th>\n",
              "      <th>Fare</th>\n",
              "      <th>Cabin</th>\n",
              "      <th>Embarked</th>\n",
              "    </tr>\n",
              "  </thead>\n",
              "  <tbody>\n",
              "    <tr>\n",
              "      <th>0</th>\n",
              "      <td>343</td>\n",
              "      <td>No</td>\n",
              "      <td>2</td>\n",
              "      <td>Collander, Mr. Erik Gustaf</td>\n",
              "      <td>male</td>\n",
              "      <td>28.0</td>\n",
              "      <td>0</td>\n",
              "      <td>0</td>\n",
              "      <td>248740</td>\n",
              "      <td>13.0000</td>\n",
              "      <td>NaN</td>\n",
              "      <td>S</td>\n",
              "    </tr>\n",
              "    <tr>\n",
              "      <th>1</th>\n",
              "      <td>76</td>\n",
              "      <td>No</td>\n",
              "      <td>3</td>\n",
              "      <td>Moen, Mr. Sigurd Hansen</td>\n",
              "      <td>male</td>\n",
              "      <td>25.0</td>\n",
              "      <td>0</td>\n",
              "      <td>0</td>\n",
              "      <td>348123</td>\n",
              "      <td>7.6500</td>\n",
              "      <td>F G73</td>\n",
              "      <td>S</td>\n",
              "    </tr>\n",
              "    <tr>\n",
              "      <th>2</th>\n",
              "      <td>641</td>\n",
              "      <td>No</td>\n",
              "      <td>3</td>\n",
              "      <td>Jensen, Mr. Hans Peder</td>\n",
              "      <td>male</td>\n",
              "      <td>20.0</td>\n",
              "      <td>0</td>\n",
              "      <td>0</td>\n",
              "      <td>350050</td>\n",
              "      <td>7.8542</td>\n",
              "      <td>NaN</td>\n",
              "      <td>S</td>\n",
              "    </tr>\n",
              "    <tr>\n",
              "      <th>3</th>\n",
              "      <td>568</td>\n",
              "      <td>No</td>\n",
              "      <td>3</td>\n",
              "      <td>Palsson, Mrs. Nils (Alma Cornelia Berglund)</td>\n",
              "      <td>female</td>\n",
              "      <td>29.0</td>\n",
              "      <td>0</td>\n",
              "      <td>4</td>\n",
              "      <td>349909</td>\n",
              "      <td>21.0750</td>\n",
              "      <td>NaN</td>\n",
              "      <td>S</td>\n",
              "    </tr>\n",
              "    <tr>\n",
              "      <th>4</th>\n",
              "      <td>672</td>\n",
              "      <td>No</td>\n",
              "      <td>1</td>\n",
              "      <td>Davidson, Mr. Thornton</td>\n",
              "      <td>male</td>\n",
              "      <td>31.0</td>\n",
              "      <td>1</td>\n",
              "      <td>0</td>\n",
              "      <td>F.C. 12750</td>\n",
              "      <td>52.0000</td>\n",
              "      <td>B71</td>\n",
              "      <td>S</td>\n",
              "    </tr>\n",
              "    <tr>\n",
              "      <th>...</th>\n",
              "      <td>...</td>\n",
              "      <td>...</td>\n",
              "      <td>...</td>\n",
              "      <td>...</td>\n",
              "      <td>...</td>\n",
              "      <td>...</td>\n",
              "      <td>...</td>\n",
              "      <td>...</td>\n",
              "      <td>...</td>\n",
              "      <td>...</td>\n",
              "      <td>...</td>\n",
              "      <td>...</td>\n",
              "    </tr>\n",
              "    <tr>\n",
              "      <th>886</th>\n",
              "      <td>10</td>\n",
              "      <td>Yes</td>\n",
              "      <td>2</td>\n",
              "      <td>Nasser, Mrs. Nicholas (Adele Achem)</td>\n",
              "      <td>female</td>\n",
              "      <td>14.0</td>\n",
              "      <td>1</td>\n",
              "      <td>0</td>\n",
              "      <td>237736</td>\n",
              "      <td>30.0708</td>\n",
              "      <td>NaN</td>\n",
              "      <td>C</td>\n",
              "    </tr>\n",
              "    <tr>\n",
              "      <th>887</th>\n",
              "      <td>61</td>\n",
              "      <td>No</td>\n",
              "      <td>3</td>\n",
              "      <td>Sirayanian, Mr. Orsen</td>\n",
              "      <td>male</td>\n",
              "      <td>22.0</td>\n",
              "      <td>0</td>\n",
              "      <td>0</td>\n",
              "      <td>2669</td>\n",
              "      <td>7.2292</td>\n",
              "      <td>NaN</td>\n",
              "      <td>C</td>\n",
              "    </tr>\n",
              "    <tr>\n",
              "      <th>888</th>\n",
              "      <td>535</td>\n",
              "      <td>No</td>\n",
              "      <td>3</td>\n",
              "      <td>Cacic, Miss. Marija</td>\n",
              "      <td>female</td>\n",
              "      <td>30.0</td>\n",
              "      <td>0</td>\n",
              "      <td>0</td>\n",
              "      <td>315084</td>\n",
              "      <td>8.6625</td>\n",
              "      <td>NaN</td>\n",
              "      <td>S</td>\n",
              "    </tr>\n",
              "    <tr>\n",
              "      <th>889</th>\n",
              "      <td>102</td>\n",
              "      <td>No</td>\n",
              "      <td>3</td>\n",
              "      <td>Petroff, Mr. Pastcho (\"Pentcho\")</td>\n",
              "      <td>male</td>\n",
              "      <td>NaN</td>\n",
              "      <td>0</td>\n",
              "      <td>0</td>\n",
              "      <td>349215</td>\n",
              "      <td>7.8958</td>\n",
              "      <td>NaN</td>\n",
              "      <td>S</td>\n",
              "    </tr>\n",
              "    <tr>\n",
              "      <th>890</th>\n",
              "      <td>428</td>\n",
              "      <td>Yes</td>\n",
              "      <td>2</td>\n",
              "      <td>Phillips, Miss. Kate Florence (\"Mrs Kate Louis...</td>\n",
              "      <td>female</td>\n",
              "      <td>19.0</td>\n",
              "      <td>0</td>\n",
              "      <td>0</td>\n",
              "      <td>250655</td>\n",
              "      <td>26.0000</td>\n",
              "      <td>NaN</td>\n",
              "      <td>S</td>\n",
              "    </tr>\n",
              "  </tbody>\n",
              "</table>\n",
              "<p>891 rows × 12 columns</p>\n",
              "</div>"
            ],
            "text/plain": [
              "     PassengerId Survived  Pclass  ...     Fare  Cabin  Embarked\n",
              "0            343       No       2  ...  13.0000    NaN         S\n",
              "1             76       No       3  ...   7.6500  F G73         S\n",
              "2            641       No       3  ...   7.8542    NaN         S\n",
              "3            568       No       3  ...  21.0750    NaN         S\n",
              "4            672       No       1  ...  52.0000    B71         S\n",
              "..           ...      ...     ...  ...      ...    ...       ...\n",
              "886           10      Yes       2  ...  30.0708    NaN         C\n",
              "887           61       No       3  ...   7.2292    NaN         C\n",
              "888          535       No       3  ...   8.6625    NaN         S\n",
              "889          102       No       3  ...   7.8958    NaN         S\n",
              "890          428      Yes       2  ...  26.0000    NaN         S\n",
              "\n",
              "[891 rows x 12 columns]"
            ]
          },
          "metadata": {
            "tags": []
          },
          "execution_count": 50
        }
      ]
    },
    {
      "cell_type": "code",
      "metadata": {
        "id": "tR5J_c2AFp3c",
        "outputId": "93d840b6-c2b3-489d-9fda-4266115e285d",
        "colab": {
          "base_uri": "https://localhost:8080/",
          "height": 204
        }
      },
      "source": [
        "df.head()"
      ],
      "execution_count": null,
      "outputs": [
        {
          "output_type": "execute_result",
          "data": {
            "text/html": [
              "<div>\n",
              "<style scoped>\n",
              "    .dataframe tbody tr th:only-of-type {\n",
              "        vertical-align: middle;\n",
              "    }\n",
              "\n",
              "    .dataframe tbody tr th {\n",
              "        vertical-align: top;\n",
              "    }\n",
              "\n",
              "    .dataframe thead th {\n",
              "        text-align: right;\n",
              "    }\n",
              "</style>\n",
              "<table border=\"1\" class=\"dataframe\">\n",
              "  <thead>\n",
              "    <tr style=\"text-align: right;\">\n",
              "      <th></th>\n",
              "      <th>PassengerId</th>\n",
              "      <th>Survived</th>\n",
              "      <th>Pclass</th>\n",
              "      <th>Name</th>\n",
              "      <th>Sex</th>\n",
              "      <th>Age</th>\n",
              "      <th>SibSp</th>\n",
              "      <th>Parch</th>\n",
              "      <th>Ticket</th>\n",
              "      <th>Fare</th>\n",
              "      <th>Cabin</th>\n",
              "      <th>Embarked</th>\n",
              "    </tr>\n",
              "  </thead>\n",
              "  <tbody>\n",
              "    <tr>\n",
              "      <th>0</th>\n",
              "      <td>343</td>\n",
              "      <td>No</td>\n",
              "      <td>2</td>\n",
              "      <td>Collander, Mr. Erik Gustaf</td>\n",
              "      <td>male</td>\n",
              "      <td>28.0</td>\n",
              "      <td>0</td>\n",
              "      <td>0</td>\n",
              "      <td>248740</td>\n",
              "      <td>13.0000</td>\n",
              "      <td>NaN</td>\n",
              "      <td>S</td>\n",
              "    </tr>\n",
              "    <tr>\n",
              "      <th>1</th>\n",
              "      <td>76</td>\n",
              "      <td>No</td>\n",
              "      <td>3</td>\n",
              "      <td>Moen, Mr. Sigurd Hansen</td>\n",
              "      <td>male</td>\n",
              "      <td>25.0</td>\n",
              "      <td>0</td>\n",
              "      <td>0</td>\n",
              "      <td>348123</td>\n",
              "      <td>7.6500</td>\n",
              "      <td>F G73</td>\n",
              "      <td>S</td>\n",
              "    </tr>\n",
              "    <tr>\n",
              "      <th>2</th>\n",
              "      <td>641</td>\n",
              "      <td>No</td>\n",
              "      <td>3</td>\n",
              "      <td>Jensen, Mr. Hans Peder</td>\n",
              "      <td>male</td>\n",
              "      <td>20.0</td>\n",
              "      <td>0</td>\n",
              "      <td>0</td>\n",
              "      <td>350050</td>\n",
              "      <td>7.8542</td>\n",
              "      <td>NaN</td>\n",
              "      <td>S</td>\n",
              "    </tr>\n",
              "    <tr>\n",
              "      <th>3</th>\n",
              "      <td>568</td>\n",
              "      <td>No</td>\n",
              "      <td>3</td>\n",
              "      <td>Palsson, Mrs. Nils (Alma Cornelia Berglund)</td>\n",
              "      <td>female</td>\n",
              "      <td>29.0</td>\n",
              "      <td>0</td>\n",
              "      <td>4</td>\n",
              "      <td>349909</td>\n",
              "      <td>21.0750</td>\n",
              "      <td>NaN</td>\n",
              "      <td>S</td>\n",
              "    </tr>\n",
              "    <tr>\n",
              "      <th>4</th>\n",
              "      <td>672</td>\n",
              "      <td>No</td>\n",
              "      <td>1</td>\n",
              "      <td>Davidson, Mr. Thornton</td>\n",
              "      <td>male</td>\n",
              "      <td>31.0</td>\n",
              "      <td>1</td>\n",
              "      <td>0</td>\n",
              "      <td>F.C. 12750</td>\n",
              "      <td>52.0000</td>\n",
              "      <td>B71</td>\n",
              "      <td>S</td>\n",
              "    </tr>\n",
              "  </tbody>\n",
              "</table>\n",
              "</div>"
            ],
            "text/plain": [
              "   PassengerId Survived  Pclass  ...     Fare  Cabin  Embarked\n",
              "0          343       No       2  ...  13.0000    NaN         S\n",
              "1           76       No       3  ...   7.6500  F G73         S\n",
              "2          641       No       3  ...   7.8542    NaN         S\n",
              "3          568       No       3  ...  21.0750    NaN         S\n",
              "4          672       No       1  ...  52.0000    B71         S\n",
              "\n",
              "[5 rows x 12 columns]"
            ]
          },
          "metadata": {
            "tags": []
          },
          "execution_count": 51
        }
      ]
    },
    {
      "cell_type": "code",
      "metadata": {
        "id": "ggCmKo9AZEp1",
        "outputId": "44944b02-a7df-48ca-ea31-76228696d0a7",
        "colab": {
          "base_uri": "https://localhost:8080/"
        }
      },
      "source": [
        "df.info()"
      ],
      "execution_count": null,
      "outputs": [
        {
          "output_type": "stream",
          "text": [
            "<class 'pandas.core.frame.DataFrame'>\n",
            "RangeIndex: 891 entries, 0 to 890\n",
            "Data columns (total 12 columns):\n",
            " #   Column       Non-Null Count  Dtype  \n",
            "---  ------       --------------  -----  \n",
            " 0   PassengerId  891 non-null    int64  \n",
            " 1   Survived     891 non-null    object \n",
            " 2   Pclass       891 non-null    int64  \n",
            " 3   Name         891 non-null    object \n",
            " 4   Sex          891 non-null    object \n",
            " 5   Age          714 non-null    float64\n",
            " 6   SibSp        891 non-null    int64  \n",
            " 7   Parch        891 non-null    int64  \n",
            " 8   Ticket       891 non-null    object \n",
            " 9   Fare         891 non-null    float64\n",
            " 10  Cabin        204 non-null    object \n",
            " 11  Embarked     889 non-null    object \n",
            "dtypes: float64(2), int64(4), object(6)\n",
            "memory usage: 83.7+ KB\n"
          ],
          "name": "stdout"
        }
      ]
    },
    {
      "cell_type": "code",
      "metadata": {
        "id": "V8QfyMYJGvP8",
        "outputId": "52d15a25-6170-47dc-cf4b-99d21efed80f",
        "colab": {
          "base_uri": "https://localhost:8080/",
          "height": 297
        }
      },
      "source": [
        "df.describe()"
      ],
      "execution_count": null,
      "outputs": [
        {
          "output_type": "execute_result",
          "data": {
            "text/html": [
              "<div>\n",
              "<style scoped>\n",
              "    .dataframe tbody tr th:only-of-type {\n",
              "        vertical-align: middle;\n",
              "    }\n",
              "\n",
              "    .dataframe tbody tr th {\n",
              "        vertical-align: top;\n",
              "    }\n",
              "\n",
              "    .dataframe thead th {\n",
              "        text-align: right;\n",
              "    }\n",
              "</style>\n",
              "<table border=\"1\" class=\"dataframe\">\n",
              "  <thead>\n",
              "    <tr style=\"text-align: right;\">\n",
              "      <th></th>\n",
              "      <th>PassengerId</th>\n",
              "      <th>Pclass</th>\n",
              "      <th>Age</th>\n",
              "      <th>SibSp</th>\n",
              "      <th>Parch</th>\n",
              "      <th>Fare</th>\n",
              "    </tr>\n",
              "  </thead>\n",
              "  <tbody>\n",
              "    <tr>\n",
              "      <th>count</th>\n",
              "      <td>891.000000</td>\n",
              "      <td>891.000000</td>\n",
              "      <td>714.000000</td>\n",
              "      <td>891.000000</td>\n",
              "      <td>891.000000</td>\n",
              "      <td>891.000000</td>\n",
              "    </tr>\n",
              "    <tr>\n",
              "      <th>mean</th>\n",
              "      <td>446.000000</td>\n",
              "      <td>2.308642</td>\n",
              "      <td>29.699118</td>\n",
              "      <td>0.523008</td>\n",
              "      <td>0.381594</td>\n",
              "      <td>32.204208</td>\n",
              "    </tr>\n",
              "    <tr>\n",
              "      <th>std</th>\n",
              "      <td>257.353842</td>\n",
              "      <td>0.836071</td>\n",
              "      <td>14.526497</td>\n",
              "      <td>1.102743</td>\n",
              "      <td>0.806057</td>\n",
              "      <td>49.693429</td>\n",
              "    </tr>\n",
              "    <tr>\n",
              "      <th>min</th>\n",
              "      <td>1.000000</td>\n",
              "      <td>1.000000</td>\n",
              "      <td>0.420000</td>\n",
              "      <td>0.000000</td>\n",
              "      <td>0.000000</td>\n",
              "      <td>0.000000</td>\n",
              "    </tr>\n",
              "    <tr>\n",
              "      <th>25%</th>\n",
              "      <td>223.500000</td>\n",
              "      <td>2.000000</td>\n",
              "      <td>20.125000</td>\n",
              "      <td>0.000000</td>\n",
              "      <td>0.000000</td>\n",
              "      <td>7.910400</td>\n",
              "    </tr>\n",
              "    <tr>\n",
              "      <th>50%</th>\n",
              "      <td>446.000000</td>\n",
              "      <td>3.000000</td>\n",
              "      <td>28.000000</td>\n",
              "      <td>0.000000</td>\n",
              "      <td>0.000000</td>\n",
              "      <td>14.454200</td>\n",
              "    </tr>\n",
              "    <tr>\n",
              "      <th>75%</th>\n",
              "      <td>668.500000</td>\n",
              "      <td>3.000000</td>\n",
              "      <td>38.000000</td>\n",
              "      <td>1.000000</td>\n",
              "      <td>0.000000</td>\n",
              "      <td>31.000000</td>\n",
              "    </tr>\n",
              "    <tr>\n",
              "      <th>max</th>\n",
              "      <td>891.000000</td>\n",
              "      <td>3.000000</td>\n",
              "      <td>80.000000</td>\n",
              "      <td>8.000000</td>\n",
              "      <td>6.000000</td>\n",
              "      <td>512.329200</td>\n",
              "    </tr>\n",
              "  </tbody>\n",
              "</table>\n",
              "</div>"
            ],
            "text/plain": [
              "       PassengerId      Pclass         Age       SibSp       Parch        Fare\n",
              "count   891.000000  891.000000  714.000000  891.000000  891.000000  891.000000\n",
              "mean    446.000000    2.308642   29.699118    0.523008    0.381594   32.204208\n",
              "std     257.353842    0.836071   14.526497    1.102743    0.806057   49.693429\n",
              "min       1.000000    1.000000    0.420000    0.000000    0.000000    0.000000\n",
              "25%     223.500000    2.000000   20.125000    0.000000    0.000000    7.910400\n",
              "50%     446.000000    3.000000   28.000000    0.000000    0.000000   14.454200\n",
              "75%     668.500000    3.000000   38.000000    1.000000    0.000000   31.000000\n",
              "max     891.000000    3.000000   80.000000    8.000000    6.000000  512.329200"
            ]
          },
          "metadata": {
            "tags": []
          },
          "execution_count": 54
        }
      ]
    },
    {
      "cell_type": "code",
      "metadata": {
        "id": "EBmw2Jpx5QHY",
        "outputId": "0749f9d9-6753-4b3f-d8fc-c18fe7c6192f",
        "colab": {
          "base_uri": "https://localhost:8080/"
        }
      },
      "source": [
        "df.isnull().sum()"
      ],
      "execution_count": null,
      "outputs": [
        {
          "output_type": "execute_result",
          "data": {
            "text/plain": [
              "PassengerId      0\n",
              "Survived         0\n",
              "Pclass           0\n",
              "Name             0\n",
              "Sex              0\n",
              "Age            177\n",
              "SibSp            0\n",
              "Parch            0\n",
              "Ticket           0\n",
              "Fare             0\n",
              "Cabin          687\n",
              "Embarked         2\n",
              "dtype: int64"
            ]
          },
          "metadata": {
            "tags": []
          },
          "execution_count": 55
        }
      ]
    },
    {
      "cell_type": "code",
      "metadata": {
        "id": "-fT3vqu-Lz3e",
        "outputId": "981fe80c-ac75-4f3d-f835-d5156066c7d4",
        "colab": {
          "base_uri": "https://localhost:8080/",
          "height": 419
        }
      },
      "source": [
        "df[\"Age\"].fillna(df[\"Age\"].mean(),inplace=True)\n",
        "df.isnull().sum()\n",
        "df"
      ],
      "execution_count": null,
      "outputs": [
        {
          "output_type": "execute_result",
          "data": {
            "text/html": [
              "<div>\n",
              "<style scoped>\n",
              "    .dataframe tbody tr th:only-of-type {\n",
              "        vertical-align: middle;\n",
              "    }\n",
              "\n",
              "    .dataframe tbody tr th {\n",
              "        vertical-align: top;\n",
              "    }\n",
              "\n",
              "    .dataframe thead th {\n",
              "        text-align: right;\n",
              "    }\n",
              "</style>\n",
              "<table border=\"1\" class=\"dataframe\">\n",
              "  <thead>\n",
              "    <tr style=\"text-align: right;\">\n",
              "      <th></th>\n",
              "      <th>PassengerId</th>\n",
              "      <th>Survived</th>\n",
              "      <th>Pclass</th>\n",
              "      <th>Name</th>\n",
              "      <th>Sex</th>\n",
              "      <th>Age</th>\n",
              "      <th>SibSp</th>\n",
              "      <th>Parch</th>\n",
              "      <th>Ticket</th>\n",
              "      <th>Fare</th>\n",
              "      <th>Cabin</th>\n",
              "      <th>Embarked</th>\n",
              "    </tr>\n",
              "  </thead>\n",
              "  <tbody>\n",
              "    <tr>\n",
              "      <th>0</th>\n",
              "      <td>343</td>\n",
              "      <td>No</td>\n",
              "      <td>2</td>\n",
              "      <td>Collander, Mr. Erik Gustaf</td>\n",
              "      <td>male</td>\n",
              "      <td>28.000000</td>\n",
              "      <td>0</td>\n",
              "      <td>0</td>\n",
              "      <td>248740</td>\n",
              "      <td>13.0000</td>\n",
              "      <td>NaN</td>\n",
              "      <td>S</td>\n",
              "    </tr>\n",
              "    <tr>\n",
              "      <th>1</th>\n",
              "      <td>76</td>\n",
              "      <td>No</td>\n",
              "      <td>3</td>\n",
              "      <td>Moen, Mr. Sigurd Hansen</td>\n",
              "      <td>male</td>\n",
              "      <td>25.000000</td>\n",
              "      <td>0</td>\n",
              "      <td>0</td>\n",
              "      <td>348123</td>\n",
              "      <td>7.6500</td>\n",
              "      <td>F G73</td>\n",
              "      <td>S</td>\n",
              "    </tr>\n",
              "    <tr>\n",
              "      <th>2</th>\n",
              "      <td>641</td>\n",
              "      <td>No</td>\n",
              "      <td>3</td>\n",
              "      <td>Jensen, Mr. Hans Peder</td>\n",
              "      <td>male</td>\n",
              "      <td>20.000000</td>\n",
              "      <td>0</td>\n",
              "      <td>0</td>\n",
              "      <td>350050</td>\n",
              "      <td>7.8542</td>\n",
              "      <td>NaN</td>\n",
              "      <td>S</td>\n",
              "    </tr>\n",
              "    <tr>\n",
              "      <th>3</th>\n",
              "      <td>568</td>\n",
              "      <td>No</td>\n",
              "      <td>3</td>\n",
              "      <td>Palsson, Mrs. Nils (Alma Cornelia Berglund)</td>\n",
              "      <td>female</td>\n",
              "      <td>29.000000</td>\n",
              "      <td>0</td>\n",
              "      <td>4</td>\n",
              "      <td>349909</td>\n",
              "      <td>21.0750</td>\n",
              "      <td>NaN</td>\n",
              "      <td>S</td>\n",
              "    </tr>\n",
              "    <tr>\n",
              "      <th>4</th>\n",
              "      <td>672</td>\n",
              "      <td>No</td>\n",
              "      <td>1</td>\n",
              "      <td>Davidson, Mr. Thornton</td>\n",
              "      <td>male</td>\n",
              "      <td>31.000000</td>\n",
              "      <td>1</td>\n",
              "      <td>0</td>\n",
              "      <td>F.C. 12750</td>\n",
              "      <td>52.0000</td>\n",
              "      <td>B71</td>\n",
              "      <td>S</td>\n",
              "    </tr>\n",
              "    <tr>\n",
              "      <th>...</th>\n",
              "      <td>...</td>\n",
              "      <td>...</td>\n",
              "      <td>...</td>\n",
              "      <td>...</td>\n",
              "      <td>...</td>\n",
              "      <td>...</td>\n",
              "      <td>...</td>\n",
              "      <td>...</td>\n",
              "      <td>...</td>\n",
              "      <td>...</td>\n",
              "      <td>...</td>\n",
              "      <td>...</td>\n",
              "    </tr>\n",
              "    <tr>\n",
              "      <th>886</th>\n",
              "      <td>10</td>\n",
              "      <td>Yes</td>\n",
              "      <td>2</td>\n",
              "      <td>Nasser, Mrs. Nicholas (Adele Achem)</td>\n",
              "      <td>female</td>\n",
              "      <td>14.000000</td>\n",
              "      <td>1</td>\n",
              "      <td>0</td>\n",
              "      <td>237736</td>\n",
              "      <td>30.0708</td>\n",
              "      <td>NaN</td>\n",
              "      <td>C</td>\n",
              "    </tr>\n",
              "    <tr>\n",
              "      <th>887</th>\n",
              "      <td>61</td>\n",
              "      <td>No</td>\n",
              "      <td>3</td>\n",
              "      <td>Sirayanian, Mr. Orsen</td>\n",
              "      <td>male</td>\n",
              "      <td>22.000000</td>\n",
              "      <td>0</td>\n",
              "      <td>0</td>\n",
              "      <td>2669</td>\n",
              "      <td>7.2292</td>\n",
              "      <td>NaN</td>\n",
              "      <td>C</td>\n",
              "    </tr>\n",
              "    <tr>\n",
              "      <th>888</th>\n",
              "      <td>535</td>\n",
              "      <td>No</td>\n",
              "      <td>3</td>\n",
              "      <td>Cacic, Miss. Marija</td>\n",
              "      <td>female</td>\n",
              "      <td>30.000000</td>\n",
              "      <td>0</td>\n",
              "      <td>0</td>\n",
              "      <td>315084</td>\n",
              "      <td>8.6625</td>\n",
              "      <td>NaN</td>\n",
              "      <td>S</td>\n",
              "    </tr>\n",
              "    <tr>\n",
              "      <th>889</th>\n",
              "      <td>102</td>\n",
              "      <td>No</td>\n",
              "      <td>3</td>\n",
              "      <td>Petroff, Mr. Pastcho (\"Pentcho\")</td>\n",
              "      <td>male</td>\n",
              "      <td>29.699118</td>\n",
              "      <td>0</td>\n",
              "      <td>0</td>\n",
              "      <td>349215</td>\n",
              "      <td>7.8958</td>\n",
              "      <td>NaN</td>\n",
              "      <td>S</td>\n",
              "    </tr>\n",
              "    <tr>\n",
              "      <th>890</th>\n",
              "      <td>428</td>\n",
              "      <td>Yes</td>\n",
              "      <td>2</td>\n",
              "      <td>Phillips, Miss. Kate Florence (\"Mrs Kate Louis...</td>\n",
              "      <td>female</td>\n",
              "      <td>19.000000</td>\n",
              "      <td>0</td>\n",
              "      <td>0</td>\n",
              "      <td>250655</td>\n",
              "      <td>26.0000</td>\n",
              "      <td>NaN</td>\n",
              "      <td>S</td>\n",
              "    </tr>\n",
              "  </tbody>\n",
              "</table>\n",
              "<p>891 rows × 12 columns</p>\n",
              "</div>"
            ],
            "text/plain": [
              "     PassengerId Survived  Pclass  ...     Fare  Cabin  Embarked\n",
              "0            343       No       2  ...  13.0000    NaN         S\n",
              "1             76       No       3  ...   7.6500  F G73         S\n",
              "2            641       No       3  ...   7.8542    NaN         S\n",
              "3            568       No       3  ...  21.0750    NaN         S\n",
              "4            672       No       1  ...  52.0000    B71         S\n",
              "..           ...      ...     ...  ...      ...    ...       ...\n",
              "886           10      Yes       2  ...  30.0708    NaN         C\n",
              "887           61       No       3  ...   7.2292    NaN         C\n",
              "888          535       No       3  ...   8.6625    NaN         S\n",
              "889          102       No       3  ...   7.8958    NaN         S\n",
              "890          428      Yes       2  ...  26.0000    NaN         S\n",
              "\n",
              "[891 rows x 12 columns]"
            ]
          },
          "metadata": {
            "tags": []
          },
          "execution_count": 56
        }
      ]
    },
    {
      "cell_type": "code",
      "metadata": {
        "id": "vRYmje9AVFdX",
        "outputId": "c14a0e4e-c8ec-4646-9b59-d69ae24767d7",
        "colab": {
          "base_uri": "https://localhost:8080/"
        }
      },
      "source": [
        "\n",
        "df[\"Embarked\"].fillna(\"S\",inplace=True)\n",
        "df.isnull().sum()\n",
        "\n",
        "df.dropna(1,inplace=True)\n",
        "df.isnull().sum()"
      ],
      "execution_count": null,
      "outputs": [
        {
          "output_type": "execute_result",
          "data": {
            "text/plain": [
              "PassengerId    0\n",
              "Survived       0\n",
              "Pclass         0\n",
              "Name           0\n",
              "Sex            0\n",
              "Age            0\n",
              "SibSp          0\n",
              "Parch          0\n",
              "Ticket         0\n",
              "Fare           0\n",
              "Embarked       0\n",
              "dtype: int64"
            ]
          },
          "metadata": {
            "tags": []
          },
          "execution_count": 57
        }
      ]
    },
    {
      "cell_type": "code",
      "metadata": {
        "id": "RtRx6f9XZPxX",
        "outputId": "c2536b74-1127-4b93-9f27-51757821a47f",
        "colab": {
          "base_uri": "https://localhost:8080/"
        }
      },
      "source": [
        "df[\"Embarked\"].value_counts()"
      ],
      "execution_count": null,
      "outputs": [
        {
          "output_type": "execute_result",
          "data": {
            "text/plain": [
              "S    646\n",
              "C    168\n",
              "Q     77\n",
              "Name: Embarked, dtype: int64"
            ]
          },
          "metadata": {
            "tags": []
          },
          "execution_count": 58
        }
      ]
    },
    {
      "cell_type": "code",
      "metadata": {
        "id": "ntp0c9xBg3x7",
        "outputId": "c0ac0ad5-1ce3-4441-a241-294e371e53f1",
        "colab": {
          "base_uri": "https://localhost:8080/"
        }
      },
      "source": [
        "df[\"Sex\"].value_counts()"
      ],
      "execution_count": null,
      "outputs": [
        {
          "output_type": "execute_result",
          "data": {
            "text/plain": [
              "male      577\n",
              "female    314\n",
              "Name: Sex, dtype: int64"
            ]
          },
          "metadata": {
            "tags": []
          },
          "execution_count": 59
        }
      ]
    },
    {
      "cell_type": "code",
      "metadata": {
        "id": "od-qm5jBcZeu",
        "outputId": "5837b492-b99a-4d3c-d410-c5c0b08224c4",
        "colab": {
          "base_uri": "https://localhost:8080/",
          "height": 242
        }
      },
      "source": [
        "g=sns.FacetGrid(df,col=\"Sex\")\n",
        "g.map(plt.hist,\"Age\")"
      ],
      "execution_count": null,
      "outputs": [
        {
          "output_type": "execute_result",
          "data": {
            "text/plain": [
              "<seaborn.axisgrid.FacetGrid at 0x7f53ac7a3080>"
            ]
          },
          "metadata": {
            "tags": []
          },
          "execution_count": 60
        },
        {
          "output_type": "display_data",
          "data": {
            "image/png": "[encoded data removed]",
            "text/plain": [
              "<Figure size 432x216 with 2 Axes>"
            ]
          },
          "metadata": {
            "tags": [],
            "needs_background": "light"
          }
        }
      ]
    },
    {
      "cell_type": "code",
      "metadata": {
        "id": "HrFkHbhsgfHg",
        "outputId": "ea45caa9-d5b7-4af3-da20-979bb326784b",
        "colab": {
          "base_uri": "https://localhost:8080/",
          "height": 279
        }
      },
      "source": [
        "ax = sns.countplot(x=\"Survived\", hue=\"Sex\", data=df)\n"
      ],
      "execution_count": null,
      "outputs": [
        {
          "output_type": "display_data",
          "data": {
            "image/png": "[encoded data removed]",
            "text/plain": [
              "<Figure size 432x288 with 1 Axes>"
            ]
          },
          "metadata": {
            "tags": [],
            "needs_background": "light"
          }
        }
      ]
    },
    {
      "cell_type": "code",
      "metadata": {
        "id": "as7KsSXyglaA",
        "outputId": "af7a81d8-9995-4905-aa65-f42cd54b953f",
        "colab": {
          "base_uri": "https://localhost:8080/",
          "height": 242
        }
      },
      "source": [
        "g=sns.FacetGrid(df,col=\"Survived\")\n",
        "g.map(plt.hist,\"Age\")"
      ],
      "execution_count": null,
      "outputs": [
        {
          "output_type": "execute_result",
          "data": {
            "text/plain": [
              "<seaborn.axisgrid.FacetGrid at 0x7f53ad57c7f0>"
            ]
          },
          "metadata": {
            "tags": []
          },
          "execution_count": 62
        },
        {
          "output_type": "display_data",
          "data": {
            "image/png": "[encoded data removed]",
            "text/plain": [
              "<Figure size 432x216 with 2 Axes>"
            ]
          },
          "metadata": {
            "tags": [],
            "needs_background": "light"
          }
        }
      ]
    },
    {
      "cell_type": "code",
      "metadata": {
        "id": "8JsjSNcmi84Q",
        "outputId": "497b30ee-34eb-483d-9461-4a515621055d",
        "colab": {
          "base_uri": "https://localhost:8080/",
          "height": 601
        }
      },
      "source": [
        "def plot_correlation_map( df ):\n",
        "\n",
        "    corr = df.corr()\n",
        "\n",
        "    s , ax = plt.subplots( figsize =( 12 , 10 ) )\n",
        "\n",
        "    cmap = sns.diverging_palette( 220 , 10 , as_cmap = True )\n",
        "\n",
        "    s = sns.heatmap(\n",
        "\n",
        "        corr, \n",
        "\n",
        "        cmap = cmap,\n",
        "\n",
        "        square=True, \n",
        "\n",
        "        cbar_kws={ 'shrink' : .9 }, \n",
        "\n",
        "        ax=ax, \n",
        "\n",
        "        annot = True, \n",
        "\n",
        "        annot_kws = { 'fontsize' : 12 }\n",
        "\n",
        "        )\n",
        "\n",
        "print (plot_correlation_map(df))"
      ],
      "execution_count": null,
      "outputs": [
        {
          "output_type": "stream",
          "text": [
            "None\n"
          ],
          "name": "stdout"
        },
        {
          "output_type": "display_data",
          "data": {
            "image/png": "[encoded data removed]",
            "text/plain": [
              "<Figure size 864x720 with 2 Axes>"
            ]
          },
          "metadata": {
            "tags": [],
            "needs_background": "light"
          }
        }
      ]
    },
    {
      "cell_type": "markdown",
      "metadata": {
        "id": "L7e07RZNX3uo"
      },
      "source": [
        "\n",
        "\n",
        "```\n",
        "# This is formatted as code\n",
        "```\n",
        "\n",
        "this function returns every possible correllateral in the dataset with a graph looking like a heat map which helps us compare each correllateral to the others\n"
      ]
    },
    {
      "cell_type": "code",
      "metadata": {
        "id": "K_SbvAY57w6V",
        "outputId": "8325973d-414c-4bc5-de0e-0d3cb5205dec",
        "colab": {
          "base_uri": "https://localhost:8080/",
          "height": 142
        }
      },
      "source": [
        "df.groupby(['Survived'],group_keys=[\"Pclass\"]).mean()"
      ],
      "execution_count": null,
      "outputs": [
        {
          "output_type": "execute_result",
          "data": {
            "text/html": [
              "<div>\n",
              "<style scoped>\n",
              "    .dataframe tbody tr th:only-of-type {\n",
              "        vertical-align: middle;\n",
              "    }\n",
              "\n",
              "    .dataframe tbody tr th {\n",
              "        vertical-align: top;\n",
              "    }\n",
              "\n",
              "    .dataframe thead th {\n",
              "        text-align: right;\n",
              "    }\n",
              "</style>\n",
              "<table border=\"1\" class=\"dataframe\">\n",
              "  <thead>\n",
              "    <tr style=\"text-align: right;\">\n",
              "      <th></th>\n",
              "      <th>PassengerId</th>\n",
              "      <th>Pclass</th>\n",
              "      <th>Age</th>\n",
              "      <th>SibSp</th>\n",
              "      <th>Parch</th>\n",
              "      <th>Fare</th>\n",
              "    </tr>\n",
              "    <tr>\n",
              "      <th>Survived</th>\n",
              "      <th></th>\n",
              "      <th></th>\n",
              "      <th></th>\n",
              "      <th></th>\n",
              "      <th></th>\n",
              "      <th></th>\n",
              "    </tr>\n",
              "  </thead>\n",
              "  <tbody>\n",
              "    <tr>\n",
              "      <th>No</th>\n",
              "      <td>447.016393</td>\n",
              "      <td>2.531876</td>\n",
              "      <td>30.415100</td>\n",
              "      <td>0.553734</td>\n",
              "      <td>0.329690</td>\n",
              "      <td>22.117887</td>\n",
              "    </tr>\n",
              "    <tr>\n",
              "      <th>Yes</th>\n",
              "      <td>444.368421</td>\n",
              "      <td>1.950292</td>\n",
              "      <td>28.549778</td>\n",
              "      <td>0.473684</td>\n",
              "      <td>0.464912</td>\n",
              "      <td>48.395408</td>\n",
              "    </tr>\n",
              "  </tbody>\n",
              "</table>\n",
              "</div>"
            ],
            "text/plain": [
              "          PassengerId    Pclass        Age     SibSp     Parch       Fare\n",
              "Survived                                                                 \n",
              "No         447.016393  2.531876  30.415100  0.553734  0.329690  22.117887\n",
              "Yes        444.368421  1.950292  28.549778  0.473684  0.464912  48.395408"
            ]
          },
          "metadata": {
            "tags": []
          },
          "execution_count": 64
        }
      ]
    },
    {
      "cell_type": "code",
      "metadata": {
        "id": "Sjhdc4xI6fbs",
        "outputId": "cbd7c4d3-2325-4dad-f60f-4ea110d7ee57",
        "colab": {
          "base_uri": "https://localhost:8080/",
          "height": 419
        }
      },
      "source": [
        "df"
      ],
      "execution_count": null,
      "outputs": [
        {
          "output_type": "execute_result",
          "data": {
            "text/html": [
              "<div>\n",
              "<style scoped>\n",
              "    .dataframe tbody tr th:only-of-type {\n",
              "        vertical-align: middle;\n",
              "    }\n",
              "\n",
              "    .dataframe tbody tr th {\n",
              "        vertical-align: top;\n",
              "    }\n",
              "\n",
              "    .dataframe thead th {\n",
              "        text-align: right;\n",
              "    }\n",
              "</style>\n",
              "<table border=\"1\" class=\"dataframe\">\n",
              "  <thead>\n",
              "    <tr style=\"text-align: right;\">\n",
              "      <th></th>\n",
              "      <th>PassengerId</th>\n",
              "      <th>Survived</th>\n",
              "      <th>Pclass</th>\n",
              "      <th>Name</th>\n",
              "      <th>Sex</th>\n",
              "      <th>Age</th>\n",
              "      <th>SibSp</th>\n",
              "      <th>Parch</th>\n",
              "      <th>Ticket</th>\n",
              "      <th>Fare</th>\n",
              "      <th>Embarked</th>\n",
              "    </tr>\n",
              "  </thead>\n",
              "  <tbody>\n",
              "    <tr>\n",
              "      <th>0</th>\n",
              "      <td>343</td>\n",
              "      <td>No</td>\n",
              "      <td>2</td>\n",
              "      <td>Collander, Mr. Erik Gustaf</td>\n",
              "      <td>male</td>\n",
              "      <td>28.000000</td>\n",
              "      <td>0</td>\n",
              "      <td>0</td>\n",
              "      <td>248740</td>\n",
              "      <td>13.0000</td>\n",
              "      <td>S</td>\n",
              "    </tr>\n",
              "    <tr>\n",
              "      <th>1</th>\n",
              "      <td>76</td>\n",
              "      <td>No</td>\n",
              "      <td>3</td>\n",
              "      <td>Moen, Mr. Sigurd Hansen</td>\n",
              "      <td>male</td>\n",
              "      <td>25.000000</td>\n",
              "      <td>0</td>\n",
              "      <td>0</td>\n",
              "      <td>348123</td>\n",
              "      <td>7.6500</td>\n",
              "      <td>S</td>\n",
              "    </tr>\n",
              "    <tr>\n",
              "      <th>2</th>\n",
              "      <td>641</td>\n",
              "      <td>No</td>\n",
              "      <td>3</td>\n",
              "      <td>Jensen, Mr. Hans Peder</td>\n",
              "      <td>male</td>\n",
              "      <td>20.000000</td>\n",
              "      <td>0</td>\n",
              "      <td>0</td>\n",
              "      <td>350050</td>\n",
              "      <td>7.8542</td>\n",
              "      <td>S</td>\n",
              "    </tr>\n",
              "    <tr>\n",
              "      <th>3</th>\n",
              "      <td>568</td>\n",
              "      <td>No</td>\n",
              "      <td>3</td>\n",
              "      <td>Palsson, Mrs. Nils (Alma Cornelia Berglund)</td>\n",
              "      <td>female</td>\n",
              "      <td>29.000000</td>\n",
              "      <td>0</td>\n",
              "      <td>4</td>\n",
              "      <td>349909</td>\n",
              "      <td>21.0750</td>\n",
              "      <td>S</td>\n",
              "    </tr>\n",
              "    <tr>\n",
              "      <th>4</th>\n",
              "      <td>672</td>\n",
              "      <td>No</td>\n",
              "      <td>1</td>\n",
              "      <td>Davidson, Mr. Thornton</td>\n",
              "      <td>male</td>\n",
              "      <td>31.000000</td>\n",
              "      <td>1</td>\n",
              "      <td>0</td>\n",
              "      <td>F.C. 12750</td>\n",
              "      <td>52.0000</td>\n",
              "      <td>S</td>\n",
              "    </tr>\n",
              "    <tr>\n",
              "      <th>...</th>\n",
              "      <td>...</td>\n",
              "      <td>...</td>\n",
              "      <td>...</td>\n",
              "      <td>...</td>\n",
              "      <td>...</td>\n",
              "      <td>...</td>\n",
              "      <td>...</td>\n",
              "      <td>...</td>\n",
              "      <td>...</td>\n",
              "      <td>...</td>\n",
              "      <td>...</td>\n",
              "    </tr>\n",
              "    <tr>\n",
              "      <th>886</th>\n",
              "      <td>10</td>\n",
              "      <td>Yes</td>\n",
              "      <td>2</td>\n",
              "      <td>Nasser, Mrs. Nicholas (Adele Achem)</td>\n",
              "      <td>female</td>\n",
              "      <td>14.000000</td>\n",
              "      <td>1</td>\n",
              "      <td>0</td>\n",
              "      <td>237736</td>\n",
              "      <td>30.0708</td>\n",
              "      <td>C</td>\n",
              "    </tr>\n",
              "    <tr>\n",
              "      <th>887</th>\n",
              "      <td>61</td>\n",
              "      <td>No</td>\n",
              "      <td>3</td>\n",
              "      <td>Sirayanian, Mr. Orsen</td>\n",
              "      <td>male</td>\n",
              "      <td>22.000000</td>\n",
              "      <td>0</td>\n",
              "      <td>0</td>\n",
              "      <td>2669</td>\n",
              "      <td>7.2292</td>\n",
              "      <td>C</td>\n",
              "    </tr>\n",
              "    <tr>\n",
              "      <th>888</th>\n",
              "      <td>535</td>\n",
              "      <td>No</td>\n",
              "      <td>3</td>\n",
              "      <td>Cacic, Miss. Marija</td>\n",
              "      <td>female</td>\n",
              "      <td>30.000000</td>\n",
              "      <td>0</td>\n",
              "      <td>0</td>\n",
              "      <td>315084</td>\n",
              "      <td>8.6625</td>\n",
              "      <td>S</td>\n",
              "    </tr>\n",
              "    <tr>\n",
              "      <th>889</th>\n",
              "      <td>102</td>\n",
              "      <td>No</td>\n",
              "      <td>3</td>\n",
              "      <td>Petroff, Mr. Pastcho (\"Pentcho\")</td>\n",
              "      <td>male</td>\n",
              "      <td>29.699118</td>\n",
              "      <td>0</td>\n",
              "      <td>0</td>\n",
              "      <td>349215</td>\n",
              "      <td>7.8958</td>\n",
              "      <td>S</td>\n",
              "    </tr>\n",
              "    <tr>\n",
              "      <th>890</th>\n",
              "      <td>428</td>\n",
              "      <td>Yes</td>\n",
              "      <td>2</td>\n",
              "      <td>Phillips, Miss. Kate Florence (\"Mrs Kate Louis...</td>\n",
              "      <td>female</td>\n",
              "      <td>19.000000</td>\n",
              "      <td>0</td>\n",
              "      <td>0</td>\n",
              "      <td>250655</td>\n",
              "      <td>26.0000</td>\n",
              "      <td>S</td>\n",
              "    </tr>\n",
              "  </tbody>\n",
              "</table>\n",
              "<p>891 rows × 11 columns</p>\n",
              "</div>"
            ],
            "text/plain": [
              "     PassengerId Survived  Pclass  ...      Ticket     Fare  Embarked\n",
              "0            343       No       2  ...      248740  13.0000         S\n",
              "1             76       No       3  ...      348123   7.6500         S\n",
              "2            641       No       3  ...      350050   7.8542         S\n",
              "3            568       No       3  ...      349909  21.0750         S\n",
              "4            672       No       1  ...  F.C. 12750  52.0000         S\n",
              "..           ...      ...     ...  ...         ...      ...       ...\n",
              "886           10      Yes       2  ...      237736  30.0708         C\n",
              "887           61       No       3  ...        2669   7.2292         C\n",
              "888          535       No       3  ...      315084   8.6625         S\n",
              "889          102       No       3  ...      349215   7.8958         S\n",
              "890          428      Yes       2  ...      250655  26.0000         S\n",
              "\n",
              "[891 rows x 11 columns]"
            ]
          },
          "metadata": {
            "tags": []
          },
          "execution_count": 65
        }
      ]
    },
    {
      "cell_type": "code",
      "metadata": {
        "id": "jtkBW9iW8_WL"
      },
      "source": [
        "ncolunms=df.shape[1]\n",
        "nrows=df.shape[0]\n",
        "newcolumn=[]\n",
        "for i in df[\"Name\"]:\n",
        "  point=i.find(\".\")\n",
        "  virgule=i.find(\",\")\n",
        "  title=i[2+virgule:point]\n",
        "  newcolumn.append(title)\n",
        "df[\"Titles\"]=newcolumn\n"
      ],
      "execution_count": 89,
      "outputs": []
    },
    {
      "cell_type": "code",
      "metadata": {
        "id": "YZ-P87U9Ej2e",
        "outputId": "e406e452-7444-4e4e-e823-d28b9204f6a0",
        "colab": {
          "base_uri": "https://localhost:8080/",
          "height": 420
        }
      },
      "source": [
        "g=sns.FacetGrid(df,col=\"Sex\")\n",
        "g.map(plt.hist,\"Titles\")\n",
        "g.fig.set_figwidth(19)\n",
        "g.fig.set_figheight(7)"
      ],
      "execution_count": null,
      "outputs": [
        {
          "output_type": "display_data",
          "data": {
            "image/png": "[encoded data removed]",
            "text/plain": [
              "<Figure size 1368x504 with 2 Axes>"
            ]
          },
          "metadata": {
            "tags": [],
            "needs_background": "light"
          }
        }
      ]
    },
    {
      "cell_type": "code",
      "metadata": {
        "id": "SvmarfUwISEo",
        "outputId": "10a6dc91-58b9-4539-9a34-a5eb63a181e4",
        "colab": {
          "base_uri": "https://localhost:8080/",
          "height": 616
        }
      },
      "source": [
        "g=sns.FacetGrid(df,col=\"Titles\")\n",
        "g.map(plt.hist,\"Age\")\n",
        "g.fig.set_figwidth(23)\n",
        "g.fig.set_figheight(15)"
      ],
      "execution_count": null,
      "outputs": [
        {
          "output_type": "display_data",
          "data": {
            "image/png": "[encoded data removed]",
            "text/plain": [
              "<Figure size 1656x1080 with 17 Axes>"
            ]
          },
          "metadata": {
            "tags": [],
            "needs_background": "light"
          }
        }
      ]
    },
    {
      "cell_type": "code",
      "metadata": {
        "id": "GKSgK0a5KHT2",
        "outputId": "62bd48dd-cd7b-4f0c-af02-26009b2ee560",
        "colab": {
          "base_uri": "https://localhost:8080/",
          "height": 380
        }
      },
      "source": [
        "g=sns.FacetGrid(df,col=\"Titles\")\n",
        "g.map(plt.hist,\"Fare\")\n",
        "g.fig.set_figwidth(19)\n",
        "g.fig.set_figheight(7)"
      ],
      "execution_count": null,
      "outputs": [
        {
          "output_type": "display_data",
          "data": {
            "image/png": "[encoded data removed]",
            "text/plain": [
              "<Figure size 1368x504 with 17 Axes>"
            ]
          },
          "metadata": {
            "tags": [],
            "needs_background": "light"
          }
        }
      ]
    },
    {
      "cell_type": "code",
      "metadata": {
        "id": "m00Dth48Ldbu",
        "outputId": "795cff2c-ee44-4894-a946-ee4a6e315c7a",
        "colab": {
          "base_uri": "https://localhost:8080/",
          "height": 388
        }
      },
      "source": [
        "g=sns.FacetGrid(df,col=\"SibSp\")\n",
        "g.map(plt.hist,\"Titles\")\n",
        "g.fig.set_figwidth(19)\n",
        "g.fig.set_figheight(7)"
      ],
      "execution_count": null,
      "outputs": [
        {
          "output_type": "display_data",
          "data": {
            "image/png": "[encoded data removed]",
            "text/plain": [
              "<Figure size 1368x504 with 7 Axes>"
            ]
          },
          "metadata": {
            "tags": [],
            "needs_background": "light"
          }
        }
      ]
    },
    {
      "cell_type": "code",
      "metadata": {
        "id": "JUuYk4qWL1hq",
        "outputId": "a7cb922b-1531-455b-84b3-880245a1b4ae",
        "colab": {
          "base_uri": "https://localhost:8080/",
          "height": 388
        }
      },
      "source": [
        "g=sns.FacetGrid(df,col=\"Parch\")\n",
        "g.map(plt.hist,\"Titles\")\n",
        "g.fig.set_figwidth(19)\n",
        "g.fig.set_figheight(7)"
      ],
      "execution_count": null,
      "outputs": [
        {
          "output_type": "display_data",
          "data": {
            "image/png": "[encoded data removed]",
            "text/plain": [
              "<Figure size 1368x504 with 7 Axes>"
            ]
          },
          "metadata": {
            "tags": [],
            "needs_background": "light"
          }
        }
      ]
    },
    {
      "cell_type": "code",
      "metadata": {
        "id": "z4k5LZdXMCaa",
        "outputId": "a0b206f8-9ebf-4720-af4c-8c244cd5cb74",
        "colab": {
          "base_uri": "https://localhost:8080/",
          "height": 419
        }
      },
      "source": [
        "Title_Dictionary = {\n",
        "\n",
        "                    \"Capt\":       \"Officer\",\n",
        "\n",
        "                    \"Col\":        \"Officer\",\n",
        "\n",
        "                    \"Major\":      \"Officer\",\n",
        "\n",
        "                      \"Dr\":         \"Officer\",\n",
        "\n",
        "                    \"Rev\":        \"Officer\" ,\n",
        "\n",
        "                    \"Jonkheer\":   \"Royalty\",\n",
        "\n",
        "                    \"Don\":        \"Royalty\",\n",
        "\n",
        "                    \"Sir\" :       \"Royalty\",\n",
        "\n",
        "                   \"Lady\" :      \"Royalty\",\n",
        "\n",
        "                   \"the Countess\": \"Royalty\",\n",
        "\n",
        "                    \"Dona\":       \"Royalty\",\n",
        "\n",
        "                    \"Mme\":        \"Miss\",\n",
        "\n",
        "                    \"Mlle\":       \"Miss\",\n",
        "\n",
        "                    \"Miss\" :      \"Miss\",\n",
        "\n",
        "                    \"Ms\":         \"Mrs\",\n",
        "\n",
        "                    \"Mr\" :        \"Mrs\",\n",
        "\n",
        "                    \"Mrs\" :       \"Mrs\",\n",
        "\n",
        "                    \"Master\" :    \"Master\"\n",
        "\n",
        "                    }\n",
        "\n",
        "\n",
        "for i in df[\"Titles\"]:\n",
        "  i=Title_Dictionary[i]\n",
        "df"
      ],
      "execution_count": 86,
      "outputs": [
        {
          "output_type": "execute_result",
          "data": {
            "text/html": [
              "<div>\n",
              "<style scoped>\n",
              "    .dataframe tbody tr th:only-of-type {\n",
              "        vertical-align: middle;\n",
              "    }\n",
              "\n",
              "    .dataframe tbody tr th {\n",
              "        vertical-align: top;\n",
              "    }\n",
              "\n",
              "    .dataframe thead th {\n",
              "        text-align: right;\n",
              "    }\n",
              "</style>\n",
              "<table border=\"1\" class=\"dataframe\">\n",
              "  <thead>\n",
              "    <tr style=\"text-align: right;\">\n",
              "      <th></th>\n",
              "      <th>PassengerId</th>\n",
              "      <th>Survived</th>\n",
              "      <th>Pclass</th>\n",
              "      <th>Name</th>\n",
              "      <th>Sex</th>\n",
              "      <th>Age</th>\n",
              "      <th>SibSp</th>\n",
              "      <th>Parch</th>\n",
              "      <th>Ticket</th>\n",
              "      <th>Fare</th>\n",
              "      <th>Embarked</th>\n",
              "      <th>Titles</th>\n",
              "    </tr>\n",
              "  </thead>\n",
              "  <tbody>\n",
              "    <tr>\n",
              "      <th>0</th>\n",
              "      <td>343</td>\n",
              "      <td>No</td>\n",
              "      <td>2</td>\n",
              "      <td>Collander, Mr. Erik Gustaf</td>\n",
              "      <td>male</td>\n",
              "      <td>28.000000</td>\n",
              "      <td>0</td>\n",
              "      <td>0</td>\n",
              "      <td>248740</td>\n",
              "      <td>13.0000</td>\n",
              "      <td>S</td>\n",
              "      <td>Mr</td>\n",
              "    </tr>\n",
              "    <tr>\n",
              "      <th>1</th>\n",
              "      <td>76</td>\n",
              "      <td>No</td>\n",
              "      <td>3</td>\n",
              "      <td>Moen, Mr. Sigurd Hansen</td>\n",
              "      <td>male</td>\n",
              "      <td>25.000000</td>\n",
              "      <td>0</td>\n",
              "      <td>0</td>\n",
              "      <td>348123</td>\n",
              "      <td>7.6500</td>\n",
              "      <td>S</td>\n",
              "      <td>Mr</td>\n",
              "    </tr>\n",
              "    <tr>\n",
              "      <th>2</th>\n",
              "      <td>641</td>\n",
              "      <td>No</td>\n",
              "      <td>3</td>\n",
              "      <td>Jensen, Mr. Hans Peder</td>\n",
              "      <td>male</td>\n",
              "      <td>20.000000</td>\n",
              "      <td>0</td>\n",
              "      <td>0</td>\n",
              "      <td>350050</td>\n",
              "      <td>7.8542</td>\n",
              "      <td>S</td>\n",
              "      <td>Mr</td>\n",
              "    </tr>\n",
              "    <tr>\n",
              "      <th>3</th>\n",
              "      <td>568</td>\n",
              "      <td>No</td>\n",
              "      <td>3</td>\n",
              "      <td>Palsson, Mrs. Nils (Alma Cornelia Berglund)</td>\n",
              "      <td>female</td>\n",
              "      <td>29.000000</td>\n",
              "      <td>0</td>\n",
              "      <td>4</td>\n",
              "      <td>349909</td>\n",
              "      <td>21.0750</td>\n",
              "      <td>S</td>\n",
              "      <td>Mrs</td>\n",
              "    </tr>\n",
              "    <tr>\n",
              "      <th>4</th>\n",
              "      <td>672</td>\n",
              "      <td>No</td>\n",
              "      <td>1</td>\n",
              "      <td>Davidson, Mr. Thornton</td>\n",
              "      <td>male</td>\n",
              "      <td>31.000000</td>\n",
              "      <td>1</td>\n",
              "      <td>0</td>\n",
              "      <td>F.C. 12750</td>\n",
              "      <td>52.0000</td>\n",
              "      <td>S</td>\n",
              "      <td>Mr</td>\n",
              "    </tr>\n",
              "    <tr>\n",
              "      <th>...</th>\n",
              "      <td>...</td>\n",
              "      <td>...</td>\n",
              "      <td>...</td>\n",
              "      <td>...</td>\n",
              "      <td>...</td>\n",
              "      <td>...</td>\n",
              "      <td>...</td>\n",
              "      <td>...</td>\n",
              "      <td>...</td>\n",
              "      <td>...</td>\n",
              "      <td>...</td>\n",
              "      <td>...</td>\n",
              "    </tr>\n",
              "    <tr>\n",
              "      <th>886</th>\n",
              "      <td>10</td>\n",
              "      <td>Yes</td>\n",
              "      <td>2</td>\n",
              "      <td>Nasser, Mrs. Nicholas (Adele Achem)</td>\n",
              "      <td>female</td>\n",
              "      <td>14.000000</td>\n",
              "      <td>1</td>\n",
              "      <td>0</td>\n",
              "      <td>237736</td>\n",
              "      <td>30.0708</td>\n",
              "      <td>C</td>\n",
              "      <td>Mrs</td>\n",
              "    </tr>\n",
              "    <tr>\n",
              "      <th>887</th>\n",
              "      <td>61</td>\n",
              "      <td>No</td>\n",
              "      <td>3</td>\n",
              "      <td>Sirayanian, Mr. Orsen</td>\n",
              "      <td>male</td>\n",
              "      <td>22.000000</td>\n",
              "      <td>0</td>\n",
              "      <td>0</td>\n",
              "      <td>2669</td>\n",
              "      <td>7.2292</td>\n",
              "      <td>C</td>\n",
              "      <td>Mr</td>\n",
              "    </tr>\n",
              "    <tr>\n",
              "      <th>888</th>\n",
              "      <td>535</td>\n",
              "      <td>No</td>\n",
              "      <td>3</td>\n",
              "      <td>Cacic, Miss. Marija</td>\n",
              "      <td>female</td>\n",
              "      <td>30.000000</td>\n",
              "      <td>0</td>\n",
              "      <td>0</td>\n",
              "      <td>315084</td>\n",
              "      <td>8.6625</td>\n",
              "      <td>S</td>\n",
              "      <td>Miss</td>\n",
              "    </tr>\n",
              "    <tr>\n",
              "      <th>889</th>\n",
              "      <td>102</td>\n",
              "      <td>No</td>\n",
              "      <td>3</td>\n",
              "      <td>Petroff, Mr. Pastcho (\"Pentcho\")</td>\n",
              "      <td>male</td>\n",
              "      <td>29.699118</td>\n",
              "      <td>0</td>\n",
              "      <td>0</td>\n",
              "      <td>349215</td>\n",
              "      <td>7.8958</td>\n",
              "      <td>S</td>\n",
              "      <td>Mr</td>\n",
              "    </tr>\n",
              "    <tr>\n",
              "      <th>890</th>\n",
              "      <td>428</td>\n",
              "      <td>Yes</td>\n",
              "      <td>2</td>\n",
              "      <td>Phillips, Miss. Kate Florence (\"Mrs Kate Louis...</td>\n",
              "      <td>female</td>\n",
              "      <td>19.000000</td>\n",
              "      <td>0</td>\n",
              "      <td>0</td>\n",
              "      <td>250655</td>\n",
              "      <td>26.0000</td>\n",
              "      <td>S</td>\n",
              "      <td>Miss</td>\n",
              "    </tr>\n",
              "  </tbody>\n",
              "</table>\n",
              "<p>891 rows × 12 columns</p>\n",
              "</div>"
            ],
            "text/plain": [
              "     PassengerId Survived  Pclass  ...     Fare Embarked  Titles\n",
              "0            343       No       2  ...  13.0000        S      Mr\n",
              "1             76       No       3  ...   7.6500        S      Mr\n",
              "2            641       No       3  ...   7.8542        S      Mr\n",
              "3            568       No       3  ...  21.0750        S     Mrs\n",
              "4            672       No       1  ...  52.0000        S      Mr\n",
              "..           ...      ...     ...  ...      ...      ...     ...\n",
              "886           10      Yes       2  ...  30.0708        C     Mrs\n",
              "887           61       No       3  ...   7.2292        C      Mr\n",
              "888          535       No       3  ...   8.6625        S    Miss\n",
              "889          102       No       3  ...   7.8958        S      Mr\n",
              "890          428      Yes       2  ...  26.0000        S    Miss\n",
              "\n",
              "[891 rows x 12 columns]"
            ]
          },
          "metadata": {
            "tags": []
          },
          "execution_count": 86
        }
      ]
    },
    {
      "cell_type": "code",
      "metadata": {
        "id": "nnTlbOxVSYIZ",
        "outputId": "5689bc66-ceb3-4dce-8bbc-f18b772d7aa3",
        "colab": {
          "base_uri": "https://localhost:8080/",
          "height": 420
        }
      },
      "source": [
        "g=sns.FacetGrid(df,col=\"Sex\")\n",
        "g.map(plt.hist,\"Titles\")\n",
        "g.fig.set_figwidth(19)\n",
        "g.fig.set_figheight(7)"
      ],
      "execution_count": 87,
      "outputs": [
        {
          "output_type": "display_data",
          "data": {
            "image/png": "[encoded data removed]",
            "text/plain": [
              "<Figure size 1368x504 with 2 Axes>"
            ]
          },
          "metadata": {
            "tags": [],
            "needs_background": "light"
          }
        }
      ]
    },
    {
      "cell_type": "code",
      "metadata": {
        "id": "NWSuttyASeQ7",
        "outputId": "718031c6-8ddc-475c-cde9-3b41b61947d4",
        "colab": {
          "base_uri": "https://localhost:8080/",
          "height": 616
        }
      },
      "source": [
        "g=sns.FacetGrid(df,col=\"Titles\")\n",
        "g.map(plt.hist,\"Age\")\n",
        "g.fig.set_figwidth(23)\n",
        "g.fig.set_figheight(15)"
      ],
      "execution_count": 88,
      "outputs": [
        {
          "output_type": "display_data",
          "data": {
            "image/png": "[encoded data removed]",
            "text/plain": [
              "<Figure size 1656x1080 with 17 Axes>"
            ]
          },
          "metadata": {
            "tags": [],
            "needs_background": "light"
          }
        }
      ]
    },
    {
      "cell_type": "code",
      "metadata": {
        "id": "A7M93mNsSpXV",
        "outputId": "cda2d773-513f-4187-d8a3-ddc9f9f72bce",
        "colab": {
          "base_uri": "https://localhost:8080/",
          "height": 736
        }
      },
      "source": [
        "g=sns.FacetGrid(df,col=\"Titles\")\n",
        "g.map(plt.hist,\"Fare\")\n",
        "g.fig.set_figwidth(19)\n",
        "g.fig.set_figheight(15)"
      ],
      "execution_count": 90,
      "outputs": [
        {
          "output_type": "display_data",
          "data": {
            "image/png": "[encoded data removed]",
            "text/plain": [
              "<Figure size 1368x1080 with 17 Axes>"
            ]
          },
          "metadata": {
            "tags": [],
            "needs_background": "light"
          }
        }
      ]
    },
    {
      "cell_type": "code",
      "metadata": {
        "id": "f9JVy0qYTCu6",
        "outputId": "1976751e-e957-4a19-888b-e7bb4f6903c0",
        "colab": {
          "base_uri": "https://localhost:8080/",
          "height": 381
        }
      },
      "source": [
        "g=sns.FacetGrid(df,col=\"Titles\")\n",
        "g.map(plt.hist,\"SibSp\")\n",
        "g.fig.set_figwidth(19)\n",
        "g.fig.set_figheight(7)"
      ],
      "execution_count": 98,
      "outputs": [
        {
          "output_type": "display_data",
          "data": {
            "image/png": "[encoded data removed]",
            "text/plain": [
              "<Figure size 1368x504 with 17 Axes>"
            ]
          },
          "metadata": {
            "tags": [],
            "needs_background": "light"
          }
        }
      ]
    },
    {
      "cell_type": "code",
      "metadata": {
        "id": "hLLChk1FTwJX"
      },
      "source": [
        ""
      ],
      "execution_count": null,
      "outputs": []
    },
    {
      "cell_type": "code",
      "metadata": {
        "id": "rLpb8Je8TJXN",
        "outputId": "0bbe2b3f-cb93-42bb-8f61-940992da71f9",
        "colab": {
          "base_uri": "https://localhost:8080/",
          "height": 381
        }
      },
      "source": [
        "g=sns.FacetGrid(df,col=\"Titles\")\n",
        "g.map(plt.hist,\"Parch\")\n",
        "g.fig.set_figwidth(19)\n",
        "g.fig.set_figheight(7)"
      ],
      "execution_count": 97,
      "outputs": [
        {
          "output_type": "display_data",
          "data": {
            "image/png": "[encoded data removed]",
            "text/plain": [
              "<Figure size 1368x504 with 17 Axes>"
            ]
          },
          "metadata": {
            "tags": [],
            "needs_background": "light"
          }
        }
      ]
    },
    {
      "cell_type": "code",
      "metadata": {
        "id": "U4Bcc3suUAJL",
        "outputId": "de7d381c-07b6-4b1b-a8ad-9fd02f69360b",
        "colab": {
          "base_uri": "https://localhost:8080/",
          "height": 419
        }
      },
      "source": [
        "newcolumn=[]\n",
        "for i in range(891):\n",
        "  newcolumn.append(df.loc[i,\"SibSp\"]+df.loc[i,\"Parch\"])\n",
        "df[\"FamilySize\"]=newcolumn\n",
        "df"
      ],
      "execution_count": 102,
      "outputs": [
        {
          "output_type": "execute_result",
          "data": {
            "text/html": [
              "<div>\n",
              "<style scoped>\n",
              "    .dataframe tbody tr th:only-of-type {\n",
              "        vertical-align: middle;\n",
              "    }\n",
              "\n",
              "    .dataframe tbody tr th {\n",
              "        vertical-align: top;\n",
              "    }\n",
              "\n",
              "    .dataframe thead th {\n",
              "        text-align: right;\n",
              "    }\n",
              "</style>\n",
              "<table border=\"1\" class=\"dataframe\">\n",
              "  <thead>\n",
              "    <tr style=\"text-align: right;\">\n",
              "      <th></th>\n",
              "      <th>PassengerId</th>\n",
              "      <th>Survived</th>\n",
              "      <th>Pclass</th>\n",
              "      <th>Name</th>\n",
              "      <th>Sex</th>\n",
              "      <th>Age</th>\n",
              "      <th>SibSp</th>\n",
              "      <th>Parch</th>\n",
              "      <th>Ticket</th>\n",
              "      <th>Fare</th>\n",
              "      <th>Embarked</th>\n",
              "      <th>Titles</th>\n",
              "      <th>FamilySize</th>\n",
              "    </tr>\n",
              "  </thead>\n",
              "  <tbody>\n",
              "    <tr>\n",
              "      <th>0</th>\n",
              "      <td>343</td>\n",
              "      <td>No</td>\n",
              "      <td>2</td>\n",
              "      <td>Collander, Mr. Erik Gustaf</td>\n",
              "      <td>male</td>\n",
              "      <td>28.000000</td>\n",
              "      <td>0</td>\n",
              "      <td>0</td>\n",
              "      <td>248740</td>\n",
              "      <td>13.0000</td>\n",
              "      <td>S</td>\n",
              "      <td>Mr</td>\n",
              "      <td>0</td>\n",
              "    </tr>\n",
              "    <tr>\n",
              "      <th>1</th>\n",
              "      <td>76</td>\n",
              "      <td>No</td>\n",
              "      <td>3</td>\n",
              "      <td>Moen, Mr. Sigurd Hansen</td>\n",
              "      <td>male</td>\n",
              "      <td>25.000000</td>\n",
              "      <td>0</td>\n",
              "      <td>0</td>\n",
              "      <td>348123</td>\n",
              "      <td>7.6500</td>\n",
              "      <td>S</td>\n",
              "      <td>Mr</td>\n",
              "      <td>0</td>\n",
              "    </tr>\n",
              "    <tr>\n",
              "      <th>2</th>\n",
              "      <td>641</td>\n",
              "      <td>No</td>\n",
              "      <td>3</td>\n",
              "      <td>Jensen, Mr. Hans Peder</td>\n",
              "      <td>male</td>\n",
              "      <td>20.000000</td>\n",
              "      <td>0</td>\n",
              "      <td>0</td>\n",
              "      <td>350050</td>\n",
              "      <td>7.8542</td>\n",
              "      <td>S</td>\n",
              "      <td>Mr</td>\n",
              "      <td>0</td>\n",
              "    </tr>\n",
              "    <tr>\n",
              "      <th>3</th>\n",
              "      <td>568</td>\n",
              "      <td>No</td>\n",
              "      <td>3</td>\n",
              "      <td>Palsson, Mrs. Nils (Alma Cornelia Berglund)</td>\n",
              "      <td>female</td>\n",
              "      <td>29.000000</td>\n",
              "      <td>0</td>\n",
              "      <td>4</td>\n",
              "      <td>349909</td>\n",
              "      <td>21.0750</td>\n",
              "      <td>S</td>\n",
              "      <td>Mrs</td>\n",
              "      <td>4</td>\n",
              "    </tr>\n",
              "    <tr>\n",
              "      <th>4</th>\n",
              "      <td>672</td>\n",
              "      <td>No</td>\n",
              "      <td>1</td>\n",
              "      <td>Davidson, Mr. Thornton</td>\n",
              "      <td>male</td>\n",
              "      <td>31.000000</td>\n",
              "      <td>1</td>\n",
              "      <td>0</td>\n",
              "      <td>F.C. 12750</td>\n",
              "      <td>52.0000</td>\n",
              "      <td>S</td>\n",
              "      <td>Mr</td>\n",
              "      <td>1</td>\n",
              "    </tr>\n",
              "    <tr>\n",
              "      <th>...</th>\n",
              "      <td>...</td>\n",
              "      <td>...</td>\n",
              "      <td>...</td>\n",
              "      <td>...</td>\n",
              "      <td>...</td>\n",
              "      <td>...</td>\n",
              "      <td>...</td>\n",
              "      <td>...</td>\n",
              "      <td>...</td>\n",
              "      <td>...</td>\n",
              "      <td>...</td>\n",
              "      <td>...</td>\n",
              "      <td>...</td>\n",
              "    </tr>\n",
              "    <tr>\n",
              "      <th>886</th>\n",
              "      <td>10</td>\n",
              "      <td>Yes</td>\n",
              "      <td>2</td>\n",
              "      <td>Nasser, Mrs. Nicholas (Adele Achem)</td>\n",
              "      <td>female</td>\n",
              "      <td>14.000000</td>\n",
              "      <td>1</td>\n",
              "      <td>0</td>\n",
              "      <td>237736</td>\n",
              "      <td>30.0708</td>\n",
              "      <td>C</td>\n",
              "      <td>Mrs</td>\n",
              "      <td>1</td>\n",
              "    </tr>\n",
              "    <tr>\n",
              "      <th>887</th>\n",
              "      <td>61</td>\n",
              "      <td>No</td>\n",
              "      <td>3</td>\n",
              "      <td>Sirayanian, Mr. Orsen</td>\n",
              "      <td>male</td>\n",
              "      <td>22.000000</td>\n",
              "      <td>0</td>\n",
              "      <td>0</td>\n",
              "      <td>2669</td>\n",
              "      <td>7.2292</td>\n",
              "      <td>C</td>\n",
              "      <td>Mr</td>\n",
              "      <td>0</td>\n",
              "    </tr>\n",
              "    <tr>\n",
              "      <th>888</th>\n",
              "      <td>535</td>\n",
              "      <td>No</td>\n",
              "      <td>3</td>\n",
              "      <td>Cacic, Miss. Marija</td>\n",
              "      <td>female</td>\n",
              "      <td>30.000000</td>\n",
              "      <td>0</td>\n",
              "      <td>0</td>\n",
              "      <td>315084</td>\n",
              "      <td>8.6625</td>\n",
              "      <td>S</td>\n",
              "      <td>Miss</td>\n",
              "      <td>0</td>\n",
              "    </tr>\n",
              "    <tr>\n",
              "      <th>889</th>\n",
              "      <td>102</td>\n",
              "      <td>No</td>\n",
              "      <td>3</td>\n",
              "      <td>Petroff, Mr. Pastcho (\"Pentcho\")</td>\n",
              "      <td>male</td>\n",
              "      <td>29.699118</td>\n",
              "      <td>0</td>\n",
              "      <td>0</td>\n",
              "      <td>349215</td>\n",
              "      <td>7.8958</td>\n",
              "      <td>S</td>\n",
              "      <td>Mr</td>\n",
              "      <td>0</td>\n",
              "    </tr>\n",
              "    <tr>\n",
              "      <th>890</th>\n",
              "      <td>428</td>\n",
              "      <td>Yes</td>\n",
              "      <td>2</td>\n",
              "      <td>Phillips, Miss. Kate Florence (\"Mrs Kate Louis...</td>\n",
              "      <td>female</td>\n",
              "      <td>19.000000</td>\n",
              "      <td>0</td>\n",
              "      <td>0</td>\n",
              "      <td>250655</td>\n",
              "      <td>26.0000</td>\n",
              "      <td>S</td>\n",
              "      <td>Miss</td>\n",
              "      <td>0</td>\n",
              "    </tr>\n",
              "  </tbody>\n",
              "</table>\n",
              "<p>891 rows × 13 columns</p>\n",
              "</div>"
            ],
            "text/plain": [
              "     PassengerId Survived  Pclass  ... Embarked Titles  FamilySize\n",
              "0            343       No       2  ...        S     Mr           0\n",
              "1             76       No       3  ...        S     Mr           0\n",
              "2            641       No       3  ...        S     Mr           0\n",
              "3            568       No       3  ...        S    Mrs           4\n",
              "4            672       No       1  ...        S     Mr           1\n",
              "..           ...      ...     ...  ...      ...    ...         ...\n",
              "886           10      Yes       2  ...        C    Mrs           1\n",
              "887           61       No       3  ...        C     Mr           0\n",
              "888          535       No       3  ...        S   Miss           0\n",
              "889          102       No       3  ...        S     Mr           0\n",
              "890          428      Yes       2  ...        S   Miss           0\n",
              "\n",
              "[891 rows x 13 columns]"
            ]
          },
          "metadata": {
            "tags": []
          },
          "execution_count": 102
        }
      ]
    },
    {
      "cell_type": "code",
      "metadata": {
        "id": "ZSKIE5CMVROk",
        "outputId": "081441bd-cbac-46a4-8ce0-942b847c73cb",
        "colab": {
          "base_uri": "https://localhost:8080/",
          "height": 423
        }
      },
      "source": [
        "g=sns.FacetGrid(df,col=\"Survived\")\n",
        "g.map(plt.hist,\"FamilySize\")\n",
        "g.fig.set_figwidth(19)\n",
        "g.fig.set_figheight(7)"
      ],
      "execution_count": 104,
      "outputs": [
        {
          "output_type": "display_data",
          "data": {
            "image/png": "[encoded data removed]",
            "text/plain": [
              "<Figure size 1368x504 with 2 Axes>"
            ]
          },
          "metadata": {
            "tags": [],
            "needs_background": "light"
          }
        }
      ]
    },
    {
      "cell_type": "code",
      "metadata": {
        "id": "z0dYZZUeWIA4",
        "outputId": "43c39b7f-52a5-4e5a-a4d8-d7b0d71bc078",
        "colab": {
          "base_uri": "https://localhost:8080/",
          "height": 420
        }
      },
      "source": [
        "g=sns.FacetGrid(df,col=\"Survived\")\n",
        "g.map(plt.hist,\"Parch\")\n",
        "g.fig.set_figwidth(19)\n",
        "g.fig.set_figheight(7)"
      ],
      "execution_count": 106,
      "outputs": [
        {
          "output_type": "display_data",
          "data": {
            "image/png": "[encoded data removed]",
            "text/plain": [
              "<Figure size 1368x504 with 2 Axes>"
            ]
          },
          "metadata": {
            "tags": [],
            "needs_background": "light"
          }
        }
      ]
    },
    {
      "cell_type": "code",
      "metadata": {
        "id": "k6ayay9VWIuU",
        "outputId": "8c6d8062-1681-4401-b5a3-f973ba96e226",
        "colab": {
          "base_uri": "https://localhost:8080/",
          "height": 444
        }
      },
      "source": [
        "g=sns.FacetGrid(df,col=\"Survived\")\n",
        "g.map(plt.hist,\"SibSp\")\n",
        "g.fig.set_figwidth(19)\n",
        "g.fig.set_figheight(7)"
      ],
      "execution_count": 105,
      "outputs": [
        {
          "output_type": "display_data",
          "data": {
            "image/png": "[encoded data removed]",
            "text/plain": [
              "<Figure size 1368x504 with 2 Axes>"
            ]
          },
          "metadata": {
            "tags": [],
            "needs_background": "light"
          }
        }
      ]
    },
    {
      "cell_type": "markdown",
      "metadata": {
        "id": "QfGd74YIWN08"
      },
      "source": [
        "the familysize feature helps us compare the survival ratings with more precision. also we can use it to compare it with other features so it is useful"
      ]
    },
    {
      "cell_type": "code",
      "metadata": {
        "id": "q7GDUQmvWspk"
      },
      "source": [
        ""
      ],
      "execution_count": null,
      "outputs": []
    }
  ]
}