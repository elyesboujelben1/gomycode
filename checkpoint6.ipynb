{
  "nbformat": 4,
  "nbformat_minor": 0,
  "metadata": {
    "colab": {
      "name": "checkpoint6.ipynb",
      "provenance": [],
      "collapsed_sections": [],
      "authorship_tag": "ABX9TyMEodusQB0snL9gxDjH5538",
      "include_colab_link": true
    },
    "kernelspec": {
      "name": "python3",
      "display_name": "Python 3"
    }
  },
  "cells": [
    {
      "cell_type": "markdown",
      "metadata": {
        "id": "view-in-github",
        "colab_type": "text"
      },
      "source": [
        "<a href=\"https://colab.research.google.com/github/elyesboujelben1/gomycode/blob/main/checkpoint6.ipynb\" target=\"_parent\"><img src=\"https://colab.research.google.com/assets/colab-badge.svg\" alt=\"Open In Colab\"/></a>"
      ]
    },
    {
      "cell_type": "code",
      "metadata": {
        "id": "W5DNBecNlNfn"
      },
      "source": [
        "import csv\n",
        "\n",
        "import random\n",
        "\n",
        "def loadDataset(filename, split, trainingSet=[] , testSet=[]):\n",
        "\n",
        "  with open(filename, 'r') as csvfile:\n",
        "\n",
        "    lines = csv.reader(csvfile)\n",
        "\n",
        "    dataset = list(lines)\n",
        "\n",
        "    for x in range(len(dataset)-1):\n",
        "\n",
        "        for y in range(4):\n",
        "\n",
        "            dataset[x][y] = float(dataset[x][y])\n",
        "\n",
        "        if random.random() < split:\n",
        "\n",
        "              trainingSet.append(dataset[x])\n",
        "\n",
        "        else:\n",
        "\n",
        "              testSet.append(dataset[x])\n",
        "\n"
      ],
      "execution_count": 61,
      "outputs": []
    },
    {
      "cell_type": "code",
      "metadata": {
        "colab": {
          "base_uri": "https://localhost:8080/"
        },
        "id": "Ahc1jri-HYzz",
        "outputId": "3f44f93e-4cf1-4d8e-b00a-4923b5d12da2"
      },
      "source": [
        "trainingSet=[]\n",
        "testSet=[]\n",
        "loadDataset('iris.data.txt', 0.66, trainingSet, testSet)\n",
        "print ('Train: ' + repr(len(trainingSet)))\n",
        "print ('Test: ' + repr(len(testSet)) )\n"
      ],
      "execution_count": 62,
      "outputs": [
        {
          "output_type": "stream",
          "text": [
            "Train: 99\n",
            "Test: 50\n"
          ],
          "name": "stdout"
        }
      ]
    },
    {
      "cell_type": "code",
      "metadata": {
        "colab": {
          "base_uri": "https://localhost:8080/"
        },
        "id": "JeH6QXrALNGf",
        "outputId": "fa9dabb7-2056-4805-c3fe-8f09548cfa25"
      },
      "source": [
        "import math\n",
        "def euclideanDistance(instance1, instance2, length):\n",
        "  valeur=0\n",
        "  for i in range (length):\n",
        "    valeur=valeur+pow(instance1[i]-instance2[i],2)\n",
        "  \n",
        "  return(math.sqrt(valeur))\n",
        "data1 = [2, 2, 2, 'a']\n",
        "\n",
        "data2 = [4, 4, 4, 'b']\n",
        "\n",
        "distance = euclideanDistance(data1, data2, 3)\n",
        "\n",
        "print ('Distance: ' + repr(distance))\n"
      ],
      "execution_count": 63,
      "outputs": [
        {
          "output_type": "stream",
          "text": [
            "Distance: 3.4641016151377544\n"
          ],
          "name": "stdout"
        }
      ]
    },
    {
      "cell_type": "code",
      "metadata": {
        "id": "bTh39rVclgwN"
      },
      "source": [
        "import operator\n",
        "\n",
        "def getNeighbors(trainingSet, testInstance, k):\n",
        "\n",
        "  distances = []\n",
        "\n",
        "  length = len(testInstance)-1\n",
        "\n",
        "  for x in range(len(trainingSet)):\n",
        "\n",
        "    dist = euclideanDistance(testInstance, trainingSet[x], length)\n",
        "\n",
        "    distances.append((trainingSet[x], dist))\n",
        "\n",
        "  distances.sort(key=operator.itemgetter(1))\n",
        "\n",
        "  neighbors = []\n",
        "\n",
        "  for x in range(k):\n",
        "\n",
        "    neighbors.append(distances[x][0])\n",
        "  return neighbors"
      ],
      "execution_count": 64,
      "outputs": []
    },
    {
      "cell_type": "code",
      "metadata": {
        "id": "JhoxIReQovge"
      },
      "source": [
        "trainSet = [[2, 2, 2, 'a'], [4, 4, 4, 'b']]\n",
        "\n",
        "testInstance = [5, 5, 5]\n",
        "\n",
        "k = 1\n",
        "\n",
        "neighbors = getNeighbors(trainSet, testInstance, 1)\n",
        "\n"
      ],
      "execution_count": 65,
      "outputs": []
    },
    {
      "cell_type": "code",
      "metadata": {
        "id": "GGAQ5uYHwTjc"
      },
      "source": [
        "import operator\n",
        "\n",
        "def getResponse(neighbors):\n",
        "\n",
        "  classVotes = {}\n",
        "\n",
        "  for x in range(len(neighbors)):\n",
        "\n",
        "    response = neighbors[x][ -1] #complete with appropriate number\n",
        "\n",
        "    if response in classVotes:\n",
        "      classVotes[response]+=1\n",
        "\n",
        "    else:\n",
        "      classVotes[response]=1\n",
        "  sortedVotes = sorted(classVotes.items(), key=operator.itemgetter(1), reverse=True)\n",
        "\n",
        "  return sortedVotes[0][0]"
      ],
      "execution_count": 66,
      "outputs": []
    },
    {
      "cell_type": "code",
      "metadata": {
        "colab": {
          "base_uri": "https://localhost:8080/"
        },
        "id": "JTrkZyVDxdW-",
        "outputId": "e64ad04a-979d-4a1d-cdc5-e92fed5ff5b5"
      },
      "source": [
        "neighbors = [[1,1,1,'a'], [2,2,2,'a'], [3,3,3,'b']]\n",
        "\n",
        "response = getResponse(neighbors)\n",
        "\n",
        "print(response)"
      ],
      "execution_count": 67,
      "outputs": [
        {
          "output_type": "stream",
          "text": [
            "a\n"
          ],
          "name": "stdout"
        }
      ]
    },
    {
      "cell_type": "code",
      "metadata": {
        "colab": {
          "base_uri": "https://localhost:8080/"
        },
        "id": "sqMOf8oDHXGP",
        "outputId": "f0258fb2-566c-45d8-ca92-6526b0b3a7d1"
      },
      "source": [
        "def getAccuracy(testSet, predictions):\n",
        "  liste=[]\n",
        "  correct=0\n",
        "  for i in range (len(testSet)):\n",
        "    liste.append(testSet[i][-1])\n",
        "  for i in range(len(liste)):\n",
        "    if liste[i]==predictions[i]:\n",
        "      correct+=1\n",
        "  return (correct/float(len(testSet))) * 100.0\n",
        "\n",
        "\n",
        "\n",
        "testSet = [[1,1,1,'a'], [2,2,2,'a'], [3,3,3,'b']]\n",
        "\n",
        "predictions = ['a', 'a', 'a']\n",
        "\n",
        "accuracy = getAccuracy(testSet, predictions)\n",
        "\n",
        "print(accuracy)\n",
        "\n"
      ],
      "execution_count": 68,
      "outputs": [
        {
          "output_type": "stream",
          "text": [
            "66.66666666666666\n"
          ],
          "name": "stdout"
        }
      ]
    },
    {
      "cell_type": "code",
      "metadata": {
        "colab": {
          "base_uri": "https://localhost:8080/"
        },
        "id": "qoZ923mCTirH",
        "outputId": "738a7c6a-5566-43fb-ca22-54b124af70d8"
      },
      "source": [
        "def main():\n",
        "\t# prepare data\n",
        "\ttrainingSet=[]\n",
        "\ttestSet=[]\n",
        "\tsplit = 0.67\n",
        "\tloadDataset('iris.data.txt', split, trainingSet, testSet)\n",
        "\tprint ('Train set: ' + repr(len(trainingSet)))\n",
        "\tprint ('Test set: ' + repr(len(testSet)))\n",
        "\t# generate predictions\n",
        "\tpredictions=[]\n",
        "\tk = 3\n",
        "\tfor x in range(len(testSet)):\n",
        "\t\tneighbors = getNeighbors(trainingSet, testSet[x], k)\n",
        "\t\tresult = getResponse(neighbors)\n",
        "\t\tpredictions.append(result)\n",
        "\taccuracy = getAccuracy(testSet, predictions)\n",
        "\tprint('Accuracy: ' + repr(accuracy) + '%')\n",
        "\t\n",
        "main()"
      ],
      "execution_count": 69,
      "outputs": [
        {
          "output_type": "stream",
          "text": [
            "Train set: 113\n",
            "Test set: 36\n",
            "Accuracy: 94.44444444444444%\n"
          ],
          "name": "stdout"
        }
      ]
    },
    {
      "cell_type": "code",
      "metadata": {
        "id": "oll_GwSIWooV"
      },
      "source": [
        "def manhattan_distance(a, b):\n",
        "\treturn sum(abs(e1-e2) for e1, e2 in zip(a,b))\n",
        "import operator\n",
        "\n",
        "def getNeighborsb(trainingSet, testInstance):\n",
        "\n",
        "  distances = []\n",
        "\n",
        "  length = len(testInstance)-1\n",
        "\n",
        "  for x in range(len(trainingSet)):\n",
        "\n",
        "    dist = manhattan_distance(testInstance, trainingSet[x], length)\n",
        "\n",
        "    distances.append((trainingSet[x], dist))\n",
        "\n",
        "  distances.sort(key=operator.itemgetter(1))\n",
        "\n",
        "  neighbors = []\n",
        "\n",
        "  for x in range(k):\n",
        "\n",
        "    neighbors.append(distances[x][0])\n",
        "  return neighbors"
      ],
      "execution_count": 71,
      "outputs": []
    },
    {
      "cell_type": "code",
      "metadata": {
        "colab": {
          "base_uri": "https://localhost:8080/"
        },
        "id": "5mRiWb9WY3Uk",
        "outputId": "55183985-b8d4-4b51-ae7c-faa16bdba7e7"
      },
      "source": [
        "def mainb():\n",
        "\t# prepare data\n",
        "\ttrainingSet=[]\n",
        "\ttestSet=[]\n",
        "\tsplit = 0.67\n",
        "\tloadDataset('iris.data.txt', split, trainingSet, testSet)\n",
        "\tprint ('Train set: ' + repr(len(trainingSet)))\n",
        "\tprint ('Test set: ' + repr(len(testSet)))\n",
        "\t# generate predictions\n",
        "\tpredictions=[]\n",
        "\tk = 3\n",
        "\tfor x in range(len(testSet)):\n",
        "\t\tneighbors = getNeighborsb(trainingSet, testSet[x], k)\n",
        "\t\tresult = getResponse(neighbors)\n",
        "\t\tpredictions.append(result)\n",
        "\taccuracy = getAccuracy(testSet, predictions)\n",
        "\tprint('Accuracy: ' + repr(accuracy) + '%')\n",
        "\t\n",
        "main()"
      ],
      "execution_count": 72,
      "outputs": [
        {
          "output_type": "stream",
          "text": [
            "Train set: 90\n",
            "Test set: 59\n",
            "Accuracy: 100.0%\n"
          ],
          "name": "stdout"
        }
      ]
    }
  ]
}